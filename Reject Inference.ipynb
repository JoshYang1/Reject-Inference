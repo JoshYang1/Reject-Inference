{
 "cells": [
  {
   "cell_type": "code",
   "execution_count": 1,
   "metadata": {},
   "outputs": [],
   "source": [
    "import numpy as np\n",
    "import pandas as pd\n",
    "import RIfunctions as ri"
   ]
  },
  {
   "cell_type": "code",
   "execution_count": 2,
   "metadata": {},
   "outputs": [
    {
     "name": "stderr",
     "output_type": "stream",
     "text": [
      "C:\\Users\\joshy\\AppData\\Roaming\\Python\\Python38\\site-packages\\numpy\\lib\\arraysetops.py:580: FutureWarning: elementwise comparison failed; returning scalar instead, but in the future will perform elementwise comparison\n",
      "  mask |= (ar1 == a)\n"
     ]
    }
   ],
   "source": [
    "application_df = pd.read_csv('input_file_1.csv', sep = ',', index_col=0)\n",
    "accept_df = pd.read_csv('input_file_2.csv', sep = ',', index_col=0)"
   ]
  },
  {
   "cell_type": "code",
   "execution_count": 3,
   "metadata": {},
   "outputs": [],
   "source": [
    "# Filter for instances that were before 2016 as we know the accepted loans default status\n",
    "# and should only infer those rejected applications for the same period\n",
    "\n",
    "accept_df['issue_d'] = pd.to_datetime(accept_df['issue_d'])\n",
    "application_df['issue_d'] = pd.to_datetime(application_df['issue_d'])\n",
    "\n",
    "accept_df = accept_df.loc[accept_df['issue_d'] < '2016-1-1']\n",
    "application_df = application_df.loc[application_df['issue_d'] < '2016-1-1']"
   ]
  },
  {
   "cell_type": "code",
   "execution_count": 4,
   "metadata": {},
   "outputs": [
    {
     "data": {
      "text/plain": [
       "1    5704123\n",
       "0     646878\n",
       "Name: rejected, dtype: int64"
      ]
     },
     "execution_count": 4,
     "metadata": {},
     "output_type": "execute_result"
    }
   ],
   "source": [
    "application_df['rejected'].value_counts()"
   ]
  },
  {
   "cell_type": "code",
   "execution_count": 5,
   "metadata": {},
   "outputs": [
    {
     "data": {
      "text/plain": [
       "0    516026\n",
       "1    130852\n",
       "Name: charged_off, dtype: int64"
      ]
     },
     "execution_count": 5,
     "metadata": {},
     "output_type": "execute_result"
    }
   ],
   "source": [
    "accept_df['charged_off'].value_counts()"
   ]
  },
  {
   "cell_type": "code",
   "execution_count": 6,
   "metadata": {},
   "outputs": [
    {
     "data": {
      "text/plain": [
       "(646878, 21)"
      ]
     },
     "execution_count": 6,
     "metadata": {},
     "output_type": "execute_result"
    }
   ],
   "source": [
    "accept_df.shape"
   ]
  },
  {
   "cell_type": "code",
   "execution_count": 7,
   "metadata": {},
   "outputs": [],
   "source": [
    "rejects = application_df.loc[application_df[\"rejected\"] ==1]"
   ]
  },
  {
   "cell_type": "code",
   "execution_count": 8,
   "metadata": {},
   "outputs": [],
   "source": [
    "# Simple assignment\n",
    "\n",
    "ri_df = pd.concat([accept_df, rejects], axis=0, ignore_index=True)\n",
    "ri_df.loc[ri_df['rejected'] == 1, 'charged_off'] = 1\n"
   ]
  },
  {
   "cell_type": "code",
   "execution_count": 9,
   "metadata": {},
   "outputs": [],
   "source": [
    "# Random assignment\n",
    "\n",
    "# neg, pos = np.bincount(accept_df['charged_off'])\n",
    "# total = neg + pos\n",
    "# reject_rate = pos / total\n",
    "\n",
    "# print('Default Rate:\\n    Total: {}\\n    Positive: {} ({:.2f}% of total)\\n'.format(\n",
    "#     total, pos, 100 * pos / total))\n",
    "\n",
    "# random_assign_rate = reject_rate * 3.5\n",
    "\n",
    "# print(reject_rate)\n",
    "# print(random_assign_rate)\n",
    "\n",
    "# # Higher the fraction, bigger the sample\n",
    "# split_BAD = rejects.sample(frac = random_assign_rate, random_state=1)\n",
    "# split_GOOD = rejects.drop(split_BAD.index)\n",
    "\n",
    "# split_BAD['charged_off'] = 1\n",
    "# split_GOOD = split_GOOD.assign(charged_off= 0)\n",
    "\n",
    "# ri_df = pd.concat([accept_df, split_BAD, split_GOOD], axis=0, ignore_index=True)"
   ]
  },
  {
   "cell_type": "code",
   "execution_count": 10,
   "metadata": {},
   "outputs": [
    {
     "data": {
      "text/plain": [
       "1.0    5834975\n",
       "0.0     516026\n",
       "Name: charged_off, dtype: int64"
      ]
     },
     "execution_count": 10,
     "metadata": {},
     "output_type": "execute_result"
    }
   ],
   "source": [
    "ri_df['charged_off'].value_counts()"
   ]
  },
  {
   "cell_type": "code",
   "execution_count": 11,
   "metadata": {},
   "outputs": [
    {
     "name": "stdout",
     "output_type": "stream",
     "text": [
      "(6351001, 6)\n",
      "(6351001, 22)\n"
     ]
    }
   ],
   "source": [
    "print(application_df.shape)\n",
    "print(ri_df.shape)"
   ]
  },
  {
   "cell_type": "code",
   "execution_count": 12,
   "metadata": {},
   "outputs": [],
   "source": [
    "ri_df.drop('rejected', axis=1, inplace=True)"
   ]
  },
  {
   "cell_type": "code",
   "execution_count": 13,
   "metadata": {},
   "outputs": [],
   "source": [
    "nan_cols = [i for i in ri_df.columns if ri_df[i].isna().any()]\n",
    "nan_cols = [e for e in nan_cols if e not in ('emp_length', 'purpose')]"
   ]
  },
  {
   "cell_type": "code",
   "execution_count": 14,
   "metadata": {},
   "outputs": [],
   "source": [
    "ri_df.drop(nan_cols, axis=1, inplace=True)"
   ]
  },
  {
   "cell_type": "code",
   "execution_count": 15,
   "metadata": {},
   "outputs": [],
   "source": [
    "ri_df = ri.purposeCleaning(ri_df)"
   ]
  },
  {
   "cell_type": "code",
   "execution_count": 16,
   "metadata": {},
   "outputs": [
    {
     "name": "stdout",
     "output_type": "stream",
     "text": [
      "(6149437, 6)\n"
     ]
    }
   ],
   "source": [
    "print(ri_df.shape)"
   ]
  },
  {
   "cell_type": "code",
   "execution_count": 17,
   "metadata": {},
   "outputs": [],
   "source": [
    "ri_df.to_csv('RI_Accept.csv', mode='w+')"
   ]
  }
 ],
 "metadata": {
  "kernelspec": {
   "display_name": "Python 3.8.8 ('base')",
   "language": "python",
   "name": "python3"
  },
  "language_info": {
   "codemirror_mode": {
    "name": "ipython",
    "version": 3
   },
   "file_extension": ".py",
   "mimetype": "text/x-python",
   "name": "python",
   "nbconvert_exporter": "python",
   "pygments_lexer": "ipython3",
   "version": "3.8.8"
  },
  "orig_nbformat": 4,
  "vscode": {
   "interpreter": {
    "hash": "653ef3dff1567b17fc742ba82e2411e657a18e82067de2bcca7734cac483dd3c"
   }
  }
 },
 "nbformat": 4,
 "nbformat_minor": 2
}
