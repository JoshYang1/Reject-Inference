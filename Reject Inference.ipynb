{
 "cells": [
  {
   "cell_type": "code",
   "execution_count": 171,
   "metadata": {},
   "outputs": [],
   "source": [
    "import numpy as np\n",
    "import pandas as pd\n",
    "import RIfunctions as ri"
   ]
  },
  {
   "cell_type": "code",
   "execution_count": 172,
   "metadata": {},
   "outputs": [
    {
     "name": "stderr",
     "output_type": "stream",
     "text": [
      "C:\\Users\\joshy\\AppData\\Roaming\\Python\\Python38\\site-packages\\numpy\\lib\\arraysetops.py:580: FutureWarning: elementwise comparison failed; returning scalar instead, but in the future will perform elementwise comparison\n",
      "  mask |= (ar1 == a)\n"
     ]
    }
   ],
   "source": [
    "ri_application_df = pd.read_csv('AR Scores.csv', sep = ',', index_col=0)\n",
    "accept_df = pd.read_csv('input_file_2.csv', sep = ',', index_col=0)"
   ]
  },
  {
   "cell_type": "code",
   "execution_count": 173,
   "metadata": {},
   "outputs": [],
   "source": [
    "# Filter for instances that were before 2016 as we know the accepted loans default status\n",
    "# and should only infer those rejected applications for the same period\n",
    "\n",
    "accept_df['issue_d'] = pd.to_datetime(accept_df['issue_d'])\n",
    "ri_application_df['issue_d'] = pd.to_datetime(ri_application_df['issue_d'])\n",
    "\n",
    "accept_df = accept_df.loc[accept_df['issue_d'] < '2016-1-1']\n",
    "ri_application_df = ri_application_df.loc[ri_application_df['issue_d'] < '2016-1-1']"
   ]
  },
  {
   "cell_type": "code",
   "execution_count": 174,
   "metadata": {},
   "outputs": [],
   "source": [
    "# Rows with Educational purpose have been dropped in the application dataset\n",
    "\n",
    "accept_df = accept_df.drop(accept_df[accept_df['purpose'] == 'educational'].index)"
   ]
  },
  {
   "cell_type": "code",
   "execution_count": 175,
   "metadata": {},
   "outputs": [
    {
     "name": "stdout",
     "output_type": "stream",
     "text": [
      "(646555, 21)\n",
      "1    5544926\n",
      "0     646555\n",
      "Name: rejected, dtype: int64\n"
     ]
    }
   ],
   "source": [
    "print(accept_df.shape)\n",
    "print(ri_application_df['rejected'].value_counts())"
   ]
  },
  {
   "cell_type": "code",
   "execution_count": 176,
   "metadata": {},
   "outputs": [
    {
     "name": "stdout",
     "output_type": "stream",
     "text": [
      "Index(['loan_amnt', 'term', 'installment', 'emp_length', 'home_ownership',\n",
      "       'verification_status', 'issue_d', 'purpose', 'dti', 'earliest_cr_line',\n",
      "       'open_acc', 'pub_rec', 'revol_util', 'total_acc', 'application_type',\n",
      "       'mort_acc', 'pub_rec_bankruptcies', 'log_annual_inc', 'fico_score',\n",
      "       'log_revol_bal', 'charged_off'],\n",
      "      dtype='object')\n",
      "Index(['dti', 'emp_length', 'issue_d', 'loan_amnt', 'rejected',\n",
      "       'purpose_Business', 'purpose_car', 'purpose_credit_card',\n",
      "       'purpose_debt_consolidation', 'purpose_home_improvement',\n",
      "       'purpose_house', 'purpose_major_purchase', 'purpose_medical',\n",
      "       'purpose_moving', 'purpose_other', 'purpose_renewable_energy',\n",
      "       'purpose_small_business', 'purpose_vacation', 'purpose_wedding',\n",
      "       'score'],\n",
      "      dtype='object')\n"
     ]
    }
   ],
   "source": [
    "print(accept_df.columns)\n",
    "print(ri_application_df.columns)"
   ]
  },
  {
   "cell_type": "code",
   "execution_count": 177,
   "metadata": {},
   "outputs": [],
   "source": [
    "rejects = ri_application_df.loc[ri_application_df[\"rejected\"] ==1]"
   ]
  },
  {
   "cell_type": "code",
   "execution_count": 71,
   "metadata": {},
   "outputs": [],
   "source": [
    "# # Simple assignment\n",
    "\n",
    "# ri_df = pd.concat([accept_df, rejects], axis=0, ignore_index=True)\n",
    "# ri_df.loc[ri_df['rejected'] == 1, 'charged_off'] = 1\n"
   ]
  },
  {
   "cell_type": "code",
   "execution_count": 72,
   "metadata": {},
   "outputs": [],
   "source": [
    "# Random assignment\n",
    "\n",
    "# neg, pos = np.bincount(accept_df['charged_off'])\n",
    "# total = neg + pos\n",
    "# reject_rate = pos / total\n",
    "\n",
    "# print('Default Rate:\\n    Total: {}\\n    Positive: {} ({:.2f}% of total)\\n'.format(\n",
    "#     total, pos, 100 * pos / total))\n",
    "\n",
    "# random_assign_rate = reject_rate * 3.5\n",
    "\n",
    "# print(reject_rate)\n",
    "# print(random_assign_rate)\n",
    "\n",
    "# # Higher the fraction, bigger the sample\n",
    "# split_BAD = rejects.sample(frac = random_assign_rate, random_state=1)\n",
    "# split_GOOD = rejects.drop(split_BAD.index)\n",
    "\n",
    "# split_BAD['charged_off'] = 1\n",
    "# split_GOOD = split_GOOD.assign(charged_off= 0)\n",
    "\n",
    "# ri_df = pd.concat([accept_df, split_BAD, split_GOOD], axis=0, ignore_index=True)"
   ]
  },
  {
   "cell_type": "code",
   "execution_count": null,
   "metadata": {},
   "outputs": [],
   "source": [
    "# # Assignment final cleaning\n",
    "\n",
    "# ri_df.drop('rejected', axis=1, inplace=True)\n",
    "# nan_cols = [i for i in ri_df.columns if ri_df[i].isna().any()]\n",
    "# nan_cols = [e for e in nan_cols if e not in ('emp_length', 'purpose')]\n",
    "# ri_df.drop(nan_cols, axis=1, inplace=True)\n",
    "# ri_df = ri.purposeCleaning(ri_df)"
   ]
  },
  {
   "cell_type": "code",
   "execution_count": 178,
   "metadata": {},
   "outputs": [],
   "source": [
    "# Augmentation\n",
    "\n",
    "ri_application_df.sort_values(inplace=True, by=\"score\", ascending = False)\n",
    "accept_count = ri_application_df.loc[ri_application_df[\"rejected\"] == 0, \"rejected\"].count()\n",
    "\n",
    "aug_df = ri_application_df\n",
    "aug_df['accept_score'] = 1 - aug_df['score']\n",
    "intervals = np.array_split(aug_df, 10)\n",
    "\n",
    "for band in intervals:\n",
    "    accepts = band.loc[band[\"rejected\"] == 0, \"rejected\"].count()\n",
    "    rejects = band.loc[band[\"rejected\"] == 1, \"rejected\"].count()\n",
    "    weight = (rejects + accepts) / accepts\n",
    "    band.drop(band[band['rejected'] == 1].index, inplace=True)\n",
    "    band['weight'] = weight\n",
    "\n",
    "aug_df=pd.concat(intervals)\n",
    "aug_df.drop_duplicates(inplace=True)\n",
    "ri_df = accept_df.merge(aug_df, on=[\"dti\",\"emp_length\",\"issue_d\",\"loan_amnt\",\"purpose\"], how = 'inner')\n",
    "print(ri_df.shape[0] - accept_df.shape[0])\n",
    "ri_df.head()"
   ]
  },
  {
   "cell_type": "code",
   "execution_count": 187,
   "metadata": {},
   "outputs": [],
   "source": [
    "ri_df.to_csv('RI_Accept.csv', mode='w+')"
   ]
  }
 ],
 "metadata": {
  "kernelspec": {
   "display_name": "Python 3.8.8 ('base')",
   "language": "python",
   "name": "python3"
  },
  "language_info": {
   "codemirror_mode": {
    "name": "ipython",
    "version": 3
   },
   "file_extension": ".py",
   "mimetype": "text/x-python",
   "name": "python",
   "nbconvert_exporter": "python",
   "pygments_lexer": "ipython3",
   "version": "3.8.8"
  },
  "orig_nbformat": 4,
  "vscode": {
   "interpreter": {
    "hash": "653ef3dff1567b17fc742ba82e2411e657a18e82067de2bcca7734cac483dd3c"
   }
  }
 },
 "nbformat": 4,
 "nbformat_minor": 2
}
