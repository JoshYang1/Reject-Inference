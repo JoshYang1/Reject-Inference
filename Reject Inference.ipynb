{
 "cells": [
  {
   "cell_type": "code",
   "execution_count": 5,
   "metadata": {},
   "outputs": [],
   "source": [
    "import pandas as pd\n",
    "import RIfunctions as ri"
   ]
  },
  {
   "cell_type": "code",
   "execution_count": 6,
   "metadata": {},
   "outputs": [],
   "source": [
    "application_df = pd.read_csv('input_file_1.csv', sep = ',', index_col=0)\n",
    "accept_df = pd.read_csv('input_file_2.csv', sep = ',', index_col=0)"
   ]
  },
  {
   "cell_type": "code",
   "execution_count": 8,
   "metadata": {},
   "outputs": [
    {
     "data": {
      "text/plain": [
       "1    14739886\n",
       "0      814643\n",
       "Name: rejected, dtype: int64"
      ]
     },
     "execution_count": 8,
     "metadata": {},
     "output_type": "execute_result"
    }
   ],
   "source": [
    "application_df['rejected'].value_counts()"
   ]
  },
  {
   "cell_type": "code",
   "execution_count": 9,
   "metadata": {},
   "outputs": [],
   "source": [
    "rejects = application_df[application_df['rejected'] == 1]"
   ]
  },
  {
   "cell_type": "code",
   "execution_count": 10,
   "metadata": {},
   "outputs": [
    {
     "data": {
      "text/plain": [
       "(814643, 21)"
      ]
     },
     "execution_count": 10,
     "metadata": {},
     "output_type": "execute_result"
    }
   ],
   "source": [
    "accept_df.shape"
   ]
  },
  {
   "cell_type": "code",
   "execution_count": 11,
   "metadata": {},
   "outputs": [
    {
     "data": {
      "text/html": [
       "<div>\n",
       "<style scoped>\n",
       "    .dataframe tbody tr th:only-of-type {\n",
       "        vertical-align: middle;\n",
       "    }\n",
       "\n",
       "    .dataframe tbody tr th {\n",
       "        vertical-align: top;\n",
       "    }\n",
       "\n",
       "    .dataframe thead th {\n",
       "        text-align: right;\n",
       "    }\n",
       "</style>\n",
       "<table border=\"1\" class=\"dataframe\">\n",
       "  <thead>\n",
       "    <tr style=\"text-align: right;\">\n",
       "      <th></th>\n",
       "      <th>dti</th>\n",
       "      <th>emp_length</th>\n",
       "      <th>issue_d</th>\n",
       "      <th>loan_amnt</th>\n",
       "      <th>purpose</th>\n",
       "      <th>rejected</th>\n",
       "    </tr>\n",
       "  </thead>\n",
       "  <tbody>\n",
       "    <tr>\n",
       "      <th>0</th>\n",
       "      <td>4.21</td>\n",
       "      <td>5.0</td>\n",
       "      <td>2016-07-01</td>\n",
       "      <td>4000.0</td>\n",
       "      <td>major_purchase</td>\n",
       "      <td>1</td>\n",
       "    </tr>\n",
       "    <tr>\n",
       "      <th>1</th>\n",
       "      <td>0.39</td>\n",
       "      <td>0.0</td>\n",
       "      <td>2016-07-01</td>\n",
       "      <td>20000.0</td>\n",
       "      <td>debt_consolidation</td>\n",
       "      <td>1</td>\n",
       "    </tr>\n",
       "    <tr>\n",
       "      <th>2</th>\n",
       "      <td>42.38</td>\n",
       "      <td>5.0</td>\n",
       "      <td>2016-07-01</td>\n",
       "      <td>1000.0</td>\n",
       "      <td>renewable_energy</td>\n",
       "      <td>1</td>\n",
       "    </tr>\n",
       "    <tr>\n",
       "      <th>3</th>\n",
       "      <td>5.98</td>\n",
       "      <td>5.0</td>\n",
       "      <td>2016-07-01</td>\n",
       "      <td>15000.0</td>\n",
       "      <td>home_improvement</td>\n",
       "      <td>1</td>\n",
       "    </tr>\n",
       "    <tr>\n",
       "      <th>4</th>\n",
       "      <td>29.14</td>\n",
       "      <td>0.0</td>\n",
       "      <td>2016-07-01</td>\n",
       "      <td>8500.0</td>\n",
       "      <td>debt_consolidation</td>\n",
       "      <td>1</td>\n",
       "    </tr>\n",
       "    <tr>\n",
       "      <th>...</th>\n",
       "      <td>...</td>\n",
       "      <td>...</td>\n",
       "      <td>...</td>\n",
       "      <td>...</td>\n",
       "      <td>...</td>\n",
       "      <td>...</td>\n",
       "    </tr>\n",
       "    <tr>\n",
       "      <th>16131467</th>\n",
       "      <td>16.08</td>\n",
       "      <td>0.0</td>\n",
       "      <td>2015-12-31</td>\n",
       "      <td>7500.0</td>\n",
       "      <td>major_purchase</td>\n",
       "      <td>1</td>\n",
       "    </tr>\n",
       "    <tr>\n",
       "      <th>16131468</th>\n",
       "      <td>2.34</td>\n",
       "      <td>5.0</td>\n",
       "      <td>2015-12-31</td>\n",
       "      <td>12000.0</td>\n",
       "      <td>major_purchase</td>\n",
       "      <td>1</td>\n",
       "    </tr>\n",
       "    <tr>\n",
       "      <th>16131469</th>\n",
       "      <td>17.00</td>\n",
       "      <td>0.0</td>\n",
       "      <td>2015-12-31</td>\n",
       "      <td>30000.0</td>\n",
       "      <td>major_purchase</td>\n",
       "      <td>1</td>\n",
       "    </tr>\n",
       "    <tr>\n",
       "      <th>16131470</th>\n",
       "      <td>0.60</td>\n",
       "      <td>0.0</td>\n",
       "      <td>2015-12-31</td>\n",
       "      <td>2000.0</td>\n",
       "      <td>debt_consolidation</td>\n",
       "      <td>1</td>\n",
       "    </tr>\n",
       "    <tr>\n",
       "      <th>16131471</th>\n",
       "      <td>8.77</td>\n",
       "      <td>0.0</td>\n",
       "      <td>2015-12-31</td>\n",
       "      <td>10000.0</td>\n",
       "      <td>moving</td>\n",
       "      <td>1</td>\n",
       "    </tr>\n",
       "  </tbody>\n",
       "</table>\n",
       "<p>14739886 rows × 6 columns</p>\n",
       "</div>"
      ],
      "text/plain": [
       "            dti  emp_length    issue_d  loan_amnt             purpose  \\\n",
       "0          4.21         5.0 2016-07-01     4000.0      major_purchase   \n",
       "1          0.39         0.0 2016-07-01    20000.0  debt_consolidation   \n",
       "2         42.38         5.0 2016-07-01     1000.0    renewable_energy   \n",
       "3          5.98         5.0 2016-07-01    15000.0    home_improvement   \n",
       "4         29.14         0.0 2016-07-01     8500.0  debt_consolidation   \n",
       "...         ...         ...        ...        ...                 ...   \n",
       "16131467  16.08         0.0 2015-12-31     7500.0      major_purchase   \n",
       "16131468   2.34         5.0 2015-12-31    12000.0      major_purchase   \n",
       "16131469  17.00         0.0 2015-12-31    30000.0      major_purchase   \n",
       "16131470   0.60         0.0 2015-12-31     2000.0  debt_consolidation   \n",
       "16131471   8.77         0.0 2015-12-31    10000.0              moving   \n",
       "\n",
       "          rejected  \n",
       "0                1  \n",
       "1                1  \n",
       "2                1  \n",
       "3                1  \n",
       "4                1  \n",
       "...            ...  \n",
       "16131467         1  \n",
       "16131468         1  \n",
       "16131469         1  \n",
       "16131470         1  \n",
       "16131471         1  \n",
       "\n",
       "[14739886 rows x 6 columns]"
      ]
     },
     "execution_count": 11,
     "metadata": {},
     "output_type": "execute_result"
    }
   ],
   "source": [
    "rejects"
   ]
  },
  {
   "cell_type": "code",
   "execution_count": 12,
   "metadata": {},
   "outputs": [],
   "source": [
    "ri_df = pd.concat([accept_df, rejects], axis=0, ignore_index=True)"
   ]
  },
  {
   "cell_type": "code",
   "execution_count": 13,
   "metadata": {},
   "outputs": [
    {
     "data": {
      "text/plain": [
       "0.0    646618\n",
       "1.0    168025\n",
       "Name: charged_off, dtype: int64"
      ]
     },
     "execution_count": 13,
     "metadata": {},
     "output_type": "execute_result"
    }
   ],
   "source": [
    "ri_df['charged_off'].value_counts()"
   ]
  },
  {
   "cell_type": "code",
   "execution_count": 14,
   "metadata": {},
   "outputs": [],
   "source": [
    "ri_df.loc[ri_df['rejected'] == 1, 'charged_off'] = 1"
   ]
  },
  {
   "cell_type": "code",
   "execution_count": 15,
   "metadata": {},
   "outputs": [
    {
     "data": {
      "text/plain": [
       "1.0    14907911\n",
       "0.0      646618\n",
       "Name: charged_off, dtype: int64"
      ]
     },
     "execution_count": 15,
     "metadata": {},
     "output_type": "execute_result"
    }
   ],
   "source": [
    "ri_df['charged_off'].value_counts()"
   ]
  },
  {
   "cell_type": "code",
   "execution_count": 16,
   "metadata": {},
   "outputs": [],
   "source": [
    "ri_df.drop('rejected', axis=1, inplace=True)"
   ]
  },
  {
   "cell_type": "code",
   "execution_count": 17,
   "metadata": {},
   "outputs": [],
   "source": [
    "nan_cols = [i for i in ri_df.columns if ri_df[i].isna().any()]\n",
    "nan_cols = [e for e in nan_cols if e not in ('emp_length', 'purpose')]"
   ]
  },
  {
   "cell_type": "code",
   "execution_count": 18,
   "metadata": {},
   "outputs": [],
   "source": [
    "ri_df.drop(nan_cols, axis=1, inplace=True)"
   ]
  },
  {
   "cell_type": "code",
   "execution_count": 19,
   "metadata": {},
   "outputs": [
    {
     "name": "stderr",
     "output_type": "stream",
     "text": [
      "c:\\Users\\joshy\\OneDrive - Heriot-Watt University\\Documents\\Heriot Watt\\Year 2\\MSc Project\\Reject-Inference\\RIfunctions.py:19: SettingWithCopyWarning: \n",
      "A value is trying to be set on a copy of a slice from a DataFrame.\n",
      "Try using .loc[row_indexer,col_indexer] = value instead\n",
      "\n",
      "See the caveats in the documentation: https://pandas.pydata.org/pandas-docs/stable/user_guide/indexing.html#returning-a-view-versus-a-copy\n",
      "  df['purpose'] = df['purpose'].replace(to_replace)\n"
     ]
    }
   ],
   "source": [
    "ri_df = ri.purposeCleaning(ri_df)"
   ]
  },
  {
   "cell_type": "code",
   "execution_count": 23,
   "metadata": {},
   "outputs": [],
   "source": [
    "ri_df.to_csv('RI_Accept.csv')"
   ]
  },
  {
   "cell_type": "code",
   "execution_count": null,
   "metadata": {},
   "outputs": [],
   "source": []
  }
 ],
 "metadata": {
  "kernelspec": {
   "display_name": "Python 3.8.8 ('base')",
   "language": "python",
   "name": "python3"
  },
  "language_info": {
   "codemirror_mode": {
    "name": "ipython",
    "version": 3
   },
   "file_extension": ".py",
   "mimetype": "text/x-python",
   "name": "python",
   "nbconvert_exporter": "python",
   "pygments_lexer": "ipython3",
   "version": "3.8.8"
  },
  "orig_nbformat": 4,
  "vscode": {
   "interpreter": {
    "hash": "653ef3dff1567b17fc742ba82e2411e657a18e82067de2bcca7734cac483dd3c"
   }
  }
 },
 "nbformat": 4,
 "nbformat_minor": 2
}
