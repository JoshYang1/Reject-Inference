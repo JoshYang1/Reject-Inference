{
 "cells": [
  {
   "cell_type": "code",
   "execution_count": 1,
   "metadata": {},
   "outputs": [],
   "source": [
    "import numpy as np\n",
    "import pandas as pd\n",
    "import RIfunctions as ri"
   ]
  },
  {
   "cell_type": "code",
   "execution_count": 2,
   "metadata": {},
   "outputs": [
    {
     "name": "stderr",
     "output_type": "stream",
     "text": [
      "C:\\Users\\joshy\\AppData\\Roaming\\Python\\Python38\\site-packages\\numpy\\lib\\arraysetops.py:580: FutureWarning: elementwise comparison failed; returning scalar instead, but in the future will perform elementwise comparison\n",
      "  mask |= (ar1 == a)\n"
     ]
    }
   ],
   "source": [
    "ri_application_df = pd.read_csv('AR Scores.csv', sep = ',', index_col=0)\n",
    "accept_df = pd.read_csv('input_file_2.csv', sep = ',', index_col=0)"
   ]
  },
  {
   "cell_type": "code",
   "execution_count": 3,
   "metadata": {},
   "outputs": [],
   "source": [
    "# Filter for instances that were before 2016 as we know the accepted loans default status\n",
    "# and should only infer those rejected applications for the same period\n",
    "\n",
    "accept_df['issue_d'] = pd.to_datetime(accept_df['issue_d'])\n",
    "ri_application_df['issue_d'] = pd.to_datetime(ri_application_df['issue_d'])\n",
    "\n",
    "accept_df = accept_df.loc[accept_df['issue_d'] < '2016-1-1']\n",
    "ri_application_df = ri_application_df.loc[ri_application_df['issue_d'] < '2016-1-1']"
   ]
  },
  {
   "cell_type": "code",
   "execution_count": 4,
   "metadata": {},
   "outputs": [],
   "source": [
    "# Rows with Educational purpose have been dropped in the application dataset\n",
    "\n",
    "accept_df = accept_df.drop(accept_df[accept_df['purpose'] == 'educational'].index)"
   ]
  },
  {
   "cell_type": "code",
   "execution_count": 5,
   "metadata": {},
   "outputs": [
    {
     "name": "stdout",
     "output_type": "stream",
     "text": [
      "(646555, 21)\n",
      "1    5544926\n",
      "0     646555\n",
      "Name: rejected, dtype: int64\n"
     ]
    }
   ],
   "source": [
    "print(accept_df.shape)\n",
    "print(ri_application_df['rejected'].value_counts())"
   ]
  },
  {
   "cell_type": "code",
   "execution_count": 6,
   "metadata": {},
   "outputs": [
    {
     "name": "stdout",
     "output_type": "stream",
     "text": [
      "Index(['loan_amnt', 'term', 'installment', 'emp_length', 'home_ownership',\n",
      "       'verification_status', 'issue_d', 'purpose', 'dti', 'earliest_cr_line',\n",
      "       'open_acc', 'pub_rec', 'revol_util', 'total_acc', 'application_type',\n",
      "       'mort_acc', 'pub_rec_bankruptcies', 'log_annual_inc', 'fico_score',\n",
      "       'log_revol_bal', 'charged_off'],\n",
      "      dtype='object')\n",
      "Index(['dti', 'emp_length', 'issue_d', 'loan_amnt', 'rejected', 'score',\n",
      "       'purpose'],\n",
      "      dtype='object')\n"
     ]
    }
   ],
   "source": [
    "print(accept_df.columns)\n",
    "print(ri_application_df.columns)"
   ]
  },
  {
   "cell_type": "code",
   "execution_count": 7,
   "metadata": {},
   "outputs": [],
   "source": [
    "rejects = ri_application_df.loc[ri_application_df[\"rejected\"] ==1]"
   ]
  },
  {
   "cell_type": "code",
   "execution_count": 8,
   "metadata": {},
   "outputs": [],
   "source": [
    "# # Simple assignment\n",
    "\n",
    "# ri_df = pd.concat([accept_df, rejects], axis=0, ignore_index=True)\n",
    "# ri_df.loc[ri_df['rejected'] == 1, 'charged_off'] = 1\n"
   ]
  },
  {
   "cell_type": "code",
   "execution_count": 9,
   "metadata": {},
   "outputs": [],
   "source": [
    "# Random assignment\n",
    "\n",
    "# neg, pos = np.bincount(accept_df['charged_off'])\n",
    "# total = neg + pos\n",
    "# reject_rate = pos / total\n",
    "\n",
    "# print('Default Rate:\\n    Total: {}\\n    Positive: {} ({:.2f}% of total)\\n'.format(\n",
    "#     total, pos, 100 * pos / total))\n",
    "\n",
    "# random_assign_rate = reject_rate * 3.5\n",
    "\n",
    "# print(reject_rate)\n",
    "# print(random_assign_rate)\n",
    "\n",
    "# # Higher the fraction, bigger the sample\n",
    "# split_BAD = rejects.sample(frac = random_assign_rate, random_state=1)\n",
    "# split_GOOD = rejects.drop(split_BAD.index)\n",
    "\n",
    "# split_BAD['charged_off'] = 1\n",
    "# split_GOOD = split_GOOD.assign(charged_off= 0)\n",
    "\n",
    "# ri_df = pd.concat([accept_df, split_BAD, split_GOOD], axis=0, ignore_index=True)"
   ]
  },
  {
   "cell_type": "code",
   "execution_count": 10,
   "metadata": {},
   "outputs": [],
   "source": [
    "# # Assignment final cleaning\n",
    "\n",
    "# ri_df.drop('rejected', axis=1, inplace=True)\n",
    "# nan_cols = [i for i in ri_df.columns if ri_df[i].isna().any()]\n",
    "# nan_cols = [e for e in nan_cols if e not in ('emp_length', 'purpose')]\n",
    "# ri_df.drop(nan_cols, axis=1, inplace=True)\n",
    "# ri_df = ri.purposeCleaning(ri_df)"
   ]
  },
  {
   "cell_type": "code",
   "execution_count": 11,
   "metadata": {},
   "outputs": [],
   "source": [
    "# # Augmentation\n",
    "\n",
    "# ri_application_df.sort_values(inplace=True, by=\"score\", ascending = False)\n",
    "# # accept_count = ri_application_df.loc[ri_application_df[\"rejected\"] == 0, \"rejected\"].count()\n",
    "\n",
    "# aug_df = ri_application_df\n",
    "# aug_df['accept_score'] = 1 - aug_df['score']\n",
    "# intervals = np.array_split(aug_df, 10)\n",
    "\n",
    "# for band in intervals:\n",
    "#     accepts = band.loc[band[\"rejected\"] == 0, \"rejected\"].count()\n",
    "#     rejects = band.loc[band[\"rejected\"] == 1, \"rejected\"].count()\n",
    "#     weight = (rejects + accepts) / accepts\n",
    "#     band.drop(band[band['rejected'] == 1].index, inplace=True)\n",
    "#     band['weight'] = weight\n",
    "\n",
    "# aug_df=pd.concat(intervals)\n",
    "# aug_df.drop_duplicates(inplace=True)\n",
    "# ri_df = accept_df.merge(aug_df, on=[\"dti\",\"emp_length\",\"issue_d\",\"loan_amnt\",\"purpose\"], how = 'inner')\n",
    "# print(ri_df.shape[0] - accept_df.shape[0])\n",
    "# ri_df.head()"
   ]
  },
  {
   "cell_type": "code",
   "execution_count": 32,
   "metadata": {},
   "outputs": [
    {
     "name": "stderr",
     "output_type": "stream",
     "text": [
      "<ipython-input-32-4f4884ec88fa>:8: SettingWithCopyWarning: \n",
      "A value is trying to be set on a copy of a slice from a DataFrame\n",
      "\n",
      "See the caveats in the documentation: https://pandas.pydata.org/pandas-docs/stable/user_guide/indexing.html#returning-a-view-versus-a-copy\n",
      "  parcel_df_accept.drop_duplicates(inplace=True)\n"
     ]
    }
   ],
   "source": [
    "# Parcelling\n",
    "\n",
    "ri_application_df.sort_values(inplace=True, by=\"score\", ascending = False)\n",
    "\n",
    "parcel_df_reject = ri_application_df.loc[ri_application_df[\"rejected\"] == 1]\n",
    "parcel_df_accept = ri_application_df.loc[ri_application_df[\"rejected\"] == 0]\n",
    "\n",
    "parcel_df_accept.drop_duplicates(inplace=True)\n",
    "\n",
    "accept_scores = accept_df.merge(parcel_df_accept, on=[\"dti\",\"emp_length\",\"issue_d\",\"loan_amnt\",\"purpose\"], how = 'left')\n",
    "\n",
    "# unsure of the number of intervals\n",
    "reject_intervals = np.array_split(parcel_df_reject, 10)\n",
    "accept_intervals = np.array_split(parcel_df_accept, 10)\n",
    "\n",
    "# counter = 0\n",
    "\n",
    "# for reject_band in intervals:\n",
    "#     bad_rate = accept_intervals[counter][]\n",
    "\n",
    "\n",
    "\n",
    "#     # accepts = band.loc[band[\"rejected\"] == 0, \"rejected\"].count()\n",
    "#     # rejects = band.loc[band[\"rejected\"] == 1, \"rejected\"].count()\n",
    "#     # weight = (rejects + accepts) / accepts\n",
    "#     band.drop(band[band['rejected'] == 1].index, inplace=True)\n",
    "#     band['weight'] = weight\n",
    "\n",
    "# aug_df=pd.concat(intervals)\n",
    "# aug_df.drop_duplicates(inplace=True)\n",
    "\n",
    "# print(ri_df.shape[0] - accept_df.shape[0])\n",
    "# ri_df.head()"
   ]
  },
  {
   "cell_type": "code",
   "execution_count": 33,
   "metadata": {},
   "outputs": [
    {
     "name": "stdout",
     "output_type": "stream",
     "text": [
      "1    5544926\n",
      "0     646555\n",
      "Name: rejected, dtype: int64\n",
      "(5544926, 7)\n",
      "(643808, 7)\n",
      "(646555, 23)\n",
      "(646555, 21)\n"
     ]
    }
   ],
   "source": [
    "print(ri_application_df['rejected'].value_counts())\n",
    "print(parcel_df_reject.shape)\n",
    "print(parcel_df_accept.shape)\n",
    "print(accept_scores.shape)\n",
    "print(accept_df.shape)"
   ]
  },
  {
   "cell_type": "code",
   "execution_count": 31,
   "metadata": {},
   "outputs": [
    {
     "data": {
      "text/plain": [
       "False    643808\n",
       "True       2747\n",
       "dtype: int64"
      ]
     },
     "execution_count": 31,
     "metadata": {},
     "output_type": "execute_result"
    }
   ],
   "source": [
    "parcel_df_accept.duplicated().value_counts()"
   ]
  },
  {
   "cell_type": "code",
   "execution_count": 13,
   "metadata": {},
   "outputs": [
    {
     "ename": "NameError",
     "evalue": "name 'ri_df' is not defined",
     "output_type": "error",
     "traceback": [
      "\u001b[1;31m---------------------------------------------------------------------------\u001b[0m",
      "\u001b[1;31mNameError\u001b[0m                                 Traceback (most recent call last)",
      "\u001b[1;32m<ipython-input-13-ab1b8b70f1a3>\u001b[0m in \u001b[0;36m<module>\u001b[1;34m\u001b[0m\n\u001b[1;32m----> 1\u001b[1;33m \u001b[0mri_df\u001b[0m\u001b[1;33m.\u001b[0m\u001b[0mto_csv\u001b[0m\u001b[1;33m(\u001b[0m\u001b[1;34m'RI_Accept.csv'\u001b[0m\u001b[1;33m,\u001b[0m \u001b[0mmode\u001b[0m\u001b[1;33m=\u001b[0m\u001b[1;34m'w+'\u001b[0m\u001b[1;33m)\u001b[0m\u001b[1;33m\u001b[0m\u001b[1;33m\u001b[0m\u001b[0m\n\u001b[0m",
      "\u001b[1;31mNameError\u001b[0m: name 'ri_df' is not defined"
     ]
    }
   ],
   "source": [
    "ri_df.to_csv('RI_Accept.csv', mode='w+')"
   ]
  }
 ],
 "metadata": {
  "kernelspec": {
   "display_name": "Python 3.8.8 ('base')",
   "language": "python",
   "name": "python3"
  },
  "language_info": {
   "codemirror_mode": {
    "name": "ipython",
    "version": 3
   },
   "file_extension": ".py",
   "mimetype": "text/x-python",
   "name": "python",
   "nbconvert_exporter": "python",
   "pygments_lexer": "ipython3",
   "version": "3.8.8"
  },
  "orig_nbformat": 4,
  "vscode": {
   "interpreter": {
    "hash": "653ef3dff1567b17fc742ba82e2411e657a18e82067de2bcca7734cac483dd3c"
   }
  }
 },
 "nbformat": 4,
 "nbformat_minor": 2
}
