{
 "cells": [
  {
   "cell_type": "markdown",
   "metadata": {},
   "source": [
    "# Reject Inference Compiled Notebook #"
   ]
  },
  {
   "cell_type": "markdown",
   "metadata": {},
   "source": [
    "### Packages ###"
   ]
  },
  {
   "cell_type": "code",
   "execution_count": 1,
   "metadata": {},
   "outputs": [],
   "source": [
    "import pandas as pd\n",
    "import numpy as np\n",
    "from numpy import mean\n",
    "from numpy import std\n",
    "import matplotlib.pyplot as plt\n",
    "import seaborn as sns\n",
    "import joblib\n",
    "\n",
    "from sklearn.pipeline import Pipeline\n",
    "from sklearn.preprocessing import StandardScaler\n",
    "from sklearn.impute import KNNImputer, SimpleImputer\n",
    "from sklearn.model_selection import GridSearchCV, cross_val_score, RandomizedSearchCV\n",
    "from sklearn.linear_model import LogisticRegression\n",
    "from sklearn.metrics import recall_score, confusion_matrix, roc_auc_score, recall_score\n",
    "\n",
    "from imblearn.ensemble import BalancedRandomForestClassifier\n",
    "\n",
    "import RIfunctions as ri\n",
    "\n",
    "from scipy.stats import uniform"
   ]
  },
  {
   "cell_type": "markdown",
   "metadata": {},
   "source": [
    "### Variables ###"
   ]
  },
  {
   "cell_type": "code",
   "execution_count": 2,
   "metadata": {},
   "outputs": [],
   "source": [
    "RANDOM_STATE = 123\n",
    "CROSS_VALIDATION = 10\n",
    "results_df = pd.DataFrame()"
   ]
  },
  {
   "cell_type": "code",
   "execution_count": 3,
   "metadata": {},
   "outputs": [
    {
     "name": "stderr",
     "output_type": "stream",
     "text": [
      "C:\\Users\\joshy\\AppData\\Roaming\\Python\\Python38\\site-packages\\numpy\\lib\\arraysetops.py:580: FutureWarning: elementwise comparison failed; returning scalar instead, but in the future will perform elementwise comparison\n",
      "  mask |= (ar1 == a)\n"
     ]
    }
   ],
   "source": [
    "# Read CSV files into pandas dataframe\n",
    "application_df = pd.read_csv('input_file_1.csv', sep = ',', index_col=0)\n",
    "accept_df = pd.read_csv('input_file_2.csv', sep = ',', index_col=0)"
   ]
  },
  {
   "cell_type": "code",
   "execution_count": 4,
   "metadata": {},
   "outputs": [
    {
     "name": "stdout",
     "output_type": "stream",
     "text": [
      "(6351001, 6)\n",
      "(4149346, 5)\n"
     ]
    }
   ],
   "source": [
    "# Need to split the dataset early for a consistent test dataset\n",
    "# Removing instances from the application dataset so there is no knowledge\n",
    "\n",
    "'''Exclude the period from the beginning of 2016 onward as it is noticed in time-series plots that this period has\n",
    " a significant portion of the expected defaults not reported yet. This would hence be biased.'''\n",
    "\n",
    "accept_df['issue_d'] = pd.to_datetime(accept_df['issue_d'])\n",
    "application_df['issue_d'] = pd.to_datetime(application_df['issue_d'])\n",
    "\n",
    "application_df = application_df.loc[application_df['issue_d'] < '2016-1-1']\n",
    "accept_df = accept_df.loc[accept_df['issue_d'] < '2016-1-1']\n",
    "\n",
    "accept_train_df = accept_df.loc[accept_df['issue_d'] < accept_df['issue_d'].quantile(0.8)]\n",
    "accept_test_df = accept_df.loc[accept_df['issue_d'] >= accept_df['issue_d'].quantile(0.8)]\n",
    "\n",
    "print(application_df.shape)\n",
    "\n",
    "application_df = application_df.loc[application_df['issue_d'] <= max(accept_train_df[\"issue_d\"])]\n",
    "\n",
    "application_df = application_df.drop('issue_d', axis=1)\n",
    "accept_test_df = accept_test_df.drop('issue_d', axis=1)\n",
    "accept_train_df = accept_train_df.drop('issue_d', axis=1)\n",
    "\n",
    "print(application_df.shape)"
   ]
  },
  {
   "cell_type": "markdown",
   "metadata": {},
   "source": [
    "## Application Dataset ##"
   ]
  },
  {
   "cell_type": "markdown",
   "metadata": {},
   "source": [
    "### Pre-processing ###"
   ]
  },
  {
   "cell_type": "code",
   "execution_count": 5,
   "metadata": {},
   "outputs": [],
   "source": [
    "# Remove instances with a small number of purpose values and align all values\n",
    "\n",
    "application_df = ri.purposeCleaning(application_df)"
   ]
  },
  {
   "cell_type": "code",
   "execution_count": 6,
   "metadata": {},
   "outputs": [
    {
     "data": {
      "text/plain": [
       "<AxesSubplot:>"
      ]
     },
     "execution_count": 6,
     "metadata": {},
     "output_type": "execute_result"
    },
    {
     "data": {
      "image/png": "[encoded data removed]",
      "text/plain": [
       "<Figure size 432x288 with 2 Axes>"
      ]
     },
     "metadata": {
      "needs_background": "light"
     },
     "output_type": "display_data"
    }
   ],
   "source": [
    "corr = application_df.corr()\n",
    "\n",
    "sns.heatmap(corr, xticklabels=corr.columns.values, yticklabels=corr.columns.values)"
   ]
  },
  {
   "cell_type": "code",
   "execution_count": 7,
   "metadata": {},
   "outputs": [],
   "source": [
    "# Get dummies for the purpose variable as it is an object which cannot be interperted   \n",
    "\n",
    "application_df = pd.get_dummies(application_df, columns=['purpose'], drop_first=False)"
   ]
  },
  {
   "cell_type": "code",
   "execution_count": 8,
   "metadata": {},
   "outputs": [],
   "source": [
    "# Train the model on the full dataset. We are trying to build a pre-existing, trained model, not a new model.\n",
    "\n",
    "y_train = application_df['rejected']\n",
    "X_train = application_df.drop(['rejected'], axis=1)"
   ]
  },
  {
   "cell_type": "code",
   "execution_count": 9,
   "metadata": {},
   "outputs": [
    {
     "name": "stdout",
     "output_type": "stream",
     "text": [
      "Training Set:\n",
      "    Total: 3931748\n",
      "    Positive: 3432231 (87.30% of total)\n",
      "\n"
     ]
    }
   ],
   "source": [
    "neg, pos = np.bincount(application_df['rejected'])\n",
    "total = neg + pos\n",
    "print('Training Set:\\n    Total: {}\\n    Positive: {} ({:.2f}% of total)\\n'.format(\n",
    "    total, pos, 100 * pos / total))"
   ]
  },
  {
   "cell_type": "markdown",
   "metadata": {},
   "source": [
    "### Logistic Regression Model for Application Dataset ###"
   ]
  },
  {
   "cell_type": "code",
   "execution_count": 10,
   "metadata": {},
   "outputs": [],
   "source": [
    "# # # Optimisation\n",
    "\n",
    "# pipeline_sgdlogreg = Pipeline([\n",
    "#     # Alternative is KNNImputer\n",
    "#     ('imputer', SimpleImputer(copy=False)), # Mean imputation by default\n",
    "#     ('scaler', StandardScaler(copy=False)),\n",
    "#     ('model',LogisticRegression(\n",
    "#         class_weight='balanced',\n",
    "#         random_state=RANDOM_STATE,\n",
    "#         n_jobs=-2,\n",
    "#         warm_start=True\n",
    "#         )\n",
    "#     )\n",
    "# ])\n",
    "\n",
    "# param_grid_sgdlogreg = {\n",
    "#     'model__solver': ['newton-cg', 'lbfgs', 'sag', 'saga', 'liblinear']\n",
    "# }\n",
    "\n",
    "# grid_sgdlogreg = GridSearchCV(\n",
    "#     estimator=pipeline_sgdlogreg,\n",
    "#     param_grid=param_grid_sgdlogreg,\n",
    "#     scoring='roc_auc',\n",
    "#     pre_dispatch=3,\n",
    "#     n_jobs=-2,\n",
    "#     cv=CROSS_VALIDATION,\n",
    "#     verbose=1,\n",
    "#     return_train_score=False\n",
    "# )\n",
    "\n",
    "# grid_sgdlogreg.fit(X_train, y_train)\n",
    "\n",
    "# print(grid_sgdlogreg.best_estimator_,grid_sgdlogreg.best_params_, grid_sgdlogreg.best_score_)"
   ]
  },
  {
   "cell_type": "code",
   "execution_count": 11,
   "metadata": {},
   "outputs": [],
   "source": [
    "# Hyperparemeters already optimised\n",
    "\n",
    "pipeline_logreg = Pipeline([\n",
    "    ('imputer', SimpleImputer(copy=False)),\n",
    "    ('scaler', StandardScaler(copy=False)),\n",
    "    ('model', LogisticRegression(\n",
    "        class_weight='balanced',\n",
    "        max_iter=1000, \n",
    "        tol = 1e-3,\n",
    "        random_state=RANDOM_STATE,\n",
    "        n_jobs=-1,\n",
    "        warm_start=True,\n",
    "        solver = 'lbfgs'\n",
    "        )\n",
    "    )\n",
    "])"
   ]
  },
  {
   "cell_type": "code",
   "execution_count": 12,
   "metadata": {},
   "outputs": [
    {
     "data": {
      "text/html": [
       "<style>#sk-container-id-1 {color: black;background-color: white;}#sk-container-id-1 pre{padding: 0;}#sk-container-id-1 div.sk-toggleable {background-color: white;}#sk-container-id-1 label.sk-toggleable__label {cursor: pointer;display: block;width: 100%;margin-bottom: 0;padding: 0.3em;box-sizing: border-box;text-align: center;}#sk-container-id-1 label.sk-toggleable__label-arrow:before {content: \"▸\";float: left;margin-right: 0.25em;color: #696969;}#sk-container-id-1 label.sk-toggleable__label-arrow:hover:before {color: black;}#sk-container-id-1 div.sk-estimator:hover label.sk-toggleable__label-arrow:before {color: black;}#sk-container-id-1 div.sk-toggleable__content {max-height: 0;max-width: 0;overflow: hidden;text-align: left;background-color: #f0f8ff;}#sk-container-id-1 div.sk-toggleable__content pre {margin: 0.2em;color: black;border-radius: 0.25em;background-color: #f0f8ff;}#sk-container-id-1 input.sk-toggleable__control:checked~div.sk-toggleable__content {max-height: 200px;max-width: 100%;overflow: auto;}#sk-container-id-1 input.sk-toggleable__control:checked~label.sk-toggleable__label-arrow:before {content: \"▾\";}#sk-container-id-1 div.sk-estimator input.sk-toggleable__control:checked~label.sk-toggleable__label {background-color: #d4ebff;}#sk-container-id-1 div.sk-label input.sk-toggleable__control:checked~label.sk-toggleable__label {background-color: #d4ebff;}#sk-container-id-1 input.sk-hidden--visually {border: 0;clip: rect(1px 1px 1px 1px);clip: rect(1px, 1px, 1px, 1px);height: 1px;margin: -1px;overflow: hidden;padding: 0;position: absolute;width: 1px;}#sk-container-id-1 div.sk-estimator {font-family: monospace;background-color: #f0f8ff;border: 1px dotted black;border-radius: 0.25em;box-sizing: border-box;margin-bottom: 0.5em;}#sk-container-id-1 div.sk-estimator:hover {background-color: #d4ebff;}#sk-container-id-1 div.sk-parallel-item::after {content: \"\";width: 100%;border-bottom: 1px solid gray;flex-grow: 1;}#sk-container-id-1 div.sk-label:hover label.sk-toggleable__label {background-color: #d4ebff;}#sk-container-id-1 div.sk-serial::before {content: \"\";position: absolute;border-left: 1px solid gray;box-sizing: border-box;top: 0;bottom: 0;left: 50%;z-index: 0;}#sk-container-id-1 div.sk-serial {display: flex;flex-direction: column;align-items: center;background-color: white;padding-right: 0.2em;padding-left: 0.2em;position: relative;}#sk-container-id-1 div.sk-item {position: relative;z-index: 1;}#sk-container-id-1 div.sk-parallel {display: flex;align-items: stretch;justify-content: center;background-color: white;position: relative;}#sk-container-id-1 div.sk-item::before, #sk-container-id-1 div.sk-parallel-item::before {content: \"\";position: absolute;border-left: 1px solid gray;box-sizing: border-box;top: 0;bottom: 0;left: 50%;z-index: -1;}#sk-container-id-1 div.sk-parallel-item {display: flex;flex-direction: column;z-index: 1;position: relative;background-color: white;}#sk-container-id-1 div.sk-parallel-item:first-child::after {align-self: flex-end;width: 50%;}#sk-container-id-1 div.sk-parallel-item:last-child::after {align-self: flex-start;width: 50%;}#sk-container-id-1 div.sk-parallel-item:only-child::after {width: 0;}#sk-container-id-1 div.sk-dashed-wrapped {border: 1px dashed gray;margin: 0 0.4em 0.5em 0.4em;box-sizing: border-box;padding-bottom: 0.4em;background-color: white;}#sk-container-id-1 div.sk-label label {font-family: monospace;font-weight: bold;display: inline-block;line-height: 1.2em;}#sk-container-id-1 div.sk-label-container {text-align: center;}#sk-container-id-1 div.sk-container {/* jupyter's `normalize.less` sets `[hidden] { display: none; }` but bootstrap.min.css set `[hidden] { display: none !important; }` so we also need the `!important` here to be able to override the default hidden behavior on the sphinx rendered scikit-learn.org. See: https://github.com/scikit-learn/scikit-learn/issues/21755 */display: inline-block !important;position: relative;}#sk-container-id-1 div.sk-text-repr-fallback {display: none;}</style><div id=\"sk-container-id-1\" class=\"sk-top-container\"><div class=\"sk-text-repr-fallback\"><pre>Pipeline(steps=[(&#x27;imputer&#x27;, SimpleImputer(copy=False)),\n",
       "                (&#x27;scaler&#x27;, StandardScaler(copy=False)),\n",
       "                (&#x27;model&#x27;,\n",
       "                 LogisticRegression(class_weight=&#x27;balanced&#x27;, max_iter=1000,\n",
       "                                    n_jobs=-1, random_state=123, tol=0.001,\n",
       "                                    warm_start=True))])</pre><b>In a Jupyter environment, please rerun this cell to show the HTML representation or trust the notebook. <br />On GitHub, the HTML representation is unable to render, please try loading this page with nbviewer.org.</b></div><div class=\"sk-container\" hidden><div class=\"sk-item sk-dashed-wrapped\"><div class=\"sk-label-container\"><div class=\"sk-label sk-toggleable\"><input class=\"sk-toggleable__control sk-hidden--visually\" id=\"sk-estimator-id-1\" type=\"checkbox\" ><label for=\"sk-estimator-id-1\" class=\"sk-toggleable__label sk-toggleable__label-arrow\">Pipeline</label><div class=\"sk-toggleable__content\"><pre>Pipeline(steps=[(&#x27;imputer&#x27;, SimpleImputer(copy=False)),\n",
       "                (&#x27;scaler&#x27;, StandardScaler(copy=False)),\n",
       "                (&#x27;model&#x27;,\n",
       "                 LogisticRegression(class_weight=&#x27;balanced&#x27;, max_iter=1000,\n",
       "                                    n_jobs=-1, random_state=123, tol=0.001,\n",
       "                                    warm_start=True))])</pre></div></div></div><div class=\"sk-serial\"><div class=\"sk-item\"><div class=\"sk-estimator sk-toggleable\"><input class=\"sk-toggleable__control sk-hidden--visually\" id=\"sk-estimator-id-2\" type=\"checkbox\" ><label for=\"sk-estimator-id-2\" class=\"sk-toggleable__label sk-toggleable__label-arrow\">SimpleImputer</label><div class=\"sk-toggleable__content\"><pre>SimpleImputer(copy=False)</pre></div></div></div><div class=\"sk-item\"><div class=\"sk-estimator sk-toggleable\"><input class=\"sk-toggleable__control sk-hidden--visually\" id=\"sk-estimator-id-3\" type=\"checkbox\" ><label for=\"sk-estimator-id-3\" class=\"sk-toggleable__label sk-toggleable__label-arrow\">StandardScaler</label><div class=\"sk-toggleable__content\"><pre>StandardScaler(copy=False)</pre></div></div></div><div class=\"sk-item\"><div class=\"sk-estimator sk-toggleable\"><input class=\"sk-toggleable__control sk-hidden--visually\" id=\"sk-estimator-id-4\" type=\"checkbox\" ><label for=\"sk-estimator-id-4\" class=\"sk-toggleable__label sk-toggleable__label-arrow\">LogisticRegression</label><div class=\"sk-toggleable__content\"><pre>LogisticRegression(class_weight=&#x27;balanced&#x27;, max_iter=1000, n_jobs=-1,\n",
       "                   random_state=123, tol=0.001, warm_start=True)</pre></div></div></div></div></div></div></div>"
      ],
      "text/plain": [
       "Pipeline(steps=[('imputer', SimpleImputer(copy=False)),\n",
       "                ('scaler', StandardScaler(copy=False)),\n",
       "                ('model',\n",
       "                 LogisticRegression(class_weight='balanced', max_iter=1000,\n",
       "                                    n_jobs=-1, random_state=123, tol=0.001,\n",
       "                                    warm_start=True))])"
      ]
     },
     "execution_count": 12,
     "metadata": {},
     "output_type": "execute_result"
    }
   ],
   "source": [
    "pipeline_logreg.fit(X_train, y_train)"
   ]
  },
  {
   "cell_type": "code",
   "execution_count": 13,
   "metadata": {},
   "outputs": [
    {
     "name": "stdout",
     "output_type": "stream",
     "text": [
      "The cross-validation AUC for optimised LR model after a 10 fold cross validation: 0.913 (0.016)\n"
     ]
    }
   ],
   "source": [
    "cv_scores_lr = cross_val_score(estimator= pipeline_logreg, X=X_train, y=y_train, scoring='roc_auc', cv=CROSS_VALIDATION, n_jobs=-1)\n",
    "print(\"The cross-validation AUC for optimised LR model after a 10 fold cross validation: %.3f (%.3f)\" % (mean(cv_scores_lr), std(cv_scores_lr)))"
   ]
  },
  {
   "cell_type": "code",
   "execution_count": 14,
   "metadata": {},
   "outputs": [
    {
     "name": "stdout",
     "output_type": "stream",
     "text": [
      "0.9149395779299506 0.9099728427369836 0.774380051129391\n"
     ]
    }
   ],
   "source": [
    "# Scores of each application and model performance\n",
    "\n",
    "y_score = pipeline_logreg.predict_proba(X_train)[:,1]\n",
    "\n",
    "y_score_flag = [int(round(i)) for i in y_score]\n",
    "\n",
    "print(roc_auc_score(y_train, y_score), recall_score(y_train, y_score_flag, pos_label=1), recall_score(y_train, y_score_flag, pos_label=0))"
   ]
  },
  {
   "cell_type": "code",
   "execution_count": 15,
   "metadata": {},
   "outputs": [
    {
     "name": "stdout",
     "output_type": "stream",
     "text": [
      "Confusion matrix, without normalization\n",
      "[[ 386816  112701]\n",
      " [ 308994 3123237]]\n"
     ]
    },
    {
     "data": {
      "image/png": "[encoded data removed]",
      "text/plain": [
       "<Figure size 432x288 with 2 Axes>"
      ]
     },
     "metadata": {
      "needs_background": "light"
     },
     "output_type": "display_data"
    }
   ],
   "source": [
    "# Computing Confusion matrix for the above algorithm\n",
    "\n",
    "cnf_matrix = confusion_matrix(y_train, y_score_flag)\n",
    "np.set_printoptions(precision=2)\n",
    "\n",
    "# Plot non-normalized confusion matrix\n",
    "plt.figure()\n",
    "ri.plot_confusion_matrix(cnf_matrix, classes=[\"REJECT\", \"ACCEPT\"])\n",
    "\n",
    "plt.show()"
   ]
  },
  {
   "cell_type": "code",
   "execution_count": 16,
   "metadata": {},
   "outputs": [],
   "source": [
    "results_df = ri.AppendResults(df=results_df, title=\"LR Application Dataset\",\n",
    "AUC_scores=cv_scores_lr, y_test=y_train, y_score=y_score)\n"
   ]
  },
  {
   "cell_type": "markdown",
   "metadata": {},
   "source": [
    "### Save LR Results ###"
   ]
  },
  {
   "cell_type": "code",
   "execution_count": 17,
   "metadata": {},
   "outputs": [],
   "source": [
    "# Add score column to the dataframe\n",
    "\n",
    "application_df['score'] = np.hstack(y_score)"
   ]
  },
  {
   "cell_type": "code",
   "execution_count": 18,
   "metadata": {},
   "outputs": [],
   "source": [
    "# # Undummy the purpose column\n",
    "\n",
    "def undummy(d):\n",
    "    return d.dot(d.columns)\n",
    "\n",
    "application_df = application_df.assign(purpose=application_df.filter(regex='^purpose').pipe(undummy))\n",
    "application_df['purpose'] = application_df['purpose'].str.replace(\"purpose_\",\"\")\n",
    "application_df = application_df[application_df.columns.drop(list(application_df.filter(regex=\"purpose_\")))]"
   ]
  },
  {
   "cell_type": "code",
   "execution_count": 19,
   "metadata": {},
   "outputs": [],
   "source": [
    "# Save to CSV file\n",
    "\n",
    "application_df.to_csv('AR Scores.csv', mode='w+')"
   ]
  },
  {
   "cell_type": "markdown",
   "metadata": {},
   "source": [
    "## Accepted Loans Dataset ##"
   ]
  },
  {
   "cell_type": "markdown",
   "metadata": {},
   "source": [
    "### Pre-processing ###"
   ]
  },
  {
   "cell_type": "code",
   "execution_count": 20,
   "metadata": {},
   "outputs": [],
   "source": [
    "# Rows with Educational and Renewable Energy purpose have been dropped in the application dataset\n",
    "\n",
    "accept_train_df = accept_train_df.drop(accept_train_df[accept_train_df['purpose'] == 'educational'].index)\n",
    "accept_test_df = accept_test_df.drop(accept_test_df[accept_test_df['purpose'] == 'educational'].index)\n",
    "\n",
    "accept_train_df = accept_train_df.drop(accept_train_df[accept_train_df['purpose'] == 'renewable_energy'].index)\n",
    "accept_test_df = accept_test_df.drop(accept_test_df[accept_test_df['purpose'] == 'renewable_energy'].index)"
   ]
  },
  {
   "cell_type": "code",
   "execution_count": 21,
   "metadata": {},
   "outputs": [],
   "source": [
    "all_cols = list(accept_df.columns)\n",
    "all_cols.remove('charged_off')\n",
    "all_cols.remove('issue_d')\n",
    "\n",
    "to_drop_categorical = ['home_ownership', 'verification_status', 'purpose', 'application_type']\n",
    "\n",
    "for i in to_drop_categorical:\n",
    "\n",
    "    all_cols.remove(i)"
   ]
  },
  {
   "cell_type": "code",
   "execution_count": 22,
   "metadata": {},
   "outputs": [
    {
     "data": {
      "text/plain": [
       "<AxesSubplot:>"
      ]
     },
     "execution_count": 22,
     "metadata": {},
     "output_type": "execute_result"
    },
    {
     "data": {
      "image/png": "[encoded data removed]",
      "text/plain": [
       "<Figure size 432x288 with 2 Axes>"
      ]
     },
     "metadata": {
      "needs_background": "light"
     },
     "output_type": "display_data"
    }
   ],
   "source": [
    "corr = accept_df.corr()\n",
    "\n",
    "sns.heatmap(corr, xticklabels=corr.columns.values, yticklabels=corr.columns.values)"
   ]
  },
  {
   "cell_type": "code",
   "execution_count": 23,
   "metadata": {},
   "outputs": [],
   "source": [
    "# Application value did not exist in the training set but did in the test\n",
    "\n",
    "accept_train_df[\"at_Joint App\"] = 0\n",
    "\n",
    "accept_train_df_all = pd.get_dummies(accept_train_df,prefix=[\"ho\",\"vs\",\"purp\",\"at\"], columns=['home_ownership', 'verification_status', 'purpose', 'application_type'], drop_first=False)\n",
    "accept_test_df_all = pd.get_dummies(accept_test_df,prefix=[\"ho\",\"vs\",\"purp\",\"at\"], columns=['home_ownership', 'verification_status', 'purpose', 'application_type'], drop_first=False)\n"
   ]
  },
  {
   "cell_type": "code",
   "execution_count": 24,
   "metadata": {},
   "outputs": [],
   "source": [
    "scaler_all = StandardScaler(copy=False)\n",
    "\n",
    "accept_train_df_all[all_cols] = accept_train_df_all[all_cols].fillna(accept_train_df_all[all_cols].mean())\n",
    "accept_test_df_all[all_cols] = accept_test_df_all[all_cols].fillna(accept_test_df_all[all_cols].mean())\n",
    "\n",
    "accept_train_df_all[all_cols] = scaler_all.fit_transform(accept_train_df_all[all_cols], accept_train_df_all['charged_off'])\n",
    "accept_test_df_all[all_cols] = scaler_all.transform(accept_test_df_all[all_cols])"
   ]
  },
  {
   "cell_type": "code",
   "execution_count": 25,
   "metadata": {},
   "outputs": [
    {
     "name": "stdout",
     "output_type": "stream",
     "text": [
      "Training Set:\n",
      "    Total: 499517\n",
      "    Positive: 91418 (18.30% of total)\n",
      "\n",
      "Testing Set:\n",
      "    Total: 146571\n",
      "    Positive: 39267 (26.79% of total)\n",
      "\n"
     ]
    }
   ],
   "source": [
    "neg, pos = np.bincount(accept_train_df_all['charged_off'])\n",
    "total = neg + pos\n",
    "print('Training Set:\\n    Total: {}\\n    Positive: {} ({:.2f}% of total)\\n'.format(\n",
    "    total, pos, 100 * pos / total))\n",
    "\n",
    "neg, pos = np.bincount(accept_test_df_all['charged_off'])\n",
    "total = neg + pos\n",
    "print('Testing Set:\\n    Total: {}\\n    Positive: {} ({:.2f}% of total)\\n'.format(\n",
    "    total, pos, 100 * pos / total))"
   ]
  },
  {
   "cell_type": "code",
   "execution_count": 26,
   "metadata": {},
   "outputs": [],
   "source": [
    "y_train = accept_train_df_all['charged_off']\n",
    "y_test = accept_test_df_all['charged_off']\n",
    "\n",
    "X_train = accept_train_df_all.drop('charged_off', axis=1)\n",
    "X_test = accept_test_df_all.drop('charged_off', axis=1)\n"
   ]
  },
  {
   "cell_type": "markdown",
   "metadata": {},
   "source": [
    "### Random Forest Model ###"
   ]
  },
  {
   "cell_type": "code",
   "execution_count": 27,
   "metadata": {},
   "outputs": [],
   "source": [
    "# Hyperparameter tuning. Took over 11 hours to run.\n",
    "\n",
    "# best_hyperparams, best_rf = ri.RandomForestTuning(BalancedRandomForestClassifier(), X_train, y_train, filename = \"./random_forest.joblib\", cv = CROSS_VALIDATION)\n",
    "# print(\"Best hyperparameters: \\n\", best_hyperparams )"
   ]
  },
  {
   "cell_type": "code",
   "execution_count": 28,
   "metadata": {},
   "outputs": [
    {
     "name": "stdout",
     "output_type": "stream",
     "text": [
      "{'bootstrap': True, 'ccp_alpha': 0.0, 'class_weight': None, 'criterion': 'gini', 'max_depth': 5, 'max_features': 'sqrt', 'max_leaf_nodes': None, 'max_samples': None, 'min_impurity_decrease': 0.0, 'min_samples_leaf': 1, 'min_samples_split': 2, 'min_weight_fraction_leaf': 0.0, 'n_estimators': 50, 'n_jobs': None, 'oob_score': False, 'random_state': None, 'replacement': False, 'sampling_strategy': 'auto', 'verbose': 0, 'warm_start': False}\n"
     ]
    },
    {
     "data": {
      "text/html": [
       "<style>#sk-container-id-2 {color: black;background-color: white;}#sk-container-id-2 pre{padding: 0;}#sk-container-id-2 div.sk-toggleable {background-color: white;}#sk-container-id-2 label.sk-toggleable__label {cursor: pointer;display: block;width: 100%;margin-bottom: 0;padding: 0.3em;box-sizing: border-box;text-align: center;}#sk-container-id-2 label.sk-toggleable__label-arrow:before {content: \"▸\";float: left;margin-right: 0.25em;color: #696969;}#sk-container-id-2 label.sk-toggleable__label-arrow:hover:before {color: black;}#sk-container-id-2 div.sk-estimator:hover label.sk-toggleable__label-arrow:before {color: black;}#sk-container-id-2 div.sk-toggleable__content {max-height: 0;max-width: 0;overflow: hidden;text-align: left;background-color: #f0f8ff;}#sk-container-id-2 div.sk-toggleable__content pre {margin: 0.2em;color: black;border-radius: 0.25em;background-color: #f0f8ff;}#sk-container-id-2 input.sk-toggleable__control:checked~div.sk-toggleable__content {max-height: 200px;max-width: 100%;overflow: auto;}#sk-container-id-2 input.sk-toggleable__control:checked~label.sk-toggleable__label-arrow:before {content: \"▾\";}#sk-container-id-2 div.sk-estimator input.sk-toggleable__control:checked~label.sk-toggleable__label {background-color: #d4ebff;}#sk-container-id-2 div.sk-label input.sk-toggleable__control:checked~label.sk-toggleable__label {background-color: #d4ebff;}#sk-container-id-2 input.sk-hidden--visually {border: 0;clip: rect(1px 1px 1px 1px);clip: rect(1px, 1px, 1px, 1px);height: 1px;margin: -1px;overflow: hidden;padding: 0;position: absolute;width: 1px;}#sk-container-id-2 div.sk-estimator {font-family: monospace;background-color: #f0f8ff;border: 1px dotted black;border-radius: 0.25em;box-sizing: border-box;margin-bottom: 0.5em;}#sk-container-id-2 div.sk-estimator:hover {background-color: #d4ebff;}#sk-container-id-2 div.sk-parallel-item::after {content: \"\";width: 100%;border-bottom: 1px solid gray;flex-grow: 1;}#sk-container-id-2 div.sk-label:hover label.sk-toggleable__label {background-color: #d4ebff;}#sk-container-id-2 div.sk-serial::before {content: \"\";position: absolute;border-left: 1px solid gray;box-sizing: border-box;top: 0;bottom: 0;left: 50%;z-index: 0;}#sk-container-id-2 div.sk-serial {display: flex;flex-direction: column;align-items: center;background-color: white;padding-right: 0.2em;padding-left: 0.2em;position: relative;}#sk-container-id-2 div.sk-item {position: relative;z-index: 1;}#sk-container-id-2 div.sk-parallel {display: flex;align-items: stretch;justify-content: center;background-color: white;position: relative;}#sk-container-id-2 div.sk-item::before, #sk-container-id-2 div.sk-parallel-item::before {content: \"\";position: absolute;border-left: 1px solid gray;box-sizing: border-box;top: 0;bottom: 0;left: 50%;z-index: -1;}#sk-container-id-2 div.sk-parallel-item {display: flex;flex-direction: column;z-index: 1;position: relative;background-color: white;}#sk-container-id-2 div.sk-parallel-item:first-child::after {align-self: flex-end;width: 50%;}#sk-container-id-2 div.sk-parallel-item:last-child::after {align-self: flex-start;width: 50%;}#sk-container-id-2 div.sk-parallel-item:only-child::after {width: 0;}#sk-container-id-2 div.sk-dashed-wrapped {border: 1px dashed gray;margin: 0 0.4em 0.5em 0.4em;box-sizing: border-box;padding-bottom: 0.4em;background-color: white;}#sk-container-id-2 div.sk-label label {font-family: monospace;font-weight: bold;display: inline-block;line-height: 1.2em;}#sk-container-id-2 div.sk-label-container {text-align: center;}#sk-container-id-2 div.sk-container {/* jupyter's `normalize.less` sets `[hidden] { display: none; }` but bootstrap.min.css set `[hidden] { display: none !important; }` so we also need the `!important` here to be able to override the default hidden behavior on the sphinx rendered scikit-learn.org. See: https://github.com/scikit-learn/scikit-learn/issues/21755 */display: inline-block !important;position: relative;}#sk-container-id-2 div.sk-text-repr-fallback {display: none;}</style><div id=\"sk-container-id-2\" class=\"sk-top-container\"><div class=\"sk-text-repr-fallback\"><pre>BalancedRandomForestClassifier(max_depth=5, n_estimators=50)</pre><b>In a Jupyter environment, please rerun this cell to show the HTML representation or trust the notebook. <br />On GitHub, the HTML representation is unable to render, please try loading this page with nbviewer.org.</b></div><div class=\"sk-container\" hidden><div class=\"sk-item\"><div class=\"sk-estimator sk-toggleable\"><input class=\"sk-toggleable__control sk-hidden--visually\" id=\"sk-estimator-id-5\" type=\"checkbox\" checked><label for=\"sk-estimator-id-5\" class=\"sk-toggleable__label sk-toggleable__label-arrow\">BalancedRandomForestClassifier</label><div class=\"sk-toggleable__content\"><pre>BalancedRandomForestClassifier(max_depth=5, n_estimators=50)</pre></div></div></div></div></div>"
      ],
      "text/plain": [
       "BalancedRandomForestClassifier(max_depth=5, n_estimators=50)"
      ]
     },
     "execution_count": 28,
     "metadata": {},
     "output_type": "execute_result"
    }
   ],
   "source": [
    "model = joblib.load(\"./random_forest.joblib\")\n",
    "print(model.get_params())\n",
    "model.fit(X_train, y_train)"
   ]
  },
  {
   "cell_type": "code",
   "execution_count": 29,
   "metadata": {},
   "outputs": [
    {
     "name": "stdout",
     "output_type": "stream",
     "text": [
      "(Training Set) The cross-validation AUC for optimised Random Forest model after a 10 fold cross validation: 0.689 (0.014)\n",
      "(Test Set) The cross-validation AUC for optimised Random Forest model after a 10 fold cross validation: 0.693 (0.007)\n"
     ]
    }
   ],
   "source": [
    "cv_scores_train = cross_val_score(estimator= model, X=X_train, y=y_train, scoring='roc_auc', cv=CROSS_VALIDATION, n_jobs=-1)\n",
    "print(\"(Training Set) The cross-validation AUC for optimised Random Forest model after a 10 fold cross validation: %.3f (%.3f)\" % (mean(cv_scores_train), std(cv_scores_train)))\n",
    "\n",
    "cv_scores_test = cross_val_score(estimator= model, X=X_test, y=y_test, scoring='roc_auc', cv=CROSS_VALIDATION, n_jobs=-1)\n",
    "print(\"(Test Set) The cross-validation AUC for optimised Random Forest model after a 10 fold cross validation: %.3f (%.3f)\" % (mean(cv_scores_test), std(cv_scores_test)))"
   ]
  },
  {
   "cell_type": "code",
   "execution_count": 30,
   "metadata": {},
   "outputs": [
    {
     "name": "stderr",
     "output_type": "stream",
     "text": [
      "c:\\Users\\joshy\\anaconda3\\lib\\site-packages\\sklearn\\base.py:493: FutureWarning: The feature names should match those that were passed during fit. Starting version 1.2, an error will be raised.\n",
      "Feature names must be in the same order as they were in fit.\n",
      "\n",
      "  warnings.warn(message, FutureWarning)\n"
     ]
    },
    {
     "name": "stdout",
     "output_type": "stream",
     "text": [
      "0.6222847683036784 0.6037639748389233 0.6408055617684336\n"
     ]
    }
   ],
   "source": [
    "yhat = model.predict(X_test)\n",
    "print(roc_auc_score(y_test, yhat), recall_score(y_test, yhat, pos_label=1), recall_score(y_test, yhat, pos_label=0))"
   ]
  },
  {
   "cell_type": "code",
   "execution_count": 31,
   "metadata": {},
   "outputs": [
    {
     "name": "stdout",
     "output_type": "stream",
     "text": [
      "Confusion matrix, without normalization\n",
      "[[68761 38543]\n",
      " [15559 23708]]\n"
     ]
    },
    {
     "data": {
      "image/png": "[encoded data removed]",
      "text/plain": [
       "<Figure size 432x288 with 2 Axes>"
      ]
     },
     "metadata": {
      "needs_background": "light"
     },
     "output_type": "display_data"
    }
   ],
   "source": [
    "# Computing Confusion matrix for the above algorithm\n",
    "\n",
    "cnf_matrix = confusion_matrix(y_test, yhat)\n",
    "np.set_printoptions(precision=2)\n",
    "\n",
    "# Plot non-normalized confusion matrix\n",
    "plt.figure()\n",
    "ri.plot_confusion_matrix(cnf_matrix, classes=[\"BAD\", \"GOOD\"])\n",
    "\n",
    "plt.show()"
   ]
  },
  {
   "cell_type": "code",
   "execution_count": 32,
   "metadata": {},
   "outputs": [],
   "source": [
    "results_df = ri.AppendResults(df=results_df, title=\"Full RF - Accepts Only\",\n",
    "AUC_scores=cv_scores_train, y_test=y_test, y_score=yhat)"
   ]
  },
  {
   "cell_type": "markdown",
   "metadata": {},
   "source": [
    "## Matching Characteristics ##"
   ]
  },
  {
   "cell_type": "markdown",
   "metadata": {},
   "source": [
    "### Pre-processing ###"
   ]
  },
  {
   "cell_type": "code",
   "execution_count": 33,
   "metadata": {},
   "outputs": [],
   "source": [
    "numerical_cols = ['loan_amnt', 'emp_length', 'dti']\n",
    "match_cols = ['loan_amnt', 'emp_length', 'dti','purpose','charged_off']\n",
    "excl_cols = ['charged_off','weight','score','rejected','accept_score']\n",
    "\n",
    "accept_train_df_reduced = accept_train_df[match_cols]\n",
    "accept_test_df_reduced = accept_test_df[match_cols]"
   ]
  },
  {
   "cell_type": "code",
   "execution_count": 34,
   "metadata": {},
   "outputs": [],
   "source": [
    "accept_train_df_reduced = pd.get_dummies(accept_train_df_reduced, prefix=[\"purp\"], columns=['purpose'], drop_first=False)\n",
    "accept_test_df_reduced = pd.get_dummies(accept_test_df_reduced, prefix=[\"purp\"], columns=['purpose'], drop_first=False)"
   ]
  },
  {
   "cell_type": "code",
   "execution_count": 35,
   "metadata": {},
   "outputs": [],
   "source": [
    "scaler_reduced = StandardScaler(copy=False)\n",
    "\n",
    "accept_train_df_reduced[numerical_cols] = accept_train_df_reduced[numerical_cols].fillna(accept_train_df_reduced[numerical_cols].mean())\n",
    "accept_test_df_reduced[numerical_cols] = accept_test_df_reduced[numerical_cols].fillna(accept_test_df_reduced[numerical_cols].mean())\n",
    "\n",
    "accept_train_df_reduced[numerical_cols] = scaler_reduced.fit_transform(accept_train_df_reduced[numerical_cols], accept_train_df_reduced['charged_off'])\n",
    "accept_test_df_reduced[numerical_cols] = scaler_reduced.transform(accept_test_df_reduced[numerical_cols])"
   ]
  },
  {
   "cell_type": "code",
   "execution_count": 36,
   "metadata": {},
   "outputs": [
    {
     "name": "stdout",
     "output_type": "stream",
     "text": [
      "Training Set:\n",
      "    Total: 499517\n",
      "    Positive: 91418 (18.30% of total)\n",
      "\n",
      "Testing Set:\n",
      "    Total: 146571\n",
      "    Positive: 39267 (26.79% of total)\n",
      "\n"
     ]
    }
   ],
   "source": [
    "neg, pos = np.bincount(accept_train_df_reduced['charged_off'])\n",
    "total = neg + pos\n",
    "print('Training Set:\\n    Total: {}\\n    Positive: {} ({:.2f}% of total)\\n'.format(\n",
    "    total, pos, 100 * pos / total))\n",
    "\n",
    "neg, pos = np.bincount(accept_test_df_reduced['charged_off'])\n",
    "total = neg + pos\n",
    "print('Testing Set:\\n    Total: {}\\n    Positive: {} ({:.2f}% of total)\\n'.format(\n",
    "    total, pos, 100 * pos / total))"
   ]
  },
  {
   "cell_type": "code",
   "execution_count": 37,
   "metadata": {},
   "outputs": [],
   "source": [
    "y_train_reduced = accept_train_df_reduced['charged_off']\n",
    "y_test_reduced = accept_test_df_reduced['charged_off']\n",
    "\n",
    "X_train_reduced = accept_train_df_reduced.drop('charged_off', axis=1)\n",
    "X_test_reduced = accept_test_df_reduced.drop('charged_off', axis=1)"
   ]
  },
  {
   "cell_type": "markdown",
   "metadata": {},
   "source": [
    "### Random Forest Model ###"
   ]
  },
  {
   "cell_type": "code",
   "execution_count": 38,
   "metadata": {},
   "outputs": [],
   "source": [
    "# # # Hyperparameter tuning. Took over 11 hours to run.\n",
    "# # May be interesting to see if the optimised hyperparameters change with reduced characteristics\n",
    "\n",
    "# best_hyperparams, best_rf = ri.RandomForestTuning(BalancedRandomForestClassifier(), X_train_reduced, y_train_reduced, filename = \"./random_forest_reduced.joblib\", cv = CROSS_VALIDATION)\n",
    "\n",
    "# print(\"Best hyperparameters: \\n\", best_hyperparams )"
   ]
  },
  {
   "cell_type": "code",
   "execution_count": 39,
   "metadata": {},
   "outputs": [
    {
     "name": "stdout",
     "output_type": "stream",
     "text": [
      "{'bootstrap': True, 'ccp_alpha': 0.0, 'class_weight': None, 'criterion': 'entropy', 'max_depth': 10, 'max_features': 'log2', 'max_leaf_nodes': None, 'max_samples': None, 'min_impurity_decrease': 0.0, 'min_samples_leaf': 1, 'min_samples_split': 2, 'min_weight_fraction_leaf': 0.0, 'n_estimators': 50, 'n_jobs': None, 'oob_score': False, 'random_state': None, 'replacement': False, 'sampling_strategy': 'auto', 'verbose': 0, 'warm_start': False}\n"
     ]
    },
    {
     "data": {
      "text/html": [
       "<style>#sk-container-id-3 {color: black;background-color: white;}#sk-container-id-3 pre{padding: 0;}#sk-container-id-3 div.sk-toggleable {background-color: white;}#sk-container-id-3 label.sk-toggleable__label {cursor: pointer;display: block;width: 100%;margin-bottom: 0;padding: 0.3em;box-sizing: border-box;text-align: center;}#sk-container-id-3 label.sk-toggleable__label-arrow:before {content: \"▸\";float: left;margin-right: 0.25em;color: #696969;}#sk-container-id-3 label.sk-toggleable__label-arrow:hover:before {color: black;}#sk-container-id-3 div.sk-estimator:hover label.sk-toggleable__label-arrow:before {color: black;}#sk-container-id-3 div.sk-toggleable__content {max-height: 0;max-width: 0;overflow: hidden;text-align: left;background-color: #f0f8ff;}#sk-container-id-3 div.sk-toggleable__content pre {margin: 0.2em;color: black;border-radius: 0.25em;background-color: #f0f8ff;}#sk-container-id-3 input.sk-toggleable__control:checked~div.sk-toggleable__content {max-height: 200px;max-width: 100%;overflow: auto;}#sk-container-id-3 input.sk-toggleable__control:checked~label.sk-toggleable__label-arrow:before {content: \"▾\";}#sk-container-id-3 div.sk-estimator input.sk-toggleable__control:checked~label.sk-toggleable__label {background-color: #d4ebff;}#sk-container-id-3 div.sk-label input.sk-toggleable__control:checked~label.sk-toggleable__label {background-color: #d4ebff;}#sk-container-id-3 input.sk-hidden--visually {border: 0;clip: rect(1px 1px 1px 1px);clip: rect(1px, 1px, 1px, 1px);height: 1px;margin: -1px;overflow: hidden;padding: 0;position: absolute;width: 1px;}#sk-container-id-3 div.sk-estimator {font-family: monospace;background-color: #f0f8ff;border: 1px dotted black;border-radius: 0.25em;box-sizing: border-box;margin-bottom: 0.5em;}#sk-container-id-3 div.sk-estimator:hover {background-color: #d4ebff;}#sk-container-id-3 div.sk-parallel-item::after {content: \"\";width: 100%;border-bottom: 1px solid gray;flex-grow: 1;}#sk-container-id-3 div.sk-label:hover label.sk-toggleable__label {background-color: #d4ebff;}#sk-container-id-3 div.sk-serial::before {content: \"\";position: absolute;border-left: 1px solid gray;box-sizing: border-box;top: 0;bottom: 0;left: 50%;z-index: 0;}#sk-container-id-3 div.sk-serial {display: flex;flex-direction: column;align-items: center;background-color: white;padding-right: 0.2em;padding-left: 0.2em;position: relative;}#sk-container-id-3 div.sk-item {position: relative;z-index: 1;}#sk-container-id-3 div.sk-parallel {display: flex;align-items: stretch;justify-content: center;background-color: white;position: relative;}#sk-container-id-3 div.sk-item::before, #sk-container-id-3 div.sk-parallel-item::before {content: \"\";position: absolute;border-left: 1px solid gray;box-sizing: border-box;top: 0;bottom: 0;left: 50%;z-index: -1;}#sk-container-id-3 div.sk-parallel-item {display: flex;flex-direction: column;z-index: 1;position: relative;background-color: white;}#sk-container-id-3 div.sk-parallel-item:first-child::after {align-self: flex-end;width: 50%;}#sk-container-id-3 div.sk-parallel-item:last-child::after {align-self: flex-start;width: 50%;}#sk-container-id-3 div.sk-parallel-item:only-child::after {width: 0;}#sk-container-id-3 div.sk-dashed-wrapped {border: 1px dashed gray;margin: 0 0.4em 0.5em 0.4em;box-sizing: border-box;padding-bottom: 0.4em;background-color: white;}#sk-container-id-3 div.sk-label label {font-family: monospace;font-weight: bold;display: inline-block;line-height: 1.2em;}#sk-container-id-3 div.sk-label-container {text-align: center;}#sk-container-id-3 div.sk-container {/* jupyter's `normalize.less` sets `[hidden] { display: none; }` but bootstrap.min.css set `[hidden] { display: none !important; }` so we also need the `!important` here to be able to override the default hidden behavior on the sphinx rendered scikit-learn.org. See: https://github.com/scikit-learn/scikit-learn/issues/21755 */display: inline-block !important;position: relative;}#sk-container-id-3 div.sk-text-repr-fallback {display: none;}</style><div id=\"sk-container-id-3\" class=\"sk-top-container\"><div class=\"sk-text-repr-fallback\"><pre>BalancedRandomForestClassifier(criterion=&#x27;entropy&#x27;, max_depth=10,\n",
       "                               max_features=&#x27;log2&#x27;, n_estimators=50)</pre><b>In a Jupyter environment, please rerun this cell to show the HTML representation or trust the notebook. <br />On GitHub, the HTML representation is unable to render, please try loading this page with nbviewer.org.</b></div><div class=\"sk-container\" hidden><div class=\"sk-item\"><div class=\"sk-estimator sk-toggleable\"><input class=\"sk-toggleable__control sk-hidden--visually\" id=\"sk-estimator-id-6\" type=\"checkbox\" checked><label for=\"sk-estimator-id-6\" class=\"sk-toggleable__label sk-toggleable__label-arrow\">BalancedRandomForestClassifier</label><div class=\"sk-toggleable__content\"><pre>BalancedRandomForestClassifier(criterion=&#x27;entropy&#x27;, max_depth=10,\n",
       "                               max_features=&#x27;log2&#x27;, n_estimators=50)</pre></div></div></div></div></div>"
      ],
      "text/plain": [
       "BalancedRandomForestClassifier(criterion='entropy', max_depth=10,\n",
       "                               max_features='log2', n_estimators=50)"
      ]
     },
     "execution_count": 39,
     "metadata": {},
     "output_type": "execute_result"
    }
   ],
   "source": [
    "model_reduced = joblib.load(\"./random_forest_reduced.joblib\")\n",
    "print(model_reduced.get_params())\n",
    "model_reduced.fit(X_train_reduced, y_train_reduced)"
   ]
  },
  {
   "cell_type": "code",
   "execution_count": 40,
   "metadata": {},
   "outputs": [
    {
     "name": "stdout",
     "output_type": "stream",
     "text": [
      "(Training Set) The cross-validation AUC for Reduced Random Forest model after a 10 fold cross validation: 0.605 (0.012)\n",
      "(Test Set) The cross-validation AUC for Reduced Random Forest model after a 10 fold cross validation: 0.617 (0.007)\n"
     ]
    }
   ],
   "source": [
    "cv_scores_train = cross_val_score(estimator= model_reduced, X=X_train_reduced, y=y_train_reduced, scoring='roc_auc', cv=CROSS_VALIDATION, n_jobs=-1)\n",
    "print(\"(Training Set) The cross-validation AUC for Reduced Random Forest model after a 10 fold cross validation: %.3f (%.3f)\" % (mean(cv_scores_train), std(cv_scores_train)))\n",
    "\n",
    "cv_scores_test = cross_val_score(estimator= model_reduced, X=X_test_reduced, y=y_test_reduced, scoring='roc_auc', cv=CROSS_VALIDATION, n_jobs=-1)\n",
    "print(\"(Test Set) The cross-validation AUC for Reduced Random Forest model after a 10 fold cross validation: %.3f (%.3f)\" % (mean(cv_scores_test), std(cv_scores_test)))"
   ]
  },
  {
   "cell_type": "code",
   "execution_count": 41,
   "metadata": {},
   "outputs": [
    {
     "name": "stdout",
     "output_type": "stream",
     "text": [
      "0.5826396672074363 0.6253087834568467 0.5399705509580258\n"
     ]
    }
   ],
   "source": [
    "yhat_reduced = model_reduced.predict(X_test_reduced)\n",
    "print(roc_auc_score(y_test_reduced, yhat_reduced), recall_score(y_test_reduced, yhat_reduced, pos_label=1), recall_score(y_test_reduced, yhat_reduced, pos_label=0))"
   ]
  },
  {
   "cell_type": "code",
   "execution_count": 42,
   "metadata": {},
   "outputs": [
    {
     "name": "stdout",
     "output_type": "stream",
     "text": [
      "Confusion matrix, without normalization\n",
      "[[57941 49363]\n",
      " [14713 24554]]\n"
     ]
    },
    {
     "data": {
      "image/png": "[encoded data removed]",
      "text/plain": [
       "<Figure size 432x288 with 2 Axes>"
      ]
     },
     "metadata": {
      "needs_background": "light"
     },
     "output_type": "display_data"
    }
   ],
   "source": [
    "# Computing Confusion matrix for the above algorithm\n",
    "\n",
    "cnf_matrix = confusion_matrix(y_test_reduced, yhat_reduced)\n",
    "np.set_printoptions(precision=2)\n",
    "\n",
    "# Plot non-normalized confusion matrix\n",
    "plt.figure()\n",
    "ri.plot_confusion_matrix(cnf_matrix, classes=[\"BAD\", \"GOOD\"],\n",
    "                      title='Confusion matrix - Random Forest (Reduced) Algorithm')\n",
    "\n",
    "plt.show()"
   ]
  },
  {
   "cell_type": "code",
   "execution_count": 43,
   "metadata": {},
   "outputs": [],
   "source": [
    "results_df = ri.AppendResults(df=results_df, title=\"Reduced RF - Accepts Only\",\n",
    "AUC_scores=cv_scores_train, y_test=y_test_reduced, y_score=yhat_reduced)"
   ]
  },
  {
   "cell_type": "markdown",
   "metadata": {},
   "source": [
    "## Reject Inference Techniques ##"
   ]
  },
  {
   "cell_type": "code",
   "execution_count": 44,
   "metadata": {},
   "outputs": [],
   "source": [
    "rejected = application_df.loc[application_df[\"rejected\"] == 1]"
   ]
  },
  {
   "cell_type": "markdown",
   "metadata": {},
   "source": [
    "### Simple Assignment ###"
   ]
  },
  {
   "cell_type": "code",
   "execution_count": 46,
   "metadata": {},
   "outputs": [],
   "source": [
    "ri_df = pd.concat([accept_train_df, rejected], axis=0, ignore_index=True)\n",
    "ri_df.loc[ri_df['rejected'] == 1, 'charged_off'] = 1"
   ]
  },
  {
   "cell_type": "code",
   "execution_count": 47,
   "metadata": {},
   "outputs": [],
   "source": [
    "train_df_sa = ri_df[match_cols]\n",
    "train_df_sa = pd.get_dummies(train_df_sa, prefix=[\"purp\"], columns=['purpose'], drop_first=False)"
   ]
  },
  {
   "cell_type": "code",
   "execution_count": 48,
   "metadata": {},
   "outputs": [],
   "source": [
    "train_df_sa[numerical_cols] = train_df_sa[numerical_cols].fillna(train_df_sa[numerical_cols].mean())\n",
    "train_df_sa[numerical_cols] = scaler_reduced.transform(train_df_sa[numerical_cols])"
   ]
  },
  {
   "cell_type": "code",
   "execution_count": 49,
   "metadata": {},
   "outputs": [
    {
     "name": "stdout",
     "output_type": "stream",
     "text": [
      "Training Set:\n",
      "    Total: 3931748\n",
      "    Positive: 3523649 (89.62% of total)\n",
      "\n",
      "Testing Set:\n",
      "    Total: 146571\n",
      "    Positive: 39267 (26.79% of total)\n",
      "\n"
     ]
    }
   ],
   "source": [
    "neg, pos = np.bincount(train_df_sa['charged_off'])\n",
    "total = neg + pos\n",
    "print('Training Set:\\n    Total: {}\\n    Positive: {} ({:.2f}% of total)\\n'.format(\n",
    "    total, pos, 100 * pos / total))\n",
    "\n",
    "neg, pos = np.bincount(accept_test_df_reduced['charged_off'])\n",
    "total = neg + pos\n",
    "print('Testing Set:\\n    Total: {}\\n    Positive: {} ({:.2f}% of total)\\n'.format(\n",
    "    total, pos, 100 * pos / total))"
   ]
  },
  {
   "cell_type": "code",
   "execution_count": 50,
   "metadata": {},
   "outputs": [],
   "source": [
    "y_train_sa = train_df_sa['charged_off']\n",
    "X_train_sa = train_df_sa.drop('charged_off', axis=1)"
   ]
  },
  {
   "cell_type": "code",
   "execution_count": 51,
   "metadata": {},
   "outputs": [
    {
     "name": "stdout",
     "output_type": "stream",
     "text": [
      "{'bootstrap': True, 'ccp_alpha': 0.0, 'class_weight': None, 'criterion': 'entropy', 'max_depth': 10, 'max_features': 'log2', 'max_leaf_nodes': None, 'max_samples': None, 'min_impurity_decrease': 0.0, 'min_samples_leaf': 1, 'min_samples_split': 2, 'min_weight_fraction_leaf': 0.0, 'n_estimators': 50, 'n_jobs': None, 'oob_score': False, 'random_state': None, 'replacement': False, 'sampling_strategy': 'auto', 'verbose': 0, 'warm_start': False}\n"
     ]
    },
    {
     "data": {
      "text/html": [
       "<style>#sk-container-id-4 {color: black;background-color: white;}#sk-container-id-4 pre{padding: 0;}#sk-container-id-4 div.sk-toggleable {background-color: white;}#sk-container-id-4 label.sk-toggleable__label {cursor: pointer;display: block;width: 100%;margin-bottom: 0;padding: 0.3em;box-sizing: border-box;text-align: center;}#sk-container-id-4 label.sk-toggleable__label-arrow:before {content: \"▸\";float: left;margin-right: 0.25em;color: #696969;}#sk-container-id-4 label.sk-toggleable__label-arrow:hover:before {color: black;}#sk-container-id-4 div.sk-estimator:hover label.sk-toggleable__label-arrow:before {color: black;}#sk-container-id-4 div.sk-toggleable__content {max-height: 0;max-width: 0;overflow: hidden;text-align: left;background-color: #f0f8ff;}#sk-container-id-4 div.sk-toggleable__content pre {margin: 0.2em;color: black;border-radius: 0.25em;background-color: #f0f8ff;}#sk-container-id-4 input.sk-toggleable__control:checked~div.sk-toggleable__content {max-height: 200px;max-width: 100%;overflow: auto;}#sk-container-id-4 input.sk-toggleable__control:checked~label.sk-toggleable__label-arrow:before {content: \"▾\";}#sk-container-id-4 div.sk-estimator input.sk-toggleable__control:checked~label.sk-toggleable__label {background-color: #d4ebff;}#sk-container-id-4 div.sk-label input.sk-toggleable__control:checked~label.sk-toggleable__label {background-color: #d4ebff;}#sk-container-id-4 input.sk-hidden--visually {border: 0;clip: rect(1px 1px 1px 1px);clip: rect(1px, 1px, 1px, 1px);height: 1px;margin: -1px;overflow: hidden;padding: 0;position: absolute;width: 1px;}#sk-container-id-4 div.sk-estimator {font-family: monospace;background-color: #f0f8ff;border: 1px dotted black;border-radius: 0.25em;box-sizing: border-box;margin-bottom: 0.5em;}#sk-container-id-4 div.sk-estimator:hover {background-color: #d4ebff;}#sk-container-id-4 div.sk-parallel-item::after {content: \"\";width: 100%;border-bottom: 1px solid gray;flex-grow: 1;}#sk-container-id-4 div.sk-label:hover label.sk-toggleable__label {background-color: #d4ebff;}#sk-container-id-4 div.sk-serial::before {content: \"\";position: absolute;border-left: 1px solid gray;box-sizing: border-box;top: 0;bottom: 0;left: 50%;z-index: 0;}#sk-container-id-4 div.sk-serial {display: flex;flex-direction: column;align-items: center;background-color: white;padding-right: 0.2em;padding-left: 0.2em;position: relative;}#sk-container-id-4 div.sk-item {position: relative;z-index: 1;}#sk-container-id-4 div.sk-parallel {display: flex;align-items: stretch;justify-content: center;background-color: white;position: relative;}#sk-container-id-4 div.sk-item::before, #sk-container-id-4 div.sk-parallel-item::before {content: \"\";position: absolute;border-left: 1px solid gray;box-sizing: border-box;top: 0;bottom: 0;left: 50%;z-index: -1;}#sk-container-id-4 div.sk-parallel-item {display: flex;flex-direction: column;z-index: 1;position: relative;background-color: white;}#sk-container-id-4 div.sk-parallel-item:first-child::after {align-self: flex-end;width: 50%;}#sk-container-id-4 div.sk-parallel-item:last-child::after {align-self: flex-start;width: 50%;}#sk-container-id-4 div.sk-parallel-item:only-child::after {width: 0;}#sk-container-id-4 div.sk-dashed-wrapped {border: 1px dashed gray;margin: 0 0.4em 0.5em 0.4em;box-sizing: border-box;padding-bottom: 0.4em;background-color: white;}#sk-container-id-4 div.sk-label label {font-family: monospace;font-weight: bold;display: inline-block;line-height: 1.2em;}#sk-container-id-4 div.sk-label-container {text-align: center;}#sk-container-id-4 div.sk-container {/* jupyter's `normalize.less` sets `[hidden] { display: none; }` but bootstrap.min.css set `[hidden] { display: none !important; }` so we also need the `!important` here to be able to override the default hidden behavior on the sphinx rendered scikit-learn.org. See: https://github.com/scikit-learn/scikit-learn/issues/21755 */display: inline-block !important;position: relative;}#sk-container-id-4 div.sk-text-repr-fallback {display: none;}</style><div id=\"sk-container-id-4\" class=\"sk-top-container\"><div class=\"sk-text-repr-fallback\"><pre>BalancedRandomForestClassifier(criterion=&#x27;entropy&#x27;, max_depth=10,\n",
       "                               max_features=&#x27;log2&#x27;, n_estimators=50)</pre><b>In a Jupyter environment, please rerun this cell to show the HTML representation or trust the notebook. <br />On GitHub, the HTML representation is unable to render, please try loading this page with nbviewer.org.</b></div><div class=\"sk-container\" hidden><div class=\"sk-item\"><div class=\"sk-estimator sk-toggleable\"><input class=\"sk-toggleable__control sk-hidden--visually\" id=\"sk-estimator-id-7\" type=\"checkbox\" checked><label for=\"sk-estimator-id-7\" class=\"sk-toggleable__label sk-toggleable__label-arrow\">BalancedRandomForestClassifier</label><div class=\"sk-toggleable__content\"><pre>BalancedRandomForestClassifier(criterion=&#x27;entropy&#x27;, max_depth=10,\n",
       "                               max_features=&#x27;log2&#x27;, n_estimators=50)</pre></div></div></div></div></div>"
      ],
      "text/plain": [
       "BalancedRandomForestClassifier(criterion='entropy', max_depth=10,\n",
       "                               max_features='log2', n_estimators=50)"
      ]
     },
     "execution_count": 51,
     "metadata": {},
     "output_type": "execute_result"
    }
   ],
   "source": [
    "model_ri = joblib.load(\"./random_forest_reduced.joblib\")\n",
    "print(model_ri.get_params())\n",
    "\n",
    "model_ri.fit(X_train_sa, y_train_sa)"
   ]
  },
  {
   "cell_type": "code",
   "execution_count": 52,
   "metadata": {},
   "outputs": [
    {
     "name": "stdout",
     "output_type": "stream",
     "text": [
      "(Training Set) The cross-validation AUC for optimised Random Forest model with SA RI after a 10 fold cross validation: 0.948 (0.040)\n",
      "(Test Set) The cross-validation AUC for optimised Random Forest model with SA RI after a 10 fold cross validation: 0.617 (0.007)\n"
     ]
    }
   ],
   "source": [
    "cv_scores_train_sa = cross_val_score(estimator= model_ri, X=X_train_sa, y=y_train_sa, scoring='roc_auc', cv=CROSS_VALIDATION, n_jobs=-1)\n",
    "print(\"(Training Set) The cross-validation AUC for optimised Random Forest model with SA RI after a 10 fold cross validation: %.3f (%.3f)\" % (mean(cv_scores_train_sa), std(cv_scores_train_sa)))\n",
    "\n",
    "cv_scores_test_sa = cross_val_score(estimator= model_ri, X=X_test_reduced, y=y_test_reduced, scoring='roc_auc', cv=CROSS_VALIDATION, n_jobs=-1)\n",
    "print(\"(Test Set) The cross-validation AUC for optimised Random Forest model with SA RI after a 10 fold cross validation: %.3f (%.3f)\" % (mean(cv_scores_test_sa), std(cv_scores_test_sa)))"
   ]
  },
  {
   "cell_type": "code",
   "execution_count": 53,
   "metadata": {},
   "outputs": [
    {
     "name": "stdout",
     "output_type": "stream",
     "text": [
      "0.5029583345800385 0.09241857030076145 0.9134980988593155\n"
     ]
    }
   ],
   "source": [
    "yhat_sa = model_ri.predict(X_test_reduced)\n",
    "print(roc_auc_score(y_test_reduced, yhat_sa), recall_score(y_test_reduced, yhat_sa, pos_label=1), recall_score(y_test_reduced, yhat_sa, pos_label=0))"
   ]
  },
  {
   "cell_type": "code",
   "execution_count": 54,
   "metadata": {},
   "outputs": [
    {
     "name": "stdout",
     "output_type": "stream",
     "text": [
      "Confusion matrix, without normalization\n",
      "[[98022  9282]\n",
      " [35638  3629]]\n"
     ]
    },
    {
     "data": {
      "image/png": "[encoded data removed]",
      "text/plain": [
       "<Figure size 432x288 with 2 Axes>"
      ]
     },
     "metadata": {
      "needs_background": "light"
     },
     "output_type": "display_data"
    }
   ],
   "source": [
    "# Computing Confusion matrix for the above algorithm\n",
    "\n",
    "cnf_matrix = confusion_matrix(y_test_reduced, yhat_sa)\n",
    "np.set_printoptions(precision=2)\n",
    "\n",
    "# Plot non-normalized confusion matrix\n",
    "plt.figure()\n",
    "ri.plot_confusion_matrix(cnf_matrix, classes=[\"BAD\", \"GOOD\"],\n",
    "                      title='Confusion matrix - Random Forest w/ SA')\n",
    "\n",
    "plt.show()"
   ]
  },
  {
   "cell_type": "code",
   "execution_count": 55,
   "metadata": {},
   "outputs": [],
   "source": [
    "results_df = ri.AppendResults(df=results_df, title=\"Reduced RF - Simple Assignment\",\n",
    "AUC_scores=cv_scores_train_sa, y_test=y_test_reduced, y_score=yhat_sa)"
   ]
  },
  {
   "cell_type": "markdown",
   "metadata": {},
   "source": [
    "### Random Assignment ###"
   ]
  },
  {
   "cell_type": "code",
   "execution_count": 56,
   "metadata": {},
   "outputs": [
    {
     "name": "stdout",
     "output_type": "stream",
     "text": [
      "0.1830127903554834\n",
      "0.6405447662441919\n"
     ]
    }
   ],
   "source": [
    "neg, pos = np.bincount(accept_train_df['charged_off'])\n",
    "total = neg + pos\n",
    "reject_rate = pos / total\n",
    "\n",
    "random_assign_rate = reject_rate * 3.5\n",
    "\n",
    "print(reject_rate)\n",
    "print(random_assign_rate)\n",
    "\n",
    "# Higher the fraction, bigger the sample\n",
    "split_BAD = rejected.sample(frac = random_assign_rate, random_state=RANDOM_STATE)\n",
    "split_GOOD = rejected.drop(split_BAD.index)\n",
    "\n",
    "split_BAD['charged_off'] = 1\n",
    "split_GOOD = split_GOOD.assign(charged_off= 0)\n",
    "\n",
    "ri_df = pd.concat([accept_train_df, split_BAD, split_GOOD], axis=0, ignore_index=True)"
   ]
  },
  {
   "cell_type": "code",
   "execution_count": 57,
   "metadata": {},
   "outputs": [],
   "source": [
    "train_df_ra = ri_df[match_cols]\n",
    "train_df_ra = pd.get_dummies(train_df_ra, prefix=[\"purp\"], columns=['purpose'], drop_first=False)"
   ]
  },
  {
   "cell_type": "code",
   "execution_count": 58,
   "metadata": {},
   "outputs": [],
   "source": [
    "train_df_ra[numerical_cols] = train_df_ra[numerical_cols].fillna(train_df_ra[numerical_cols].mean())\n",
    "train_df_ra[numerical_cols] = scaler_reduced.transform(train_df_ra[numerical_cols])"
   ]
  },
  {
   "cell_type": "code",
   "execution_count": 59,
   "metadata": {},
   "outputs": [
    {
     "name": "stdout",
     "output_type": "stream",
     "text": [
      "Training Set:\n",
      "    Total: 3931748\n",
      "    Positive: 2289916 (58.24% of total)\n",
      "\n",
      "Testing Set:\n",
      "    Total: 146571\n",
      "    Positive: 39267 (26.79% of total)\n",
      "\n"
     ]
    }
   ],
   "source": [
    "neg, pos = np.bincount(train_df_ra['charged_off'])\n",
    "total = neg + pos\n",
    "print('Training Set:\\n    Total: {}\\n    Positive: {} ({:.2f}% of total)\\n'.format(\n",
    "    total, pos, 100 * pos / total))\n",
    "\n",
    "neg, pos = np.bincount(accept_test_df_reduced['charged_off'])\n",
    "total = neg + pos\n",
    "print('Testing Set:\\n    Total: {}\\n    Positive: {} ({:.2f}% of total)\\n'.format(\n",
    "    total, pos, 100 * pos / total))"
   ]
  },
  {
   "cell_type": "code",
   "execution_count": 60,
   "metadata": {},
   "outputs": [],
   "source": [
    "y_train_ra = train_df_ra['charged_off']\n",
    "X_train_ra = train_df_ra.drop('charged_off', axis=1)"
   ]
  },
  {
   "cell_type": "code",
   "execution_count": 61,
   "metadata": {},
   "outputs": [
    {
     "data": {
      "text/html": [
       "<style>#sk-container-id-5 {color: black;background-color: white;}#sk-container-id-5 pre{padding: 0;}#sk-container-id-5 div.sk-toggleable {background-color: white;}#sk-container-id-5 label.sk-toggleable__label {cursor: pointer;display: block;width: 100%;margin-bottom: 0;padding: 0.3em;box-sizing: border-box;text-align: center;}#sk-container-id-5 label.sk-toggleable__label-arrow:before {content: \"▸\";float: left;margin-right: 0.25em;color: #696969;}#sk-container-id-5 label.sk-toggleable__label-arrow:hover:before {color: black;}#sk-container-id-5 div.sk-estimator:hover label.sk-toggleable__label-arrow:before {color: black;}#sk-container-id-5 div.sk-toggleable__content {max-height: 0;max-width: 0;overflow: hidden;text-align: left;background-color: #f0f8ff;}#sk-container-id-5 div.sk-toggleable__content pre {margin: 0.2em;color: black;border-radius: 0.25em;background-color: #f0f8ff;}#sk-container-id-5 input.sk-toggleable__control:checked~div.sk-toggleable__content {max-height: 200px;max-width: 100%;overflow: auto;}#sk-container-id-5 input.sk-toggleable__control:checked~label.sk-toggleable__label-arrow:before {content: \"▾\";}#sk-container-id-5 div.sk-estimator input.sk-toggleable__control:checked~label.sk-toggleable__label {background-color: #d4ebff;}#sk-container-id-5 div.sk-label input.sk-toggleable__control:checked~label.sk-toggleable__label {background-color: #d4ebff;}#sk-container-id-5 input.sk-hidden--visually {border: 0;clip: rect(1px 1px 1px 1px);clip: rect(1px, 1px, 1px, 1px);height: 1px;margin: -1px;overflow: hidden;padding: 0;position: absolute;width: 1px;}#sk-container-id-5 div.sk-estimator {font-family: monospace;background-color: #f0f8ff;border: 1px dotted black;border-radius: 0.25em;box-sizing: border-box;margin-bottom: 0.5em;}#sk-container-id-5 div.sk-estimator:hover {background-color: #d4ebff;}#sk-container-id-5 div.sk-parallel-item::after {content: \"\";width: 100%;border-bottom: 1px solid gray;flex-grow: 1;}#sk-container-id-5 div.sk-label:hover label.sk-toggleable__label {background-color: #d4ebff;}#sk-container-id-5 div.sk-serial::before {content: \"\";position: absolute;border-left: 1px solid gray;box-sizing: border-box;top: 0;bottom: 0;left: 50%;z-index: 0;}#sk-container-id-5 div.sk-serial {display: flex;flex-direction: column;align-items: center;background-color: white;padding-right: 0.2em;padding-left: 0.2em;position: relative;}#sk-container-id-5 div.sk-item {position: relative;z-index: 1;}#sk-container-id-5 div.sk-parallel {display: flex;align-items: stretch;justify-content: center;background-color: white;position: relative;}#sk-container-id-5 div.sk-item::before, #sk-container-id-5 div.sk-parallel-item::before {content: \"\";position: absolute;border-left: 1px solid gray;box-sizing: border-box;top: 0;bottom: 0;left: 50%;z-index: -1;}#sk-container-id-5 div.sk-parallel-item {display: flex;flex-direction: column;z-index: 1;position: relative;background-color: white;}#sk-container-id-5 div.sk-parallel-item:first-child::after {align-self: flex-end;width: 50%;}#sk-container-id-5 div.sk-parallel-item:last-child::after {align-self: flex-start;width: 50%;}#sk-container-id-5 div.sk-parallel-item:only-child::after {width: 0;}#sk-container-id-5 div.sk-dashed-wrapped {border: 1px dashed gray;margin: 0 0.4em 0.5em 0.4em;box-sizing: border-box;padding-bottom: 0.4em;background-color: white;}#sk-container-id-5 div.sk-label label {font-family: monospace;font-weight: bold;display: inline-block;line-height: 1.2em;}#sk-container-id-5 div.sk-label-container {text-align: center;}#sk-container-id-5 div.sk-container {/* jupyter's `normalize.less` sets `[hidden] { display: none; }` but bootstrap.min.css set `[hidden] { display: none !important; }` so we also need the `!important` here to be able to override the default hidden behavior on the sphinx rendered scikit-learn.org. See: https://github.com/scikit-learn/scikit-learn/issues/21755 */display: inline-block !important;position: relative;}#sk-container-id-5 div.sk-text-repr-fallback {display: none;}</style><div id=\"sk-container-id-5\" class=\"sk-top-container\"><div class=\"sk-text-repr-fallback\"><pre>BalancedRandomForestClassifier(criterion=&#x27;entropy&#x27;, max_depth=10,\n",
       "                               max_features=&#x27;log2&#x27;, n_estimators=50)</pre><b>In a Jupyter environment, please rerun this cell to show the HTML representation or trust the notebook. <br />On GitHub, the HTML representation is unable to render, please try loading this page with nbviewer.org.</b></div><div class=\"sk-container\" hidden><div class=\"sk-item\"><div class=\"sk-estimator sk-toggleable\"><input class=\"sk-toggleable__control sk-hidden--visually\" id=\"sk-estimator-id-8\" type=\"checkbox\" checked><label for=\"sk-estimator-id-8\" class=\"sk-toggleable__label sk-toggleable__label-arrow\">BalancedRandomForestClassifier</label><div class=\"sk-toggleable__content\"><pre>BalancedRandomForestClassifier(criterion=&#x27;entropy&#x27;, max_depth=10,\n",
       "                               max_features=&#x27;log2&#x27;, n_estimators=50)</pre></div></div></div></div></div>"
      ],
      "text/plain": [
       "BalancedRandomForestClassifier(criterion='entropy', max_depth=10,\n",
       "                               max_features='log2', n_estimators=50)"
      ]
     },
     "execution_count": 61,
     "metadata": {},
     "output_type": "execute_result"
    }
   ],
   "source": [
    "model_ri.fit(X_train_ra, y_train_ra)"
   ]
  },
  {
   "cell_type": "code",
   "execution_count": 62,
   "metadata": {},
   "outputs": [
    {
     "name": "stdout",
     "output_type": "stream",
     "text": [
      "(Training Set) The cross-validation AUC for optimised Random Forest model with RA RI after a 10 fold cross validation: 0.571 (0.168)\n",
      "(Test Set) The cross-validation AUC for optimised Random Forest model with RA RI after a 10 fold cross validation: 0.617 (0.007)\n"
     ]
    }
   ],
   "source": [
    "cv_scores_train_ra = cross_val_score(estimator= model_ri, X=X_train_ra, y=y_train_ra, scoring='roc_auc', cv=CROSS_VALIDATION, n_jobs=-1)\n",
    "print(\"(Training Set) The cross-validation AUC for optimised Random Forest model with RA RI after a 10 fold cross validation: %.3f (%.3f)\" % (mean(cv_scores_train_ra), std(cv_scores_train_ra)))\n",
    "\n",
    "cv_scores_test_ra = cross_val_score(estimator= model_ri, X=X_test_reduced, y=y_test_reduced, scoring='roc_auc', cv=CROSS_VALIDATION, n_jobs=-1)\n",
    "print(\"(Test Set) The cross-validation AUC for optimised Random Forest model with RA RI after a 10 fold cross validation: %.3f (%.3f)\" % (mean(cv_scores_test_ra), std(cv_scores_test_ra)))"
   ]
  },
  {
   "cell_type": "code",
   "execution_count": 63,
   "metadata": {},
   "outputs": [
    {
     "name": "stdout",
     "output_type": "stream",
     "text": [
      "0.5826396672074363 0.6253087834568467 0.5399705509580258\n"
     ]
    }
   ],
   "source": [
    "yhat_ra = model_reduced.predict(X_test_reduced)\n",
    "print(roc_auc_score(y_test_reduced, yhat_ra), recall_score(y_test_reduced, yhat_ra, pos_label=1), recall_score(y_test_reduced, yhat_ra, pos_label=0))"
   ]
  },
  {
   "cell_type": "code",
   "execution_count": 64,
   "metadata": {},
   "outputs": [
    {
     "name": "stdout",
     "output_type": "stream",
     "text": [
      "Confusion matrix, without normalization\n",
      "[[57941 49363]\n",
      " [14713 24554]]\n"
     ]
    },
    {
     "data": {
      "image/png": "[encoded data removed]",
      "text/plain": [
       "<Figure size 432x288 with 2 Axes>"
      ]
     },
     "metadata": {
      "needs_background": "light"
     },
     "output_type": "display_data"
    }
   ],
   "source": [
    "# Computing Confusion matrix for the above algorithm\n",
    "\n",
    "cnf_matrix = confusion_matrix(y_test_reduced, yhat_ra)\n",
    "np.set_printoptions(precision=2)\n",
    "\n",
    "# Plot non-normalized confusion matrix\n",
    "plt.figure()\n",
    "ri.plot_confusion_matrix(cnf_matrix, classes=[\"BAD\", \"GOOD\"],\n",
    "                      title='Confusion matrix - Random Forest w/ RA')\n",
    "\n",
    "plt.show()"
   ]
  },
  {
   "cell_type": "code",
   "execution_count": 65,
   "metadata": {},
   "outputs": [],
   "source": [
    "results_df = ri.AppendResults(df=results_df, title=\"Reduced RF - Random Assignment\",\n",
    "AUC_scores=cv_scores_train_ra, y_test=y_test_reduced, y_score=yhat_ra)"
   ]
  },
  {
   "cell_type": "markdown",
   "metadata": {},
   "source": [
    "### Augmentation ###"
   ]
  },
  {
   "cell_type": "code",
   "execution_count": 66,
   "metadata": {},
   "outputs": [
    {
     "name": "stdout",
     "output_type": "stream",
     "text": [
      "0\n"
     ]
    },
    {
     "data": {
      "text/html": [
       "<div>\n",
       "<style scoped>\n",
       "    .dataframe tbody tr th:only-of-type {\n",
       "        vertical-align: middle;\n",
       "    }\n",
       "\n",
       "    .dataframe tbody tr th {\n",
       "        vertical-align: top;\n",
       "    }\n",
       "\n",
       "    .dataframe thead th {\n",
       "        text-align: right;\n",
       "    }\n",
       "</style>\n",
       "<table border=\"1\" class=\"dataframe\">\n",
       "  <thead>\n",
       "    <tr style=\"text-align: right;\">\n",
       "      <th></th>\n",
       "      <th>loan_amnt</th>\n",
       "      <th>term</th>\n",
       "      <th>installment</th>\n",
       "      <th>emp_length</th>\n",
       "      <th>home_ownership</th>\n",
       "      <th>verification_status</th>\n",
       "      <th>purpose</th>\n",
       "      <th>dti</th>\n",
       "      <th>earliest_cr_line</th>\n",
       "      <th>open_acc</th>\n",
       "      <th>...</th>\n",
       "      <th>pub_rec_bankruptcies</th>\n",
       "      <th>log_annual_inc</th>\n",
       "      <th>fico_score</th>\n",
       "      <th>log_revol_bal</th>\n",
       "      <th>charged_off</th>\n",
       "      <th>at_Joint App</th>\n",
       "      <th>rejected</th>\n",
       "      <th>score</th>\n",
       "      <th>accept_score</th>\n",
       "      <th>weight</th>\n",
       "    </tr>\n",
       "  </thead>\n",
       "  <tbody>\n",
       "    <tr>\n",
       "      <th>0</th>\n",
       "      <td>15000.0</td>\n",
       "      <td>60</td>\n",
       "      <td>336.64</td>\n",
       "      <td>10.0</td>\n",
       "      <td>RENT</td>\n",
       "      <td>Source Verified</td>\n",
       "      <td>debt_consolidation</td>\n",
       "      <td>12.03</td>\n",
       "      <td>1994</td>\n",
       "      <td>6.0</td>\n",
       "      <td>...</td>\n",
       "      <td>0.0</td>\n",
       "      <td>4.892100</td>\n",
       "      <td>752.0</td>\n",
       "      <td>5.139907</td>\n",
       "      <td>0</td>\n",
       "      <td>0</td>\n",
       "      <td>0</td>\n",
       "      <td>0.008719</td>\n",
       "      <td>0.991281</td>\n",
       "      <td>1.516196</td>\n",
       "    </tr>\n",
       "    <tr>\n",
       "      <th>1</th>\n",
       "      <td>15000.0</td>\n",
       "      <td>36</td>\n",
       "      <td>476.30</td>\n",
       "      <td>10.0</td>\n",
       "      <td>MORTGAGE</td>\n",
       "      <td>Not Verified</td>\n",
       "      <td>debt_consolidation</td>\n",
       "      <td>12.03</td>\n",
       "      <td>1997</td>\n",
       "      <td>8.0</td>\n",
       "      <td>...</td>\n",
       "      <td>0.0</td>\n",
       "      <td>4.929424</td>\n",
       "      <td>752.0</td>\n",
       "      <td>4.583505</td>\n",
       "      <td>0</td>\n",
       "      <td>0</td>\n",
       "      <td>0</td>\n",
       "      <td>0.008719</td>\n",
       "      <td>0.991281</td>\n",
       "      <td>1.516196</td>\n",
       "    </tr>\n",
       "    <tr>\n",
       "      <th>2</th>\n",
       "      <td>15000.0</td>\n",
       "      <td>36</td>\n",
       "      <td>509.25</td>\n",
       "      <td>10.0</td>\n",
       "      <td>RENT</td>\n",
       "      <td>Not Verified</td>\n",
       "      <td>debt_consolidation</td>\n",
       "      <td>12.03</td>\n",
       "      <td>1975</td>\n",
       "      <td>8.0</td>\n",
       "      <td>...</td>\n",
       "      <td>1.0</td>\n",
       "      <td>4.602071</td>\n",
       "      <td>677.0</td>\n",
       "      <td>3.800854</td>\n",
       "      <td>0</td>\n",
       "      <td>0</td>\n",
       "      <td>0</td>\n",
       "      <td>0.008719</td>\n",
       "      <td>0.991281</td>\n",
       "      <td>1.516196</td>\n",
       "    </tr>\n",
       "    <tr>\n",
       "      <th>3</th>\n",
       "      <td>15000.0</td>\n",
       "      <td>36</td>\n",
       "      <td>502.00</td>\n",
       "      <td>10.0</td>\n",
       "      <td>MORTGAGE</td>\n",
       "      <td>Verified</td>\n",
       "      <td>debt_consolidation</td>\n",
       "      <td>12.03</td>\n",
       "      <td>1997</td>\n",
       "      <td>8.0</td>\n",
       "      <td>...</td>\n",
       "      <td>1.0</td>\n",
       "      <td>4.544080</td>\n",
       "      <td>707.0</td>\n",
       "      <td>4.049140</td>\n",
       "      <td>0</td>\n",
       "      <td>0</td>\n",
       "      <td>0</td>\n",
       "      <td>0.008719</td>\n",
       "      <td>0.991281</td>\n",
       "      <td>1.516196</td>\n",
       "    </tr>\n",
       "    <tr>\n",
       "      <th>4</th>\n",
       "      <td>15000.0</td>\n",
       "      <td>60</td>\n",
       "      <td>440.19</td>\n",
       "      <td>10.0</td>\n",
       "      <td>MORTGAGE</td>\n",
       "      <td>Verified</td>\n",
       "      <td>debt_consolidation</td>\n",
       "      <td>12.03</td>\n",
       "      <td>2002</td>\n",
       "      <td>9.0</td>\n",
       "      <td>...</td>\n",
       "      <td>0.0</td>\n",
       "      <td>4.568213</td>\n",
       "      <td>677.0</td>\n",
       "      <td>3.816308</td>\n",
       "      <td>1</td>\n",
       "      <td>0</td>\n",
       "      <td>0</td>\n",
       "      <td>0.008719</td>\n",
       "      <td>0.991281</td>\n",
       "      <td>1.516196</td>\n",
       "    </tr>\n",
       "  </tbody>\n",
       "</table>\n",
       "<p>5 rows × 25 columns</p>\n",
       "</div>"
      ],
      "text/plain": [
       "   loan_amnt  term  installment  emp_length home_ownership  \\\n",
       "0    15000.0    60       336.64        10.0           RENT   \n",
       "1    15000.0    36       476.30        10.0       MORTGAGE   \n",
       "2    15000.0    36       509.25        10.0           RENT   \n",
       "3    15000.0    36       502.00        10.0       MORTGAGE   \n",
       "4    15000.0    60       440.19        10.0       MORTGAGE   \n",
       "\n",
       "  verification_status             purpose    dti  earliest_cr_line  open_acc  \\\n",
       "0     Source Verified  debt_consolidation  12.03              1994       6.0   \n",
       "1        Not Verified  debt_consolidation  12.03              1997       8.0   \n",
       "2        Not Verified  debt_consolidation  12.03              1975       8.0   \n",
       "3            Verified  debt_consolidation  12.03              1997       8.0   \n",
       "4            Verified  debt_consolidation  12.03              2002       9.0   \n",
       "\n",
       "   ...  pub_rec_bankruptcies  log_annual_inc  fico_score log_revol_bal  \\\n",
       "0  ...                   0.0        4.892100       752.0      5.139907   \n",
       "1  ...                   0.0        4.929424       752.0      4.583505   \n",
       "2  ...                   1.0        4.602071       677.0      3.800854   \n",
       "3  ...                   1.0        4.544080       707.0      4.049140   \n",
       "4  ...                   0.0        4.568213       677.0      3.816308   \n",
       "\n",
       "   charged_off  at_Joint App  rejected     score  accept_score    weight  \n",
       "0            0             0         0  0.008719      0.991281  1.516196  \n",
       "1            0             0         0  0.008719      0.991281  1.516196  \n",
       "2            0             0         0  0.008719      0.991281  1.516196  \n",
       "3            0             0         0  0.008719      0.991281  1.516196  \n",
       "4            1             0         0  0.008719      0.991281  1.516196  \n",
       "\n",
       "[5 rows x 25 columns]"
      ]
     },
     "execution_count": 66,
     "metadata": {},
     "output_type": "execute_result"
    }
   ],
   "source": [
    "aug_df = application_df.sort_values(by=\"score\", ascending = False)\n",
    "aug_df['accept_score'] = 1 - aug_df['score']\n",
    "intervals = np.array_split(aug_df, 10)\n",
    "\n",
    "for band in intervals:\n",
    "    accepts = band.loc[band[\"rejected\"] == 0, \"rejected\"].count()\n",
    "    rejects = band.loc[band[\"rejected\"] == 1, \"rejected\"].count()\n",
    "    weight = (rejects + accepts) / accepts\n",
    "    band.drop(band[band['rejected'] == 1].index, inplace=True)\n",
    "    band['weight'] = weight\n",
    "\n",
    "aug_df=pd.concat(intervals)\n",
    "aug_df.drop_duplicates(inplace=True)\n",
    "ri_df = accept_train_df.merge(aug_df, on=[\"dti\",\"emp_length\",\"loan_amnt\",\"purpose\"], how = 'inner')\n",
    "print(ri_df.shape[0] - accept_train_df.shape[0])\n",
    "ri_df.head()"
   ]
  },
  {
   "cell_type": "code",
   "execution_count": 67,
   "metadata": {},
   "outputs": [],
   "source": [
    "train_df_aug_all = pd.get_dummies(ri_df,prefix=[\"ho\",\"vs\",\"purp\",\"at\"], columns=['home_ownership', 'verification_status', 'purpose', 'application_type'], drop_first=False)\n",
    "train_df_aug_all[all_cols] = train_df_aug_all[all_cols].fillna(train_df_aug_all[all_cols].mean())\n",
    "train_df_aug_all[all_cols] = scaler_all.transform(train_df_aug_all[all_cols])"
   ]
  },
  {
   "cell_type": "code",
   "execution_count": 68,
   "metadata": {},
   "outputs": [
    {
     "name": "stdout",
     "output_type": "stream",
     "text": [
      "Training Set:\n",
      "    Total: 499517\n",
      "    Positive: 91418 (18.30% of total)\n",
      "\n",
      "Testing Set:\n",
      "    Total: 146571\n",
      "    Positive: 39267 (26.79% of total)\n",
      "\n"
     ]
    }
   ],
   "source": [
    "neg, pos = np.bincount(train_df_aug_all['charged_off'])\n",
    "total = neg + pos\n",
    "print('Training Set:\\n    Total: {}\\n    Positive: {} ({:.2f}% of total)\\n'.format(\n",
    "    total, pos, 100 * pos / total))\n",
    "\n",
    "neg, pos = np.bincount(accept_test_df_all['charged_off'])\n",
    "total = neg + pos\n",
    "print('Testing Set:\\n    Total: {}\\n    Positive: {} ({:.2f}% of total)\\n'.format(\n",
    "    total, pos, 100 * pos / total))"
   ]
  },
  {
   "cell_type": "code",
   "execution_count": 69,
   "metadata": {},
   "outputs": [],
   "source": [
    "y_train_aug_all = train_df_aug_all['charged_off']\n",
    "X_train_aug_all = train_df_aug_all.drop(excl_cols, axis=1)\n",
    "train_weights_aug_all = train_df_aug_all['weight']"
   ]
  },
  {
   "cell_type": "code",
   "execution_count": 70,
   "metadata": {},
   "outputs": [
    {
     "data": {
      "text/html": [
       "<style>#sk-container-id-6 {color: black;background-color: white;}#sk-container-id-6 pre{padding: 0;}#sk-container-id-6 div.sk-toggleable {background-color: white;}#sk-container-id-6 label.sk-toggleable__label {cursor: pointer;display: block;width: 100%;margin-bottom: 0;padding: 0.3em;box-sizing: border-box;text-align: center;}#sk-container-id-6 label.sk-toggleable__label-arrow:before {content: \"▸\";float: left;margin-right: 0.25em;color: #696969;}#sk-container-id-6 label.sk-toggleable__label-arrow:hover:before {color: black;}#sk-container-id-6 div.sk-estimator:hover label.sk-toggleable__label-arrow:before {color: black;}#sk-container-id-6 div.sk-toggleable__content {max-height: 0;max-width: 0;overflow: hidden;text-align: left;background-color: #f0f8ff;}#sk-container-id-6 div.sk-toggleable__content pre {margin: 0.2em;color: black;border-radius: 0.25em;background-color: #f0f8ff;}#sk-container-id-6 input.sk-toggleable__control:checked~div.sk-toggleable__content {max-height: 200px;max-width: 100%;overflow: auto;}#sk-container-id-6 input.sk-toggleable__control:checked~label.sk-toggleable__label-arrow:before {content: \"▾\";}#sk-container-id-6 div.sk-estimator input.sk-toggleable__control:checked~label.sk-toggleable__label {background-color: #d4ebff;}#sk-container-id-6 div.sk-label input.sk-toggleable__control:checked~label.sk-toggleable__label {background-color: #d4ebff;}#sk-container-id-6 input.sk-hidden--visually {border: 0;clip: rect(1px 1px 1px 1px);clip: rect(1px, 1px, 1px, 1px);height: 1px;margin: -1px;overflow: hidden;padding: 0;position: absolute;width: 1px;}#sk-container-id-6 div.sk-estimator {font-family: monospace;background-color: #f0f8ff;border: 1px dotted black;border-radius: 0.25em;box-sizing: border-box;margin-bottom: 0.5em;}#sk-container-id-6 div.sk-estimator:hover {background-color: #d4ebff;}#sk-container-id-6 div.sk-parallel-item::after {content: \"\";width: 100%;border-bottom: 1px solid gray;flex-grow: 1;}#sk-container-id-6 div.sk-label:hover label.sk-toggleable__label {background-color: #d4ebff;}#sk-container-id-6 div.sk-serial::before {content: \"\";position: absolute;border-left: 1px solid gray;box-sizing: border-box;top: 0;bottom: 0;left: 50%;z-index: 0;}#sk-container-id-6 div.sk-serial {display: flex;flex-direction: column;align-items: center;background-color: white;padding-right: 0.2em;padding-left: 0.2em;position: relative;}#sk-container-id-6 div.sk-item {position: relative;z-index: 1;}#sk-container-id-6 div.sk-parallel {display: flex;align-items: stretch;justify-content: center;background-color: white;position: relative;}#sk-container-id-6 div.sk-item::before, #sk-container-id-6 div.sk-parallel-item::before {content: \"\";position: absolute;border-left: 1px solid gray;box-sizing: border-box;top: 0;bottom: 0;left: 50%;z-index: -1;}#sk-container-id-6 div.sk-parallel-item {display: flex;flex-direction: column;z-index: 1;position: relative;background-color: white;}#sk-container-id-6 div.sk-parallel-item:first-child::after {align-self: flex-end;width: 50%;}#sk-container-id-6 div.sk-parallel-item:last-child::after {align-self: flex-start;width: 50%;}#sk-container-id-6 div.sk-parallel-item:only-child::after {width: 0;}#sk-container-id-6 div.sk-dashed-wrapped {border: 1px dashed gray;margin: 0 0.4em 0.5em 0.4em;box-sizing: border-box;padding-bottom: 0.4em;background-color: white;}#sk-container-id-6 div.sk-label label {font-family: monospace;font-weight: bold;display: inline-block;line-height: 1.2em;}#sk-container-id-6 div.sk-label-container {text-align: center;}#sk-container-id-6 div.sk-container {/* jupyter's `normalize.less` sets `[hidden] { display: none; }` but bootstrap.min.css set `[hidden] { display: none !important; }` so we also need the `!important` here to be able to override the default hidden behavior on the sphinx rendered scikit-learn.org. See: https://github.com/scikit-learn/scikit-learn/issues/21755 */display: inline-block !important;position: relative;}#sk-container-id-6 div.sk-text-repr-fallback {display: none;}</style><div id=\"sk-container-id-6\" class=\"sk-top-container\"><div class=\"sk-text-repr-fallback\"><pre>BalancedRandomForestClassifier(max_depth=5, n_estimators=50)</pre><b>In a Jupyter environment, please rerun this cell to show the HTML representation or trust the notebook. <br />On GitHub, the HTML representation is unable to render, please try loading this page with nbviewer.org.</b></div><div class=\"sk-container\" hidden><div class=\"sk-item\"><div class=\"sk-estimator sk-toggleable\"><input class=\"sk-toggleable__control sk-hidden--visually\" id=\"sk-estimator-id-9\" type=\"checkbox\" checked><label for=\"sk-estimator-id-9\" class=\"sk-toggleable__label sk-toggleable__label-arrow\">BalancedRandomForestClassifier</label><div class=\"sk-toggleable__content\"><pre>BalancedRandomForestClassifier(max_depth=5, n_estimators=50)</pre></div></div></div></div></div>"
      ],
      "text/plain": [
       "BalancedRandomForestClassifier(max_depth=5, n_estimators=50)"
      ]
     },
     "execution_count": 70,
     "metadata": {},
     "output_type": "execute_result"
    }
   ],
   "source": [
    "model.fit(X_train_aug_all, y_train_aug_all, sample_weight=train_weights_aug_all)"
   ]
  },
  {
   "cell_type": "code",
   "execution_count": 71,
   "metadata": {},
   "outputs": [
    {
     "name": "stdout",
     "output_type": "stream",
     "text": [
      "(Training Set) The cross-validation AUC for optimised Full Random Forest model with Augmentation after a 10 fold cross validation: 0.688 (0.012)\n",
      "(Test Set) The cross-validation AUC for optimised Full Random Forest model with Augmentation after a 10 fold cross validation: 0.692 (0.007)\n"
     ]
    }
   ],
   "source": [
    "cv_scores_train_aug_all = cross_val_score(estimator= model, X=X_train_aug_all, y=y_train_aug_all, scoring='roc_auc', cv=CROSS_VALIDATION, n_jobs=-1)\n",
    "print(\"(Training Set) The cross-validation AUC for optimised Full Random Forest model with Augmentation after a 10 fold cross validation: %.3f (%.3f)\" % (mean(cv_scores_train_aug_all), std(cv_scores_train_aug_all)))\n",
    "\n",
    "cv_scores_test_ra_aug_all = cross_val_score(estimator= model, X=X_test, y=y_test, scoring='roc_auc', cv=CROSS_VALIDATION, n_jobs=-1)\n",
    "print(\"(Test Set) The cross-validation AUC for optimised Full Random Forest model with Augmentation after a 10 fold cross validation: %.3f (%.3f)\" % (mean(cv_scores_test_ra_aug_all), std(cv_scores_test_ra_aug_all)))"
   ]
  },
  {
   "cell_type": "code",
   "execution_count": 72,
   "metadata": {},
   "outputs": [
    {
     "name": "stderr",
     "output_type": "stream",
     "text": [
      "c:\\Users\\joshy\\anaconda3\\lib\\site-packages\\sklearn\\base.py:493: FutureWarning: The feature names should match those that were passed during fit. Starting version 1.2, an error will be raised.\n",
      "Feature names must be in the same order as they were in fit.\n",
      "\n",
      "  warnings.warn(message, FutureWarning)\n"
     ]
    },
    {
     "name": "stdout",
     "output_type": "stream",
     "text": [
      "0.6189605741666497 0.7484146993658798 0.4895064489674197\n"
     ]
    }
   ],
   "source": [
    "yhat_aug_all = model.predict(X_test)\n",
    "print(roc_auc_score(y_test, yhat_aug_all), recall_score(y_test, yhat_aug_all, pos_label=1), recall_score(y_test, yhat_aug_all, pos_label=0))"
   ]
  },
  {
   "cell_type": "code",
   "execution_count": 73,
   "metadata": {},
   "outputs": [
    {
     "name": "stdout",
     "output_type": "stream",
     "text": [
      "Confusion matrix, without normalization\n",
      "[[52526 54778]\n",
      " [ 9879 29388]]\n"
     ]
    },
    {
     "data": {
      "image/png": "[encoded data removed]",
      "text/plain": [
       "<Figure size 432x288 with 2 Axes>"
      ]
     },
     "metadata": {
      "needs_background": "light"
     },
     "output_type": "display_data"
    }
   ],
   "source": [
    "# Computing Confusion matrix for the above algorithm\n",
    "\n",
    "cnf_matrix = confusion_matrix(y_test, yhat_aug_all)\n",
    "np.set_printoptions(precision=2)\n",
    "\n",
    "# Plot non-normalized confusion matrix\n",
    "plt.figure()\n",
    "ri.plot_confusion_matrix(cnf_matrix, classes=[\"BAD\", \"GOOD\"])\n",
    "\n",
    "plt.show()"
   ]
  },
  {
   "cell_type": "code",
   "execution_count": 74,
   "metadata": {},
   "outputs": [],
   "source": [
    "results_df = ri.AppendResults(df=results_df, title=\"Full RF - Augmentation\",\n",
    "AUC_scores=cv_scores_train_aug_all, y_test=y_test, y_score=yhat_aug_all)"
   ]
  },
  {
   "cell_type": "markdown",
   "metadata": {},
   "source": [
    "### Parcelling ###"
   ]
  },
  {
   "cell_type": "code",
   "execution_count": 75,
   "metadata": {},
   "outputs": [],
   "source": [
    "aug_df = application_df.sort_values(by=\"score\", ascending = False)\n",
    "\n",
    "parcel_df_reject = aug_df.loc[aug_df[\"rejected\"] == 1]\n",
    "parcel_df_accept = aug_df.loc[aug_df[\"rejected\"] == 0]\n",
    "\n",
    "parcel_df_accept = parcel_df_accept.drop_duplicates()\n",
    "\n",
    "accept_scores = accept_train_df.merge(parcel_df_accept, on=[\"dti\",\"emp_length\",\"loan_amnt\",\"purpose\"], how = 'left')\n",
    "\n",
    "# unsure of the number of intervals\n",
    "reject_intervals = np.array_split(parcel_df_reject, 10)\n",
    "accept_intervals = np.array_split(accept_scores, 10)\n",
    "\n",
    "counter = 0\n",
    "\n",
    "for reject_band in reject_intervals:\n",
    "\n",
    "    neg, pos = np.bincount(accept_intervals[counter]['charged_off'])\n",
    "    reject_rate = pos / (neg + pos)\n",
    "    assign_rate = reject_rate * 3.5\n",
    "\n",
    "    # Higher the fraction, bigger the sample\n",
    "    split_BAD = reject_band.sample(frac = assign_rate, random_state=RANDOM_STATE)\n",
    "    split_GOOD = reject_band.drop(split_BAD.index)\n",
    "\n",
    "    split_BAD['charged_off'] = 1\n",
    "    split_GOOD = split_GOOD.assign(charged_off= 0)\n",
    "    \n",
    "    accept_scores = pd.concat([accept_scores, split_BAD, split_GOOD], axis=0, ignore_index=True)\n",
    "    counter = counter + 1"
   ]
  },
  {
   "cell_type": "code",
   "execution_count": 76,
   "metadata": {},
   "outputs": [],
   "source": [
    "train_df_PARCEL_reduced = accept_scores[match_cols]\n",
    "train_df_PARCEL_reduced = pd.get_dummies(train_df_PARCEL_reduced, prefix=[\"purp\"], columns=['purpose'], drop_first=False)\n",
    "train_df_PARCEL_reduced[numerical_cols] = train_df_PARCEL_reduced[numerical_cols].fillna(train_df_PARCEL_reduced[numerical_cols].mean())\n",
    "train_df_PARCEL_reduced[numerical_cols] = scaler_reduced.transform(train_df_PARCEL_reduced[numerical_cols])"
   ]
  },
  {
   "cell_type": "code",
   "execution_count": 77,
   "metadata": {},
   "outputs": [
    {
     "name": "stdout",
     "output_type": "stream",
     "text": [
      "Training Set:\n",
      "    Total: 3931748\n",
      "    Positive: 2289915 (58.24% of total)\n",
      "\n",
      "Testing Set:\n",
      "    Total: 146571\n",
      "    Positive: 39267 (26.79% of total)\n",
      "\n"
     ]
    }
   ],
   "source": [
    "neg, pos = np.bincount(train_df_PARCEL_reduced['charged_off'])\n",
    "total = neg + pos\n",
    "print('Training Set:\\n    Total: {}\\n    Positive: {} ({:.2f}% of total)\\n'.format(\n",
    "    total, pos, 100 * pos / total))\n",
    "\n",
    "neg, pos = np.bincount(accept_test_df_reduced['charged_off'])\n",
    "total = neg + pos\n",
    "print('Testing Set:\\n    Total: {}\\n    Positive: {} ({:.2f}% of total)\\n'.format(\n",
    "    total, pos, 100 * pos / total))"
   ]
  },
  {
   "cell_type": "code",
   "execution_count": 78,
   "metadata": {},
   "outputs": [],
   "source": [
    "y_train_PARCEL_reduced = train_df_PARCEL_reduced['charged_off']\n",
    "X_train_PARCEL_reduced = train_df_PARCEL_reduced.drop(['charged_off'], axis=1)"
   ]
  },
  {
   "cell_type": "code",
   "execution_count": 79,
   "metadata": {},
   "outputs": [
    {
     "data": {
      "text/html": [
       "<style>#sk-container-id-7 {color: black;background-color: white;}#sk-container-id-7 pre{padding: 0;}#sk-container-id-7 div.sk-toggleable {background-color: white;}#sk-container-id-7 label.sk-toggleable__label {cursor: pointer;display: block;width: 100%;margin-bottom: 0;padding: 0.3em;box-sizing: border-box;text-align: center;}#sk-container-id-7 label.sk-toggleable__label-arrow:before {content: \"▸\";float: left;margin-right: 0.25em;color: #696969;}#sk-container-id-7 label.sk-toggleable__label-arrow:hover:before {color: black;}#sk-container-id-7 div.sk-estimator:hover label.sk-toggleable__label-arrow:before {color: black;}#sk-container-id-7 div.sk-toggleable__content {max-height: 0;max-width: 0;overflow: hidden;text-align: left;background-color: #f0f8ff;}#sk-container-id-7 div.sk-toggleable__content pre {margin: 0.2em;color: black;border-radius: 0.25em;background-color: #f0f8ff;}#sk-container-id-7 input.sk-toggleable__control:checked~div.sk-toggleable__content {max-height: 200px;max-width: 100%;overflow: auto;}#sk-container-id-7 input.sk-toggleable__control:checked~label.sk-toggleable__label-arrow:before {content: \"▾\";}#sk-container-id-7 div.sk-estimator input.sk-toggleable__control:checked~label.sk-toggleable__label {background-color: #d4ebff;}#sk-container-id-7 div.sk-label input.sk-toggleable__control:checked~label.sk-toggleable__label {background-color: #d4ebff;}#sk-container-id-7 input.sk-hidden--visually {border: 0;clip: rect(1px 1px 1px 1px);clip: rect(1px, 1px, 1px, 1px);height: 1px;margin: -1px;overflow: hidden;padding: 0;position: absolute;width: 1px;}#sk-container-id-7 div.sk-estimator {font-family: monospace;background-color: #f0f8ff;border: 1px dotted black;border-radius: 0.25em;box-sizing: border-box;margin-bottom: 0.5em;}#sk-container-id-7 div.sk-estimator:hover {background-color: #d4ebff;}#sk-container-id-7 div.sk-parallel-item::after {content: \"\";width: 100%;border-bottom: 1px solid gray;flex-grow: 1;}#sk-container-id-7 div.sk-label:hover label.sk-toggleable__label {background-color: #d4ebff;}#sk-container-id-7 div.sk-serial::before {content: \"\";position: absolute;border-left: 1px solid gray;box-sizing: border-box;top: 0;bottom: 0;left: 50%;z-index: 0;}#sk-container-id-7 div.sk-serial {display: flex;flex-direction: column;align-items: center;background-color: white;padding-right: 0.2em;padding-left: 0.2em;position: relative;}#sk-container-id-7 div.sk-item {position: relative;z-index: 1;}#sk-container-id-7 div.sk-parallel {display: flex;align-items: stretch;justify-content: center;background-color: white;position: relative;}#sk-container-id-7 div.sk-item::before, #sk-container-id-7 div.sk-parallel-item::before {content: \"\";position: absolute;border-left: 1px solid gray;box-sizing: border-box;top: 0;bottom: 0;left: 50%;z-index: -1;}#sk-container-id-7 div.sk-parallel-item {display: flex;flex-direction: column;z-index: 1;position: relative;background-color: white;}#sk-container-id-7 div.sk-parallel-item:first-child::after {align-self: flex-end;width: 50%;}#sk-container-id-7 div.sk-parallel-item:last-child::after {align-self: flex-start;width: 50%;}#sk-container-id-7 div.sk-parallel-item:only-child::after {width: 0;}#sk-container-id-7 div.sk-dashed-wrapped {border: 1px dashed gray;margin: 0 0.4em 0.5em 0.4em;box-sizing: border-box;padding-bottom: 0.4em;background-color: white;}#sk-container-id-7 div.sk-label label {font-family: monospace;font-weight: bold;display: inline-block;line-height: 1.2em;}#sk-container-id-7 div.sk-label-container {text-align: center;}#sk-container-id-7 div.sk-container {/* jupyter's `normalize.less` sets `[hidden] { display: none; }` but bootstrap.min.css set `[hidden] { display: none !important; }` so we also need the `!important` here to be able to override the default hidden behavior on the sphinx rendered scikit-learn.org. See: https://github.com/scikit-learn/scikit-learn/issues/21755 */display: inline-block !important;position: relative;}#sk-container-id-7 div.sk-text-repr-fallback {display: none;}</style><div id=\"sk-container-id-7\" class=\"sk-top-container\"><div class=\"sk-text-repr-fallback\"><pre>BalancedRandomForestClassifier(criterion=&#x27;entropy&#x27;, max_depth=10,\n",
       "                               max_features=&#x27;log2&#x27;, n_estimators=50)</pre><b>In a Jupyter environment, please rerun this cell to show the HTML representation or trust the notebook. <br />On GitHub, the HTML representation is unable to render, please try loading this page with nbviewer.org.</b></div><div class=\"sk-container\" hidden><div class=\"sk-item\"><div class=\"sk-estimator sk-toggleable\"><input class=\"sk-toggleable__control sk-hidden--visually\" id=\"sk-estimator-id-10\" type=\"checkbox\" checked><label for=\"sk-estimator-id-10\" class=\"sk-toggleable__label sk-toggleable__label-arrow\">BalancedRandomForestClassifier</label><div class=\"sk-toggleable__content\"><pre>BalancedRandomForestClassifier(criterion=&#x27;entropy&#x27;, max_depth=10,\n",
       "                               max_features=&#x27;log2&#x27;, n_estimators=50)</pre></div></div></div></div></div>"
      ],
      "text/plain": [
       "BalancedRandomForestClassifier(criterion='entropy', max_depth=10,\n",
       "                               max_features='log2', n_estimators=50)"
      ]
     },
     "execution_count": 79,
     "metadata": {},
     "output_type": "execute_result"
    }
   ],
   "source": [
    "model_ri.fit(X_train_PARCEL_reduced, y_train_PARCEL_reduced)"
   ]
  },
  {
   "cell_type": "code",
   "execution_count": 80,
   "metadata": {},
   "outputs": [
    {
     "name": "stdout",
     "output_type": "stream",
     "text": [
      "(Training Set) The cross-validation AUC for optimised Reduced Random Forest model with Parcelling after a 10 fold cross validation: 0.386 (0.275)\n",
      "(Test Set) The cross-validation AUC for optimised Reduced Random Forest model with Parcelling after a 10 fold cross validation: 0.617 (0.007)\n"
     ]
    }
   ],
   "source": [
    "cv_scores_train_PARCEL_reduced = cross_val_score(estimator= model_ri, X=X_train_PARCEL_reduced, y=y_train_PARCEL_reduced, scoring='roc_auc', cv=CROSS_VALIDATION, n_jobs=-1)\n",
    "print(\"(Training Set) The cross-validation AUC for optimised Reduced Random Forest model with Parcelling after a 10 fold cross validation: %.3f (%.3f)\" % (mean(cv_scores_train_PARCEL_reduced), std(cv_scores_train_PARCEL_reduced)))\n",
    "\n",
    "cv_scores_test_PARCEL_reduced = cross_val_score(estimator= model_ri, X=X_test_reduced, y=y_test_reduced, scoring='roc_auc', cv=CROSS_VALIDATION, n_jobs=-1)\n",
    "print(\"(Test Set) The cross-validation AUC for optimised Reduced Random Forest model with Parcelling after a 10 fold cross validation: %.3f (%.3f)\" % (mean(cv_scores_test_PARCEL_reduced), std(cv_scores_test_PARCEL_reduced)))"
   ]
  },
  {
   "cell_type": "code",
   "execution_count": 81,
   "metadata": {},
   "outputs": [
    {
     "name": "stdout",
     "output_type": "stream",
     "text": [
      "0.5056468471983496 0.05974482389792956 0.9515488704987699\n"
     ]
    }
   ],
   "source": [
    "yhat_PARCEL_reduced = model_ri.predict(X_test_reduced)\n",
    "print(roc_auc_score(y_test_reduced, yhat_PARCEL_reduced), recall_score(y_test_reduced, yhat_PARCEL_reduced, pos_label=1), recall_score(y_test_reduced, yhat_PARCEL_reduced, pos_label=0))"
   ]
  },
  {
   "cell_type": "code",
   "execution_count": 82,
   "metadata": {},
   "outputs": [
    {
     "name": "stdout",
     "output_type": "stream",
     "text": [
      "Confusion matrix, without normalization\n",
      "[[102105   5199]\n",
      " [ 36921   2346]]\n"
     ]
    },
    {
     "data": {
      "image/png": "[encoded data removed]",
      "text/plain": [
       "<Figure size 432x288 with 2 Axes>"
      ]
     },
     "metadata": {
      "needs_background": "light"
     },
     "output_type": "display_data"
    }
   ],
   "source": [
    "# Computing Confusion matrix for the above algorithm\n",
    "\n",
    "cnf_matrix = confusion_matrix(y_test, yhat_PARCEL_reduced)\n",
    "np.set_printoptions(precision=2)\n",
    "\n",
    "# Plot non-normalized confusion matrix\n",
    "plt.figure()\n",
    "ri.plot_confusion_matrix(cnf_matrix, classes=[\"BAD\", \"GOOD\"])\n",
    "\n",
    "plt.show()"
   ]
  },
  {
   "cell_type": "code",
   "execution_count": 83,
   "metadata": {},
   "outputs": [],
   "source": [
    "results_df = ri.AppendResults(df=results_df, title=\"Reduced RF - Parcelling\",\n",
    "AUC_scores=cv_scores_train_PARCEL_reduced, y_test=y_test, y_score=yhat_PARCEL_reduced)"
   ]
  },
  {
   "cell_type": "markdown",
   "metadata": {},
   "source": [
    "### Extrapolation ###"
   ]
  },
  {
   "cell_type": "code",
   "execution_count": 87,
   "metadata": {},
   "outputs": [],
   "source": [
    "rejects_extrapolation = rejected.drop(['rejected','score'], axis=1)\n",
    "rejects_extrapolation = pd.get_dummies(rejects_extrapolation, prefix=[\"purp\"], columns=['purpose'], drop_first=False)\n",
    "# rejects_extrapolation['charged_off'] = 0"
   ]
  },
  {
   "cell_type": "code",
   "execution_count": 88,
   "metadata": {},
   "outputs": [],
   "source": [
    "rejects_extrapolation[numerical_cols] = rejects_extrapolation[numerical_cols].fillna(rejects_extrapolation[numerical_cols].mean())\n",
    "rejects_extrapolation[numerical_cols] = scaler_reduced.transform(rejects_extrapolation[numerical_cols])"
   ]
  },
  {
   "cell_type": "code",
   "execution_count": 89,
   "metadata": {},
   "outputs": [
    {
     "name": "stderr",
     "output_type": "stream",
     "text": [
      "c:\\Users\\joshy\\anaconda3\\lib\\site-packages\\sklearn\\base.py:493: FutureWarning: The feature names should match those that were passed during fit. Starting version 1.2, an error will be raised.\n",
      "Feature names must be in the same order as they were in fit.\n",
      "\n",
      "  warnings.warn(message, FutureWarning)\n"
     ]
    }
   ],
   "source": [
    "reject_bad_prob = model_reduced.predict_proba(rejects_extrapolation)"
   ]
  },
  {
   "cell_type": "code",
   "execution_count": 90,
   "metadata": {},
   "outputs": [],
   "source": [
    "neg, pos = np.bincount(accept_train_df_reduced['charged_off'])\n",
    "total = neg + pos\n",
    "rate = 100 * pos / total"
   ]
  },
  {
   "cell_type": "code",
   "execution_count": 91,
   "metadata": {},
   "outputs": [
    {
     "name": "stdout",
     "output_type": "stream",
     "text": [
      "Rate:  18.30127903554834\n"
     ]
    }
   ],
   "source": [
    "# No rejects scored below the rate because of the lack of variables\n",
    "# Suggestion for further work would be to change the rates\n",
    "\n",
    "print(\"Rate: \", rate)\n",
    "rate = 1 - (rate/100)\n",
    "\n",
    "rejects_extrapolation['bad_prob'] = reject_bad_prob[:,1]\n",
    "rejects_extrapolation['charged_off'] = np.where(rejects_extrapolation['bad_prob'] >= rate, 1, 0)\n",
    "rejects_extrapolation.drop('bad_prob', axis=1, inplace=True)\n",
    "\n",
    "train_df_EXTRAPOLATION_reduced = pd.concat([accept_train_df_reduced, rejects_extrapolation])"
   ]
  },
  {
   "cell_type": "code",
   "execution_count": 92,
   "metadata": {},
   "outputs": [
    {
     "name": "stdout",
     "output_type": "stream",
     "text": [
      "Training Set:\n",
      "    Total: 3931748\n",
      "    Positive: 91418 (2.33% of total)\n",
      "\n",
      "Testing Set:\n",
      "    Total: 146571\n",
      "    Positive: 39267 (26.79% of total)\n",
      "\n"
     ]
    }
   ],
   "source": [
    "neg, pos = np.bincount(train_df_EXTRAPOLATION_reduced['charged_off'])\n",
    "total = neg + pos\n",
    "print('Training Set:\\n    Total: {}\\n    Positive: {} ({:.2f}% of total)\\n'.format(\n",
    "    total, pos, 100 * pos / total))\n",
    "\n",
    "neg, pos = np.bincount(accept_test_df_reduced['charged_off'])\n",
    "total = neg + pos\n",
    "print('Testing Set:\\n    Total: {}\\n    Positive: {} ({:.2f}% of total)\\n'.format(\n",
    "    total, pos, 100 * pos / total))"
   ]
  },
  {
   "cell_type": "code",
   "execution_count": 96,
   "metadata": {},
   "outputs": [],
   "source": [
    "y_train_EXTRAPOLATION_reduced = train_df_EXTRAPOLATION_reduced['charged_off']\n",
    "X_train_EXTRAPOLATION_reduced = train_df_EXTRAPOLATION_reduced.drop(['charged_off'], axis=1)"
   ]
  },
  {
   "cell_type": "code",
   "execution_count": 97,
   "metadata": {},
   "outputs": [
    {
     "name": "stdout",
     "output_type": "stream",
     "text": [
      "(Training Set) The cross-validation AUC for Reduced Random Forest - Exrapolated RI model after a 10 fold cross validation: 0.916 (0.135)\n",
      "(Test Set) The cross-validation AUC for Reduced Random Forest - Exrapolated RI after a 10 fold cross validation: 0.617 (0.007)\n"
     ]
    }
   ],
   "source": [
    "model_ri.fit(X_train_EXTRAPOLATION_reduced, y_train_EXTRAPOLATION_reduced)\n",
    "\n",
    "# 10 fold cross roc_auc\n",
    "cv_scores_train_extrapolated = cross_val_score(estimator= model_ri, X=X_train_EXTRAPOLATION_reduced, y=y_train_EXTRAPOLATION_reduced, scoring='roc_auc', cv=CROSS_VALIDATION, n_jobs=-1)\n",
    "print(\"(Training Set) The cross-validation AUC for Reduced Random Forest - Exrapolated RI model after a 10 fold cross validation: %.3f (%.3f)\" % (mean(cv_scores_train_extrapolated), std(cv_scores_train_extrapolated)))\n",
    "\n",
    "cv_scores_test_extrapolated = cross_val_score(estimator= model_ri, X=X_test_reduced, y=y_test_reduced, scoring='roc_auc', cv=CROSS_VALIDATION, n_jobs=-1)\n",
    "print(\"(Test Set) The cross-validation AUC for Reduced Random Forest - Exrapolated RI after a 10 fold cross validation: %.3f (%.3f)\" % (mean(cv_scores_test_extrapolated), std(cv_scores_test_extrapolated)))"
   ]
  },
  {
   "cell_type": "code",
   "execution_count": 98,
   "metadata": {},
   "outputs": [
    {
     "name": "stdout",
     "output_type": "stream",
     "text": [
      "0.4987805044551676 0.9113759645503858 0.08618504435994931\n"
     ]
    }
   ],
   "source": [
    "yhat_EXTRAPOLATION_reduced = model_ri.predict(X_test_reduced)\n",
    "print(roc_auc_score(y_test_reduced, yhat_EXTRAPOLATION_reduced), recall_score(y_test_reduced, yhat_EXTRAPOLATION_reduced, pos_label=1), recall_score(y_test_reduced, yhat_EXTRAPOLATION_reduced, pos_label=0))"
   ]
  },
  {
   "cell_type": "code",
   "execution_count": 99,
   "metadata": {},
   "outputs": [
    {
     "name": "stdout",
     "output_type": "stream",
     "text": [
      "Confusion matrix, without normalization\n",
      "[[ 9248 98056]\n",
      " [ 3480 35787]]\n"
     ]
    },
    {
     "data": {
      "image/png": "[encoded data removed]",
      "text/plain": [
       "<Figure size 432x288 with 2 Axes>"
      ]
     },
     "metadata": {
      "needs_background": "light"
     },
     "output_type": "display_data"
    }
   ],
   "source": [
    "# Computing Confusion matrix for the above algorithm\n",
    "\n",
    "cnf_matrix = confusion_matrix(y_test, yhat_EXTRAPOLATION_reduced)\n",
    "np.set_printoptions(precision=2)\n",
    "\n",
    "# Plot non-normalized confusion matrix\n",
    "plt.figure()\n",
    "ri.plot_confusion_matrix(cnf_matrix, classes=[\"BAD\", \"GOOD\"])\n",
    "\n",
    "plt.show()"
   ]
  },
  {
   "cell_type": "code",
   "execution_count": 100,
   "metadata": {},
   "outputs": [],
   "source": [
    "results_df = ri.AppendResults(df=results_df, title=\"Reduced RF - Extrapolation\",\n",
    "AUC_scores=cv_scores_train_extrapolated, y_test=y_test, y_score=yhat_EXTRAPOLATION_reduced)"
   ]
  },
  {
   "cell_type": "code",
   "execution_count": 102,
   "metadata": {},
   "outputs": [],
   "source": [
    "# Save to CSV file\n",
    "\n",
    "results_df.to_csv('Results.csv', mode='w+')"
   ]
  },
  {
   "cell_type": "code",
   "execution_count": null,
   "metadata": {},
   "outputs": [],
   "source": []
  }
 ],
 "metadata": {
  "kernelspec": {
   "display_name": "Python 3",
   "language": "python",
   "name": "python3"
  },
  "language_info": {
   "codemirror_mode": {
    "name": "ipython",
    "version": 3
   },
   "file_extension": ".py",
   "mimetype": "text/x-python",
   "name": "python",
   "nbconvert_exporter": "python",
   "pygments_lexer": "ipython3",
   "version": "3.8.8"
  },
  "vscode": {
   "interpreter": {
    "hash": "653ef3dff1567b17fc742ba82e2411e657a18e82067de2bcca7734cac483dd3c"
   }
  }
 },
 "nbformat": 4,
 "nbformat_minor": 2
}
