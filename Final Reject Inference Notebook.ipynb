{
 "cells": [
  {
   "cell_type": "markdown",
   "metadata": {},
   "source": [
    "# Reject Inference Compiled Notebook #"
   ]
  },
  {
   "cell_type": "markdown",
   "metadata": {},
   "source": [
    "### Packages ###"
   ]
  },
  {
   "cell_type": "code",
   "execution_count": 110,
   "metadata": {},
   "outputs": [],
   "source": [
    "import pandas as pd\n",
    "import numpy as np\n",
    "from numpy import mean\n",
    "from numpy import std\n",
    "import matplotlib.pyplot as plt\n",
    "import seaborn as sns\n",
    "import joblib\n",
    "\n",
    "from sklearn.pipeline import Pipeline\n",
    "from sklearn.preprocessing import StandardScaler\n",
    "from sklearn.impute import KNNImputer, SimpleImputer\n",
    "from sklearn.model_selection import GridSearchCV, cross_val_score, RandomizedSearchCV\n",
    "from sklearn.linear_model import LogisticRegression\n",
    "from sklearn.metrics import recall_score, confusion_matrix, roc_auc_score\n",
    "\n",
    "from imblearn.ensemble import BalancedRandomForestClassifier\n",
    "\n",
    "from pgmpy.estimators import ExhaustiveSearch, BicScore, BayesianEstimator\n",
    "from pgmpy.models import BayesianNetwork\n",
    "\n",
    "import RIfunctions as ri"
   ]
  },
  {
   "cell_type": "markdown",
   "metadata": {},
   "source": [
    "### Variables ###"
   ]
  },
  {
   "cell_type": "code",
   "execution_count": 2,
   "metadata": {},
   "outputs": [],
   "source": [
    "RANDOM_STATE = 123\n",
    "CROSS_VALIDATION = 10\n",
    "results_df = pd.DataFrame()"
   ]
  },
  {
   "cell_type": "code",
   "execution_count": 3,
   "metadata": {},
   "outputs": [
    {
     "name": "stderr",
     "output_type": "stream",
     "text": [
      "C:\\Users\\joshy\\AppData\\Roaming\\Python\\Python38\\site-packages\\numpy\\lib\\arraysetops.py:580: FutureWarning: elementwise comparison failed; returning scalar instead, but in the future will perform elementwise comparison\n",
      "  mask |= (ar1 == a)\n"
     ]
    }
   ],
   "source": [
    "# Read CSV files into pandas dataframe\n",
    "application_df = pd.read_csv('input_file_1.csv', sep = ',', index_col=0)\n",
    "accept_df = pd.read_csv('input_file_2.csv', sep = ',', index_col=0)"
   ]
  },
  {
   "cell_type": "code",
   "execution_count": 4,
   "metadata": {},
   "outputs": [
    {
     "name": "stdout",
     "output_type": "stream",
     "text": [
      "(6351001, 6)\n",
      "(4149346, 5)\n"
     ]
    }
   ],
   "source": [
    "# Need to split the dataset early for a consistent test dataset\n",
    "# Removing instances from the application dataset so there is no knowledge\n",
    "\n",
    "'''Exclude the period from the beginning of 2016 onward as it is noticed in time-series plots that this period has\n",
    " a significant portion of the expected defaults not reported yet. This would hence be biased.'''\n",
    "\n",
    "accept_df['issue_d'] = pd.to_datetime(accept_df['issue_d'])\n",
    "application_df['issue_d'] = pd.to_datetime(application_df['issue_d'])\n",
    "\n",
    "application_df = application_df.loc[application_df['issue_d'] < '2016-1-1']\n",
    "accept_df = accept_df.loc[accept_df['issue_d'] < '2016-1-1']\n",
    "\n",
    "accept_train_df = accept_df.loc[accept_df['issue_d'] < accept_df['issue_d'].quantile(0.8)]\n",
    "accept_test_df = accept_df.loc[accept_df['issue_d'] >= accept_df['issue_d'].quantile(0.8)]\n",
    "\n",
    "print(application_df.shape)\n",
    "\n",
    "application_df = application_df.loc[application_df['issue_d'] <= max(accept_train_df[\"issue_d\"])]\n",
    "\n",
    "application_df = application_df.drop('issue_d', axis=1)\n",
    "accept_test_df = accept_test_df.drop('issue_d', axis=1)\n",
    "accept_train_df = accept_train_df.drop('issue_d', axis=1)\n",
    "\n",
    "print(application_df.shape)"
   ]
  },
  {
   "cell_type": "markdown",
   "metadata": {},
   "source": [
    "## Application Dataset ##"
   ]
  },
  {
   "cell_type": "markdown",
   "metadata": {},
   "source": [
    "### Pre-processing ###"
   ]
  },
  {
   "cell_type": "code",
   "execution_count": 5,
   "metadata": {},
   "outputs": [],
   "source": [
    "# Remove instances with a small number of purpose values and align all values\n",
    "\n",
    "application_df = ri.purposeCleaning(application_df)"
   ]
  },
  {
   "cell_type": "code",
   "execution_count": 6,
   "metadata": {},
   "outputs": [
    {
     "data": {
      "text/plain": [
       "<AxesSubplot:>"
      ]
     },
     "execution_count": 6,
     "metadata": {},
     "output_type": "execute_result"
    },
    {
     "data": {
      "image/png": "[encoded data removed]",
      "text/plain": [
       "<Figure size 432x288 with 2 Axes>"
      ]
     },
     "metadata": {
      "needs_background": "light"
     },
     "output_type": "display_data"
    }
   ],
   "source": [
    "corr = application_df.corr()\n",
    "\n",
    "sns.heatmap(corr, xticklabels=corr.columns.values, yticklabels=corr.columns.values)"
   ]
  },
  {
   "cell_type": "code",
   "execution_count": 7,
   "metadata": {},
   "outputs": [],
   "source": [
    "# Get dummies for the purpose variable as it is an object which cannot be interperted   \n",
    "\n",
    "application_df = pd.get_dummies(application_df, columns=['purpose'], drop_first=False)"
   ]
  },
  {
   "cell_type": "code",
   "execution_count": 8,
   "metadata": {},
   "outputs": [],
   "source": [
    "# Train the model on the full dataset. We are trying to build a pre-existing, trained model, not a new model.\n",
    "\n",
    "y_train = application_df['rejected']\n",
    "X_train = application_df.drop(['rejected'], axis=1)"
   ]
  },
  {
   "cell_type": "code",
   "execution_count": 9,
   "metadata": {},
   "outputs": [
    {
     "name": "stdout",
     "output_type": "stream",
     "text": [
      "Training Set:\n",
      "    Total: 3931748\n",
      "    Positive: 3432231 (87.30% of total)\n",
      "\n"
     ]
    }
   ],
   "source": [
    "total, pos, rate = ri.splitCount(application_df['rejected'])\n",
    "\n",
    "print('Training Set:\\n    Total: {}\\n    Positive: {} ({:.2f}% of total)\\n'.format(\n",
    "    total, pos, rate))"
   ]
  },
  {
   "cell_type": "markdown",
   "metadata": {},
   "source": [
    "### Logistic Regression Model for Application Dataset ###"
   ]
  },
  {
   "cell_type": "code",
   "execution_count": 10,
   "metadata": {},
   "outputs": [],
   "source": [
    "# # # Optimisation\n",
    "\n",
    "# pipeline_sgdlogreg = Pipeline([\n",
    "#     # Alternative is KNNImputer\n",
    "#     ('imputer', SimpleImputer(copy=False)), # Mean imputation by default\n",
    "#     ('scaler', StandardScaler(copy=False)),\n",
    "#     ('model',LogisticRegression(\n",
    "#         class_weight='balanced',\n",
    "#         random_state=RANDOM_STATE,\n",
    "#         n_jobs=-2,\n",
    "#         warm_start=True\n",
    "#         )\n",
    "#     )\n",
    "# ])\n",
    "\n",
    "# param_grid_sgdlogreg = {\n",
    "#     'model__solver': ['newton-cg', 'lbfgs', 'sag', 'saga', 'liblinear']\n",
    "# }\n",
    "\n",
    "# grid_sgdlogreg = GridSearchCV(\n",
    "#     estimator=pipeline_sgdlogreg,\n",
    "#     param_grid=param_grid_sgdlogreg,\n",
    "#     scoring='roc_auc',\n",
    "#     pre_dispatch=3,\n",
    "#     n_jobs=-2,\n",
    "#     cv=CROSS_VALIDATION,\n",
    "#     verbose=1,\n",
    "#     return_train_score=False\n",
    "# )\n",
    "\n",
    "# grid_sgdlogreg.fit(X_train, y_train)\n",
    "\n",
    "# print(grid_sgdlogreg.best_estimator_,grid_sgdlogreg.best_params_, grid_sgdlogreg.best_score_)"
   ]
  },
  {
   "cell_type": "code",
   "execution_count": 11,
   "metadata": {},
   "outputs": [],
   "source": [
    "# Hyperparemeters already optimised\n",
    "\n",
    "pipeline_logreg = Pipeline([\n",
    "    ('imputer', SimpleImputer(copy=False)),\n",
    "    ('scaler', StandardScaler(copy=False)),\n",
    "    ('model', LogisticRegression(\n",
    "        class_weight='balanced',\n",
    "        max_iter=1000, \n",
    "        tol = 1e-3,\n",
    "        random_state=RANDOM_STATE,\n",
    "        n_jobs=-1,\n",
    "        warm_start=True,\n",
    "        solver = 'lbfgs'\n",
    "        )\n",
    "    )\n",
    "])"
   ]
  },
  {
   "cell_type": "code",
   "execution_count": 12,
   "metadata": {},
   "outputs": [
    {
     "data": {
      "text/html": [
       "<style>#sk-container-id-1 {color: black;background-color: white;}#sk-container-id-1 pre{padding: 0;}#sk-container-id-1 div.sk-toggleable {background-color: white;}#sk-container-id-1 label.sk-toggleable__label {cursor: pointer;display: block;width: 100%;margin-bottom: 0;padding: 0.3em;box-sizing: border-box;text-align: center;}#sk-container-id-1 label.sk-toggleable__label-arrow:before {content: \"▸\";float: left;margin-right: 0.25em;color: #696969;}#sk-container-id-1 label.sk-toggleable__label-arrow:hover:before {color: black;}#sk-container-id-1 div.sk-estimator:hover label.sk-toggleable__label-arrow:before {color: black;}#sk-container-id-1 div.sk-toggleable__content {max-height: 0;max-width: 0;overflow: hidden;text-align: left;background-color: #f0f8ff;}#sk-container-id-1 div.sk-toggleable__content pre {margin: 0.2em;color: black;border-radius: 0.25em;background-color: #f0f8ff;}#sk-container-id-1 input.sk-toggleable__control:checked~div.sk-toggleable__content {max-height: 200px;max-width: 100%;overflow: auto;}#sk-container-id-1 input.sk-toggleable__control:checked~label.sk-toggleable__label-arrow:before {content: \"▾\";}#sk-container-id-1 div.sk-estimator input.sk-toggleable__control:checked~label.sk-toggleable__label {background-color: #d4ebff;}#sk-container-id-1 div.sk-label input.sk-toggleable__control:checked~label.sk-toggleable__label {background-color: #d4ebff;}#sk-container-id-1 input.sk-hidden--visually {border: 0;clip: rect(1px 1px 1px 1px);clip: rect(1px, 1px, 1px, 1px);height: 1px;margin: -1px;overflow: hidden;padding: 0;position: absolute;width: 1px;}#sk-container-id-1 div.sk-estimator {font-family: monospace;background-color: #f0f8ff;border: 1px dotted black;border-radius: 0.25em;box-sizing: border-box;margin-bottom: 0.5em;}#sk-container-id-1 div.sk-estimator:hover {background-color: #d4ebff;}#sk-container-id-1 div.sk-parallel-item::after {content: \"\";width: 100%;border-bottom: 1px solid gray;flex-grow: 1;}#sk-container-id-1 div.sk-label:hover label.sk-toggleable__label {background-color: #d4ebff;}#sk-container-id-1 div.sk-serial::before {content: \"\";position: absolute;border-left: 1px solid gray;box-sizing: border-box;top: 0;bottom: 0;left: 50%;z-index: 0;}#sk-container-id-1 div.sk-serial {display: flex;flex-direction: column;align-items: center;background-color: white;padding-right: 0.2em;padding-left: 0.2em;position: relative;}#sk-container-id-1 div.sk-item {position: relative;z-index: 1;}#sk-container-id-1 div.sk-parallel {display: flex;align-items: stretch;justify-content: center;background-color: white;position: relative;}#sk-container-id-1 div.sk-item::before, #sk-container-id-1 div.sk-parallel-item::before {content: \"\";position: absolute;border-left: 1px solid gray;box-sizing: border-box;top: 0;bottom: 0;left: 50%;z-index: -1;}#sk-container-id-1 div.sk-parallel-item {display: flex;flex-direction: column;z-index: 1;position: relative;background-color: white;}#sk-container-id-1 div.sk-parallel-item:first-child::after {align-self: flex-end;width: 50%;}#sk-container-id-1 div.sk-parallel-item:last-child::after {align-self: flex-start;width: 50%;}#sk-container-id-1 div.sk-parallel-item:only-child::after {width: 0;}#sk-container-id-1 div.sk-dashed-wrapped {border: 1px dashed gray;margin: 0 0.4em 0.5em 0.4em;box-sizing: border-box;padding-bottom: 0.4em;background-color: white;}#sk-container-id-1 div.sk-label label {font-family: monospace;font-weight: bold;display: inline-block;line-height: 1.2em;}#sk-container-id-1 div.sk-label-container {text-align: center;}#sk-container-id-1 div.sk-container {/* jupyter's `normalize.less` sets `[hidden] { display: none; }` but bootstrap.min.css set `[hidden] { display: none !important; }` so we also need the `!important` here to be able to override the default hidden behavior on the sphinx rendered scikit-learn.org. See: https://github.com/scikit-learn/scikit-learn/issues/21755 */display: inline-block !important;position: relative;}#sk-container-id-1 div.sk-text-repr-fallback {display: none;}</style><div id=\"sk-container-id-1\" class=\"sk-top-container\"><div class=\"sk-text-repr-fallback\"><pre>Pipeline(steps=[(&#x27;imputer&#x27;, SimpleImputer(copy=False)),\n",
       "                (&#x27;scaler&#x27;, StandardScaler(copy=False)),\n",
       "                (&#x27;model&#x27;,\n",
       "                 LogisticRegression(class_weight=&#x27;balanced&#x27;, max_iter=1000,\n",
       "                                    n_jobs=-1, random_state=123, tol=0.001,\n",
       "                                    warm_start=True))])</pre><b>In a Jupyter environment, please rerun this cell to show the HTML representation or trust the notebook. <br />On GitHub, the HTML representation is unable to render, please try loading this page with nbviewer.org.</b></div><div class=\"sk-container\" hidden><div class=\"sk-item sk-dashed-wrapped\"><div class=\"sk-label-container\"><div class=\"sk-label sk-toggleable\"><input class=\"sk-toggleable__control sk-hidden--visually\" id=\"sk-estimator-id-1\" type=\"checkbox\" ><label for=\"sk-estimator-id-1\" class=\"sk-toggleable__label sk-toggleable__label-arrow\">Pipeline</label><div class=\"sk-toggleable__content\"><pre>Pipeline(steps=[(&#x27;imputer&#x27;, SimpleImputer(copy=False)),\n",
       "                (&#x27;scaler&#x27;, StandardScaler(copy=False)),\n",
       "                (&#x27;model&#x27;,\n",
       "                 LogisticRegression(class_weight=&#x27;balanced&#x27;, max_iter=1000,\n",
       "                                    n_jobs=-1, random_state=123, tol=0.001,\n",
       "                                    warm_start=True))])</pre></div></div></div><div class=\"sk-serial\"><div class=\"sk-item\"><div class=\"sk-estimator sk-toggleable\"><input class=\"sk-toggleable__control sk-hidden--visually\" id=\"sk-estimator-id-2\" type=\"checkbox\" ><label for=\"sk-estimator-id-2\" class=\"sk-toggleable__label sk-toggleable__label-arrow\">SimpleImputer</label><div class=\"sk-toggleable__content\"><pre>SimpleImputer(copy=False)</pre></div></div></div><div class=\"sk-item\"><div class=\"sk-estimator sk-toggleable\"><input class=\"sk-toggleable__control sk-hidden--visually\" id=\"sk-estimator-id-3\" type=\"checkbox\" ><label for=\"sk-estimator-id-3\" class=\"sk-toggleable__label sk-toggleable__label-arrow\">StandardScaler</label><div class=\"sk-toggleable__content\"><pre>StandardScaler(copy=False)</pre></div></div></div><div class=\"sk-item\"><div class=\"sk-estimator sk-toggleable\"><input class=\"sk-toggleable__control sk-hidden--visually\" id=\"sk-estimator-id-4\" type=\"checkbox\" ><label for=\"sk-estimator-id-4\" class=\"sk-toggleable__label sk-toggleable__label-arrow\">LogisticRegression</label><div class=\"sk-toggleable__content\"><pre>LogisticRegression(class_weight=&#x27;balanced&#x27;, max_iter=1000, n_jobs=-1,\n",
       "                   random_state=123, tol=0.001, warm_start=True)</pre></div></div></div></div></div></div></div>"
      ],
      "text/plain": [
       "Pipeline(steps=[('imputer', SimpleImputer(copy=False)),\n",
       "                ('scaler', StandardScaler(copy=False)),\n",
       "                ('model',\n",
       "                 LogisticRegression(class_weight='balanced', max_iter=1000,\n",
       "                                    n_jobs=-1, random_state=123, tol=0.001,\n",
       "                                    warm_start=True))])"
      ]
     },
     "execution_count": 12,
     "metadata": {},
     "output_type": "execute_result"
    }
   ],
   "source": [
    "pipeline_logreg.fit(X_train, y_train)"
   ]
  },
  {
   "cell_type": "code",
   "execution_count": 13,
   "metadata": {},
   "outputs": [
    {
     "name": "stdout",
     "output_type": "stream",
     "text": [
      "The cross-validation AUC for optimised LR model after a 10 fold cross validation: 0.913 (0.016)\n"
     ]
    }
   ],
   "source": [
    "cv_scores_lr = cross_val_score(estimator= pipeline_logreg, X=X_train, y=y_train, scoring='roc_auc', cv=CROSS_VALIDATION, n_jobs=-1)\n",
    "print(\"The cross-validation AUC for optimised LR model after a 10 fold cross validation: %.3f (%.3f)\" % (mean(cv_scores_lr), std(cv_scores_lr)))"
   ]
  },
  {
   "cell_type": "code",
   "execution_count": 14,
   "metadata": {},
   "outputs": [
    {
     "name": "stdout",
     "output_type": "stream",
     "text": [
      "0.9149395779299506 0.9099728427369836 0.774380051129391\n"
     ]
    }
   ],
   "source": [
    "# Scores of each application and model performance\n",
    "\n",
    "y_score = pipeline_logreg.predict_proba(X_train)[:,1]\n",
    "\n",
    "y_score_flag = [int(round(i)) for i in y_score]\n",
    "\n",
    "print(roc_auc_score(y_train, y_score), recall_score(y_train, y_score_flag, pos_label=1), recall_score(y_train, y_score_flag, pos_label=0))"
   ]
  },
  {
   "cell_type": "code",
   "execution_count": 15,
   "metadata": {},
   "outputs": [
    {
     "name": "stdout",
     "output_type": "stream",
     "text": [
      "Confusion matrix, without normalization\n",
      "[[ 386816  112701]\n",
      " [ 308994 3123237]]\n"
     ]
    },
    {
     "data": {
      "image/png": "[encoded data removed]",
      "text/plain": [
       "<Figure size 432x288 with 2 Axes>"
      ]
     },
     "metadata": {
      "needs_background": "light"
     },
     "output_type": "display_data"
    }
   ],
   "source": [
    "# Computing Confusion matrix for the above algorithm\n",
    "\n",
    "cnf_matrix = confusion_matrix(y_train, y_score_flag)\n",
    "np.set_printoptions(precision=2)\n",
    "\n",
    "# Plot non-normalized confusion matrix\n",
    "plt.figure()\n",
    "ri.plot_confusion_matrix(cnf_matrix, classes=[\"REJECT\", \"ACCEPT\"])\n",
    "\n",
    "plt.show()"
   ]
  },
  {
   "cell_type": "code",
   "execution_count": 16,
   "metadata": {},
   "outputs": [],
   "source": [
    "results_df = ri.AppendResults(df=results_df, title=\"LR Application Dataset\",\n",
    "AUC_scores=cv_scores_lr, y_test=y_train, y_score=y_score)\n"
   ]
  },
  {
   "cell_type": "markdown",
   "metadata": {},
   "source": [
    "### Save LR Results ###"
   ]
  },
  {
   "cell_type": "code",
   "execution_count": 17,
   "metadata": {},
   "outputs": [],
   "source": [
    "# Add score column to the dataframe\n",
    "\n",
    "application_df['score'] = np.hstack(y_score)"
   ]
  },
  {
   "cell_type": "code",
   "execution_count": 18,
   "metadata": {},
   "outputs": [],
   "source": [
    "# # Undummy the purpose column\n",
    "\n",
    "def undummy(d):\n",
    "    return d.dot(d.columns)\n",
    "\n",
    "application_df = application_df.assign(purpose=application_df.filter(regex='^purpose').pipe(undummy))\n",
    "application_df['purpose'] = application_df['purpose'].str.replace(\"purpose_\",\"\")\n",
    "application_df = application_df[application_df.columns.drop(list(application_df.filter(regex=\"purpose_\")))]"
   ]
  },
  {
   "cell_type": "code",
   "execution_count": 19,
   "metadata": {},
   "outputs": [],
   "source": [
    "# Save to CSV file\n",
    "\n",
    "application_df.to_csv('AR Scores.csv', mode='w+')"
   ]
  },
  {
   "cell_type": "markdown",
   "metadata": {},
   "source": [
    "## Accepted Loans Dataset ##"
   ]
  },
  {
   "cell_type": "markdown",
   "metadata": {},
   "source": [
    "### Pre-processing ###"
   ]
  },
  {
   "cell_type": "code",
   "execution_count": 20,
   "metadata": {},
   "outputs": [],
   "source": [
    "# Rows with Educational and Renewable Energy purpose have been dropped in the application dataset\n",
    "\n",
    "accept_train_df = accept_train_df.drop(accept_train_df[accept_train_df['purpose'] == 'educational'].index)\n",
    "accept_test_df = accept_test_df.drop(accept_test_df[accept_test_df['purpose'] == 'educational'].index)\n",
    "\n",
    "accept_train_df = accept_train_df.drop(accept_train_df[accept_train_df['purpose'] == 'renewable_energy'].index)\n",
    "accept_test_df = accept_test_df.drop(accept_test_df[accept_test_df['purpose'] == 'renewable_energy'].index)"
   ]
  },
  {
   "cell_type": "code",
   "execution_count": 21,
   "metadata": {},
   "outputs": [],
   "source": [
    "all_cols = list(accept_df.columns)\n",
    "all_cols.remove('charged_off')\n",
    "all_cols.remove('issue_d')\n",
    "\n",
    "to_drop_categorical = ['home_ownership', 'verification_status', 'purpose', 'application_type']\n",
    "\n",
    "for i in to_drop_categorical:\n",
    "\n",
    "    all_cols.remove(i)"
   ]
  },
  {
   "cell_type": "code",
   "execution_count": 22,
   "metadata": {},
   "outputs": [
    {
     "data": {
      "text/plain": [
       "<AxesSubplot:>"
      ]
     },
     "execution_count": 22,
     "metadata": {},
     "output_type": "execute_result"
    },
    {
     "data": {
      "image/png": "[encoded data removed]",
      "text/plain": [
       "<Figure size 432x288 with 2 Axes>"
      ]
     },
     "metadata": {
      "needs_background": "light"
     },
     "output_type": "display_data"
    }
   ],
   "source": [
    "corr = accept_df.corr()\n",
    "\n",
    "sns.heatmap(corr, xticklabels=corr.columns.values, yticklabels=corr.columns.values)"
   ]
  },
  {
   "cell_type": "code",
   "execution_count": 23,
   "metadata": {},
   "outputs": [],
   "source": [
    "# Application value did not exist in the training set but did in the test\n",
    "\n",
    "accept_train_df[\"at_Joint App\"] = 0\n",
    "\n",
    "accept_train_df_all = pd.get_dummies(accept_train_df,prefix=[\"ho\",\"vs\",\"purp\",\"at\"], columns=['home_ownership', 'verification_status', 'purpose', 'application_type'], drop_first=False)\n",
    "accept_test_df_all = pd.get_dummies(accept_test_df,prefix=[\"ho\",\"vs\",\"purp\",\"at\"], columns=['home_ownership', 'verification_status', 'purpose', 'application_type'], drop_first=False)\n"
   ]
  },
  {
   "cell_type": "code",
   "execution_count": 24,
   "metadata": {},
   "outputs": [],
   "source": [
    "scaler_all = StandardScaler(copy=False)\n",
    "\n",
    "accept_train_df_all[all_cols] = accept_train_df_all[all_cols].fillna(accept_train_df_all[all_cols].mean())\n",
    "accept_test_df_all[all_cols] = accept_test_df_all[all_cols].fillna(accept_test_df_all[all_cols].mean())\n",
    "\n",
    "accept_train_df_all[all_cols] = scaler_all.fit_transform(accept_train_df_all[all_cols], accept_train_df_all['charged_off'])\n",
    "accept_test_df_all[all_cols] = scaler_all.transform(accept_test_df_all[all_cols])"
   ]
  },
  {
   "cell_type": "code",
   "execution_count": 25,
   "metadata": {},
   "outputs": [
    {
     "name": "stdout",
     "output_type": "stream",
     "text": [
      "Training Set:\n",
      "    Total: 499517\n",
      "    Positive: 91418 (18.30% of total)\n",
      "\n",
      "Testing Set:\n",
      "    Total: 146571\n",
      "    Positive: 39267 (26.79% of total)\n",
      "\n"
     ]
    }
   ],
   "source": [
    "total, pos, rate = ri.splitCount(accept_train_df_all['charged_off'])\n",
    "print('Training Set:\\n    Total: {}\\n    Positive: {} ({:.2f}% of total)\\n'.format(\n",
    "    total, pos, rate))\n",
    "\n",
    "total, pos, rate = ri.splitCount(accept_test_df_all['charged_off'])\n",
    "print('Testing Set:\\n    Total: {}\\n    Positive: {} ({:.2f}% of total)\\n'.format(\n",
    "    total, pos, rate))"
   ]
  },
  {
   "cell_type": "code",
   "execution_count": 26,
   "metadata": {},
   "outputs": [],
   "source": [
    "y_train = accept_train_df_all['charged_off']\n",
    "y_test = accept_test_df_all['charged_off']\n",
    "\n",
    "X_train = accept_train_df_all.drop('charged_off', axis=1)\n",
    "X_test = accept_test_df_all.drop('charged_off', axis=1)\n"
   ]
  },
  {
   "cell_type": "markdown",
   "metadata": {},
   "source": [
    "### Random Forest Model ###"
   ]
  },
  {
   "cell_type": "code",
   "execution_count": 27,
   "metadata": {},
   "outputs": [],
   "source": [
    "# Hyperparameter tuning. Took over 11 hours to run.\n",
    "\n",
    "# best_hyperparams, best_rf = ri.RandomForestTuning(BalancedRandomForestClassifier(), X_train, y_train, filename = \"./random_forest.joblib\", cv = CROSS_VALIDATION)\n",
    "# print(\"Best hyperparameters: \\n\", best_hyperparams )"
   ]
  },
  {
   "cell_type": "code",
   "execution_count": 28,
   "metadata": {},
   "outputs": [
    {
     "name": "stdout",
     "output_type": "stream",
     "text": [
      "{'bootstrap': True, 'ccp_alpha': 0.0, 'class_weight': None, 'criterion': 'gini', 'max_depth': 5, 'max_features': 'sqrt', 'max_leaf_nodes': None, 'max_samples': None, 'min_impurity_decrease': 0.0, 'min_samples_leaf': 1, 'min_samples_split': 2, 'min_weight_fraction_leaf': 0.0, 'n_estimators': 50, 'n_jobs': None, 'oob_score': False, 'random_state': None, 'replacement': False, 'sampling_strategy': 'auto', 'verbose': 0, 'warm_start': False}\n"
     ]
    },
    {
     "data": {
      "text/html": [
       "<style>#sk-container-id-2 {color: black;background-color: white;}#sk-container-id-2 pre{padding: 0;}#sk-container-id-2 div.sk-toggleable {background-color: white;}#sk-container-id-2 label.sk-toggleable__label {cursor: pointer;display: block;width: 100%;margin-bottom: 0;padding: 0.3em;box-sizing: border-box;text-align: center;}#sk-container-id-2 label.sk-toggleable__label-arrow:before {content: \"▸\";float: left;margin-right: 0.25em;color: #696969;}#sk-container-id-2 label.sk-toggleable__label-arrow:hover:before {color: black;}#sk-container-id-2 div.sk-estimator:hover label.sk-toggleable__label-arrow:before {color: black;}#sk-container-id-2 div.sk-toggleable__content {max-height: 0;max-width: 0;overflow: hidden;text-align: left;background-color: #f0f8ff;}#sk-container-id-2 div.sk-toggleable__content pre {margin: 0.2em;color: black;border-radius: 0.25em;background-color: #f0f8ff;}#sk-container-id-2 input.sk-toggleable__control:checked~div.sk-toggleable__content {max-height: 200px;max-width: 100%;overflow: auto;}#sk-container-id-2 input.sk-toggleable__control:checked~label.sk-toggleable__label-arrow:before {content: \"▾\";}#sk-container-id-2 div.sk-estimator input.sk-toggleable__control:checked~label.sk-toggleable__label {background-color: #d4ebff;}#sk-container-id-2 div.sk-label input.sk-toggleable__control:checked~label.sk-toggleable__label {background-color: #d4ebff;}#sk-container-id-2 input.sk-hidden--visually {border: 0;clip: rect(1px 1px 1px 1px);clip: rect(1px, 1px, 1px, 1px);height: 1px;margin: -1px;overflow: hidden;padding: 0;position: absolute;width: 1px;}#sk-container-id-2 div.sk-estimator {font-family: monospace;background-color: #f0f8ff;border: 1px dotted black;border-radius: 0.25em;box-sizing: border-box;margin-bottom: 0.5em;}#sk-container-id-2 div.sk-estimator:hover {background-color: #d4ebff;}#sk-container-id-2 div.sk-parallel-item::after {content: \"\";width: 100%;border-bottom: 1px solid gray;flex-grow: 1;}#sk-container-id-2 div.sk-label:hover label.sk-toggleable__label {background-color: #d4ebff;}#sk-container-id-2 div.sk-serial::before {content: \"\";position: absolute;border-left: 1px solid gray;box-sizing: border-box;top: 0;bottom: 0;left: 50%;z-index: 0;}#sk-container-id-2 div.sk-serial {display: flex;flex-direction: column;align-items: center;background-color: white;padding-right: 0.2em;padding-left: 0.2em;position: relative;}#sk-container-id-2 div.sk-item {position: relative;z-index: 1;}#sk-container-id-2 div.sk-parallel {display: flex;align-items: stretch;justify-content: center;background-color: white;position: relative;}#sk-container-id-2 div.sk-item::before, #sk-container-id-2 div.sk-parallel-item::before {content: \"\";position: absolute;border-left: 1px solid gray;box-sizing: border-box;top: 0;bottom: 0;left: 50%;z-index: -1;}#sk-container-id-2 div.sk-parallel-item {display: flex;flex-direction: column;z-index: 1;position: relative;background-color: white;}#sk-container-id-2 div.sk-parallel-item:first-child::after {align-self: flex-end;width: 50%;}#sk-container-id-2 div.sk-parallel-item:last-child::after {align-self: flex-start;width: 50%;}#sk-container-id-2 div.sk-parallel-item:only-child::after {width: 0;}#sk-container-id-2 div.sk-dashed-wrapped {border: 1px dashed gray;margin: 0 0.4em 0.5em 0.4em;box-sizing: border-box;padding-bottom: 0.4em;background-color: white;}#sk-container-id-2 div.sk-label label {font-family: monospace;font-weight: bold;display: inline-block;line-height: 1.2em;}#sk-container-id-2 div.sk-label-container {text-align: center;}#sk-container-id-2 div.sk-container {/* jupyter's `normalize.less` sets `[hidden] { display: none; }` but bootstrap.min.css set `[hidden] { display: none !important; }` so we also need the `!important` here to be able to override the default hidden behavior on the sphinx rendered scikit-learn.org. See: https://github.com/scikit-learn/scikit-learn/issues/21755 */display: inline-block !important;position: relative;}#sk-container-id-2 div.sk-text-repr-fallback {display: none;}</style><div id=\"sk-container-id-2\" class=\"sk-top-container\"><div class=\"sk-text-repr-fallback\"><pre>BalancedRandomForestClassifier(max_depth=5, n_estimators=50)</pre><b>In a Jupyter environment, please rerun this cell to show the HTML representation or trust the notebook. <br />On GitHub, the HTML representation is unable to render, please try loading this page with nbviewer.org.</b></div><div class=\"sk-container\" hidden><div class=\"sk-item\"><div class=\"sk-estimator sk-toggleable\"><input class=\"sk-toggleable__control sk-hidden--visually\" id=\"sk-estimator-id-5\" type=\"checkbox\" checked><label for=\"sk-estimator-id-5\" class=\"sk-toggleable__label sk-toggleable__label-arrow\">BalancedRandomForestClassifier</label><div class=\"sk-toggleable__content\"><pre>BalancedRandomForestClassifier(max_depth=5, n_estimators=50)</pre></div></div></div></div></div>"
      ],
      "text/plain": [
       "BalancedRandomForestClassifier(max_depth=5, n_estimators=50)"
      ]
     },
     "execution_count": 28,
     "metadata": {},
     "output_type": "execute_result"
    }
   ],
   "source": [
    "model = joblib.load(\"./random_forest.joblib\")\n",
    "print(model.get_params())\n",
    "model.fit(X_train, y_train)"
   ]
  },
  {
   "cell_type": "code",
   "execution_count": 29,
   "metadata": {},
   "outputs": [
    {
     "name": "stdout",
     "output_type": "stream",
     "text": [
      "(Training Set) The cross-validation AUC for optimised Random Forest model after a 10 fold cross validation: 0.689 (0.014)\n"
     ]
    }
   ],
   "source": [
    "cv_scores = cross_val_score(estimator= model, X=X_train, y=y_train, scoring='roc_auc', cv=CROSS_VALIDATION, n_jobs=-1)\n",
    "print(\"(Training Set) The cross-validation AUC for optimised Random Forest model after a 10 fold cross validation: %.3f (%.3f)\" % (mean(cv_scores), std(cv_scores)))"
   ]
  },
  {
   "cell_type": "code",
   "execution_count": 30,
   "metadata": {},
   "outputs": [
    {
     "name": "stderr",
     "output_type": "stream",
     "text": [
      "C:\\Users\\joshy\\anaconda3\\lib\\site-packages\\sklearn\\base.py:493: FutureWarning: The feature names should match those that were passed during fit. Starting version 1.2, an error will be raised.\n",
      "Feature names must be in the same order as they were in fit.\n",
      "\n",
      "  warnings.warn(message, FutureWarning)\n"
     ]
    }
   ],
   "source": [
    "yhat = model.predict(X_test)\n",
    "\n",
    "# Computing Confusion matrix for the above algorithm\n",
    "\n",
    "# np.set_printoptions(precision=2)\n",
    "\n",
    "# # Plot non-normalized confusion matrix\n",
    "# plt.figure()\n",
    "# ri.plot_confusion_matrix(cnf_matrix, classes=[\"BAD\", \"GOOD\"])\n",
    "\n",
    "# plt.show()"
   ]
  },
  {
   "cell_type": "code",
   "execution_count": 31,
   "metadata": {},
   "outputs": [],
   "source": [
    "results_df = ri.AppendResults(df=results_df, title=\"Full RF - Accepts Only\",\n",
    "AUC_scores=cv_scores, y_test=y_test, y_score=yhat)"
   ]
  },
  {
   "cell_type": "markdown",
   "metadata": {},
   "source": [
    "## Matching Characteristics ##"
   ]
  },
  {
   "cell_type": "markdown",
   "metadata": {},
   "source": [
    "### Pre-processing ###"
   ]
  },
  {
   "cell_type": "code",
   "execution_count": 32,
   "metadata": {},
   "outputs": [],
   "source": [
    "numerical_cols = ['loan_amnt', 'emp_length', 'dti']\n",
    "match_cols = ['loan_amnt', 'emp_length', 'dti','purpose','charged_off']\n",
    "excl_cols = ['charged_off','weight','score','rejected','accept_score']\n",
    "\n",
    "accept_train_df_reduced = accept_train_df[match_cols]\n",
    "accept_test_df_reduced = accept_test_df[match_cols]"
   ]
  },
  {
   "cell_type": "code",
   "execution_count": 33,
   "metadata": {},
   "outputs": [],
   "source": [
    "accept_train_df_reduced = pd.get_dummies(accept_train_df_reduced, prefix=[\"purp\"], columns=['purpose'], drop_first=False)\n",
    "accept_test_df_reduced = pd.get_dummies(accept_test_df_reduced, prefix=[\"purp\"], columns=['purpose'], drop_first=False)"
   ]
  },
  {
   "cell_type": "code",
   "execution_count": 34,
   "metadata": {},
   "outputs": [],
   "source": [
    "scaler_reduced = StandardScaler(copy=False)\n",
    "\n",
    "accept_train_df_reduced[numerical_cols] = accept_train_df_reduced[numerical_cols].fillna(accept_train_df_reduced[numerical_cols].mean())\n",
    "accept_test_df_reduced[numerical_cols] = accept_test_df_reduced[numerical_cols].fillna(accept_test_df_reduced[numerical_cols].mean())\n",
    "\n",
    "accept_train_df_reduced[numerical_cols] = scaler_reduced.fit_transform(accept_train_df_reduced[numerical_cols], accept_train_df_reduced['charged_off'])\n",
    "accept_test_df_reduced[numerical_cols] = scaler_reduced.transform(accept_test_df_reduced[numerical_cols])"
   ]
  },
  {
   "cell_type": "code",
   "execution_count": 35,
   "metadata": {},
   "outputs": [
    {
     "name": "stdout",
     "output_type": "stream",
     "text": [
      "Training Set:\n",
      "    Total: 499517\n",
      "    Positive: 91418 (18.30% of total)\n",
      "\n",
      "Testing Set:\n",
      "    Total: 146571\n",
      "    Positive: 39267 (26.79% of total)\n",
      "\n"
     ]
    }
   ],
   "source": [
    "total, pos, rate = ri.splitCount(accept_train_df_reduced['charged_off'])\n",
    "print('Training Set:\\n    Total: {}\\n    Positive: {} ({:.2f}% of total)\\n'.format(\n",
    "    total, pos, rate))\n",
    "\n",
    "total, pos, rate = ri.splitCount(accept_test_df_reduced['charged_off'])\n",
    "print('Testing Set:\\n    Total: {}\\n    Positive: {} ({:.2f}% of total)\\n'.format(\n",
    "    total, pos, rate))"
   ]
  },
  {
   "cell_type": "code",
   "execution_count": 36,
   "metadata": {},
   "outputs": [],
   "source": [
    "y_train_reduced = accept_train_df_reduced['charged_off']\n",
    "y_test_reduced = accept_test_df_reduced['charged_off']\n",
    "\n",
    "X_train_reduced = accept_train_df_reduced.drop('charged_off', axis=1)\n",
    "X_test_reduced = accept_test_df_reduced.drop('charged_off', axis=1)"
   ]
  },
  {
   "cell_type": "markdown",
   "metadata": {},
   "source": [
    "### Random Forest Model ###"
   ]
  },
  {
   "cell_type": "code",
   "execution_count": 37,
   "metadata": {},
   "outputs": [],
   "source": [
    "# # # Hyperparameter tuning. Took over 11 hours to run.\n",
    "# # May be interesting to see if the optimised hyperparameters change with reduced characteristics\n",
    "\n",
    "# best_hyperparams, best_rf = ri.RandomForestTuning(BalancedRandomForestClassifier(), X_train_reduced, y_train_reduced, filename = \"./random_forest_reduced.joblib\", cv = CROSS_VALIDATION)\n",
    "\n",
    "# print(\"Best hyperparameters: \\n\", best_hyperparams )"
   ]
  },
  {
   "cell_type": "code",
   "execution_count": 38,
   "metadata": {},
   "outputs": [
    {
     "name": "stdout",
     "output_type": "stream",
     "text": [
      "{'bootstrap': True, 'ccp_alpha': 0.0, 'class_weight': None, 'criterion': 'entropy', 'max_depth': 10, 'max_features': 'log2', 'max_leaf_nodes': None, 'max_samples': None, 'min_impurity_decrease': 0.0, 'min_samples_leaf': 1, 'min_samples_split': 2, 'min_weight_fraction_leaf': 0.0, 'n_estimators': 50, 'n_jobs': None, 'oob_score': False, 'random_state': None, 'replacement': False, 'sampling_strategy': 'auto', 'verbose': 0, 'warm_start': False}\n"
     ]
    },
    {
     "data": {
      "text/html": [
       "<style>#sk-container-id-3 {color: black;background-color: white;}#sk-container-id-3 pre{padding: 0;}#sk-container-id-3 div.sk-toggleable {background-color: white;}#sk-container-id-3 label.sk-toggleable__label {cursor: pointer;display: block;width: 100%;margin-bottom: 0;padding: 0.3em;box-sizing: border-box;text-align: center;}#sk-container-id-3 label.sk-toggleable__label-arrow:before {content: \"▸\";float: left;margin-right: 0.25em;color: #696969;}#sk-container-id-3 label.sk-toggleable__label-arrow:hover:before {color: black;}#sk-container-id-3 div.sk-estimator:hover label.sk-toggleable__label-arrow:before {color: black;}#sk-container-id-3 div.sk-toggleable__content {max-height: 0;max-width: 0;overflow: hidden;text-align: left;background-color: #f0f8ff;}#sk-container-id-3 div.sk-toggleable__content pre {margin: 0.2em;color: black;border-radius: 0.25em;background-color: #f0f8ff;}#sk-container-id-3 input.sk-toggleable__control:checked~div.sk-toggleable__content {max-height: 200px;max-width: 100%;overflow: auto;}#sk-container-id-3 input.sk-toggleable__control:checked~label.sk-toggleable__label-arrow:before {content: \"▾\";}#sk-container-id-3 div.sk-estimator input.sk-toggleable__control:checked~label.sk-toggleable__label {background-color: #d4ebff;}#sk-container-id-3 div.sk-label input.sk-toggleable__control:checked~label.sk-toggleable__label {background-color: #d4ebff;}#sk-container-id-3 input.sk-hidden--visually {border: 0;clip: rect(1px 1px 1px 1px);clip: rect(1px, 1px, 1px, 1px);height: 1px;margin: -1px;overflow: hidden;padding: 0;position: absolute;width: 1px;}#sk-container-id-3 div.sk-estimator {font-family: monospace;background-color: #f0f8ff;border: 1px dotted black;border-radius: 0.25em;box-sizing: border-box;margin-bottom: 0.5em;}#sk-container-id-3 div.sk-estimator:hover {background-color: #d4ebff;}#sk-container-id-3 div.sk-parallel-item::after {content: \"\";width: 100%;border-bottom: 1px solid gray;flex-grow: 1;}#sk-container-id-3 div.sk-label:hover label.sk-toggleable__label {background-color: #d4ebff;}#sk-container-id-3 div.sk-serial::before {content: \"\";position: absolute;border-left: 1px solid gray;box-sizing: border-box;top: 0;bottom: 0;left: 50%;z-index: 0;}#sk-container-id-3 div.sk-serial {display: flex;flex-direction: column;align-items: center;background-color: white;padding-right: 0.2em;padding-left: 0.2em;position: relative;}#sk-container-id-3 div.sk-item {position: relative;z-index: 1;}#sk-container-id-3 div.sk-parallel {display: flex;align-items: stretch;justify-content: center;background-color: white;position: relative;}#sk-container-id-3 div.sk-item::before, #sk-container-id-3 div.sk-parallel-item::before {content: \"\";position: absolute;border-left: 1px solid gray;box-sizing: border-box;top: 0;bottom: 0;left: 50%;z-index: -1;}#sk-container-id-3 div.sk-parallel-item {display: flex;flex-direction: column;z-index: 1;position: relative;background-color: white;}#sk-container-id-3 div.sk-parallel-item:first-child::after {align-self: flex-end;width: 50%;}#sk-container-id-3 div.sk-parallel-item:last-child::after {align-self: flex-start;width: 50%;}#sk-container-id-3 div.sk-parallel-item:only-child::after {width: 0;}#sk-container-id-3 div.sk-dashed-wrapped {border: 1px dashed gray;margin: 0 0.4em 0.5em 0.4em;box-sizing: border-box;padding-bottom: 0.4em;background-color: white;}#sk-container-id-3 div.sk-label label {font-family: monospace;font-weight: bold;display: inline-block;line-height: 1.2em;}#sk-container-id-3 div.sk-label-container {text-align: center;}#sk-container-id-3 div.sk-container {/* jupyter's `normalize.less` sets `[hidden] { display: none; }` but bootstrap.min.css set `[hidden] { display: none !important; }` so we also need the `!important` here to be able to override the default hidden behavior on the sphinx rendered scikit-learn.org. See: https://github.com/scikit-learn/scikit-learn/issues/21755 */display: inline-block !important;position: relative;}#sk-container-id-3 div.sk-text-repr-fallback {display: none;}</style><div id=\"sk-container-id-3\" class=\"sk-top-container\"><div class=\"sk-text-repr-fallback\"><pre>BalancedRandomForestClassifier(criterion=&#x27;entropy&#x27;, max_depth=10,\n",
       "                               max_features=&#x27;log2&#x27;, n_estimators=50)</pre><b>In a Jupyter environment, please rerun this cell to show the HTML representation or trust the notebook. <br />On GitHub, the HTML representation is unable to render, please try loading this page with nbviewer.org.</b></div><div class=\"sk-container\" hidden><div class=\"sk-item\"><div class=\"sk-estimator sk-toggleable\"><input class=\"sk-toggleable__control sk-hidden--visually\" id=\"sk-estimator-id-6\" type=\"checkbox\" checked><label for=\"sk-estimator-id-6\" class=\"sk-toggleable__label sk-toggleable__label-arrow\">BalancedRandomForestClassifier</label><div class=\"sk-toggleable__content\"><pre>BalancedRandomForestClassifier(criterion=&#x27;entropy&#x27;, max_depth=10,\n",
       "                               max_features=&#x27;log2&#x27;, n_estimators=50)</pre></div></div></div></div></div>"
      ],
      "text/plain": [
       "BalancedRandomForestClassifier(criterion='entropy', max_depth=10,\n",
       "                               max_features='log2', n_estimators=50)"
      ]
     },
     "execution_count": 38,
     "metadata": {},
     "output_type": "execute_result"
    }
   ],
   "source": [
    "model_reduced = joblib.load(\"./random_forest_reduced.joblib\")\n",
    "print(model_reduced.get_params())\n",
    "model_reduced.fit(X_train_reduced, y_train_reduced)"
   ]
  },
  {
   "cell_type": "code",
   "execution_count": 39,
   "metadata": {},
   "outputs": [
    {
     "name": "stdout",
     "output_type": "stream",
     "text": [
      "(Training Set) The cross-validation AUC for Reduced Random Forest model after a 10 fold cross validation: 0.606 (0.012)\n"
     ]
    }
   ],
   "source": [
    "cv_scores = cross_val_score(estimator= model_reduced, X=X_train_reduced, y=y_train_reduced, scoring='roc_auc', cv=CROSS_VALIDATION, n_jobs=-1)\n",
    "print(\"(Training Set) The cross-validation AUC for Reduced Random Forest model after a 10 fold cross validation: %.3f (%.3f)\" % (mean(cv_scores), std(cv_scores)))"
   ]
  },
  {
   "cell_type": "code",
   "execution_count": 40,
   "metadata": {},
   "outputs": [],
   "source": [
    "yhat_reduced = model_reduced.predict(X_test_reduced)"
   ]
  },
  {
   "cell_type": "code",
   "execution_count": 41,
   "metadata": {},
   "outputs": [],
   "source": [
    "results_df = ri.AppendResults(df=results_df, title=\"Reduced RF - Accepts Only\",\n",
    "AUC_scores=cv_scores, y_test=y_test_reduced, y_score=yhat_reduced)"
   ]
  },
  {
   "cell_type": "markdown",
   "metadata": {},
   "source": [
    "## Reject Inference Techniques ##"
   ]
  },
  {
   "cell_type": "code",
   "execution_count": 42,
   "metadata": {},
   "outputs": [],
   "source": [
    "rejected = application_df.loc[application_df[\"rejected\"] == 1]"
   ]
  },
  {
   "cell_type": "markdown",
   "metadata": {},
   "source": [
    "### Simple Assignment ###"
   ]
  },
  {
   "cell_type": "code",
   "execution_count": 43,
   "metadata": {},
   "outputs": [],
   "source": [
    "ri_df = pd.concat([accept_train_df, rejected], axis=0, ignore_index=True)\n",
    "ri_df.loc[ri_df['rejected'] == 1, 'charged_off'] = 1"
   ]
  },
  {
   "cell_type": "code",
   "execution_count": 44,
   "metadata": {},
   "outputs": [],
   "source": [
    "train_df_sa = ri_df[match_cols]\n",
    "train_df_sa = ri.RejectPreprocessing(df=train_df_sa, num_cols=numerical_cols, cat_cols=[\"purpose\"], prefix=[\"purp\"], scaler=scaler_reduced)"
   ]
  },
  {
   "cell_type": "code",
   "execution_count": 45,
   "metadata": {},
   "outputs": [
    {
     "name": "stdout",
     "output_type": "stream",
     "text": [
      "Training Set:\n",
      "    Total: 3931748\n",
      "    Positive: 3523649 (89.62% of total)\n",
      "\n",
      "Testing Set:\n",
      "    Total: 146571\n",
      "    Positive: 39267 (26.79% of total)\n",
      "\n"
     ]
    }
   ],
   "source": [
    "total, pos, rate = ri.splitCount(train_df_sa['charged_off'])\n",
    "print('Training Set:\\n    Total: {}\\n    Positive: {} ({:.2f}% of total)\\n'.format(\n",
    "    total, pos, rate))\n",
    "\n",
    "total, pos, rate = ri.splitCount(accept_test_df_reduced['charged_off'])\n",
    "print('Testing Set:\\n    Total: {}\\n    Positive: {} ({:.2f}% of total)\\n'.format(\n",
    "    total, pos, rate))"
   ]
  },
  {
   "cell_type": "code",
   "execution_count": 46,
   "metadata": {},
   "outputs": [],
   "source": [
    "y_train_sa = train_df_sa['charged_off']\n",
    "X_train_sa = train_df_sa.drop('charged_off', axis=1)"
   ]
  },
  {
   "cell_type": "code",
   "execution_count": 47,
   "metadata": {},
   "outputs": [
    {
     "name": "stdout",
     "output_type": "stream",
     "text": [
      "{'bootstrap': True, 'ccp_alpha': 0.0, 'class_weight': None, 'criterion': 'entropy', 'max_depth': 10, 'max_features': 'log2', 'max_leaf_nodes': None, 'max_samples': None, 'min_impurity_decrease': 0.0, 'min_samples_leaf': 1, 'min_samples_split': 2, 'min_weight_fraction_leaf': 0.0, 'n_estimators': 50, 'n_jobs': None, 'oob_score': False, 'random_state': None, 'replacement': False, 'sampling_strategy': 'auto', 'verbose': 0, 'warm_start': False}\n"
     ]
    },
    {
     "data": {
      "text/html": [
       "<style>#sk-container-id-4 {color: black;background-color: white;}#sk-container-id-4 pre{padding: 0;}#sk-container-id-4 div.sk-toggleable {background-color: white;}#sk-container-id-4 label.sk-toggleable__label {cursor: pointer;display: block;width: 100%;margin-bottom: 0;padding: 0.3em;box-sizing: border-box;text-align: center;}#sk-container-id-4 label.sk-toggleable__label-arrow:before {content: \"▸\";float: left;margin-right: 0.25em;color: #696969;}#sk-container-id-4 label.sk-toggleable__label-arrow:hover:before {color: black;}#sk-container-id-4 div.sk-estimator:hover label.sk-toggleable__label-arrow:before {color: black;}#sk-container-id-4 div.sk-toggleable__content {max-height: 0;max-width: 0;overflow: hidden;text-align: left;background-color: #f0f8ff;}#sk-container-id-4 div.sk-toggleable__content pre {margin: 0.2em;color: black;border-radius: 0.25em;background-color: #f0f8ff;}#sk-container-id-4 input.sk-toggleable__control:checked~div.sk-toggleable__content {max-height: 200px;max-width: 100%;overflow: auto;}#sk-container-id-4 input.sk-toggleable__control:checked~label.sk-toggleable__label-arrow:before {content: \"▾\";}#sk-container-id-4 div.sk-estimator input.sk-toggleable__control:checked~label.sk-toggleable__label {background-color: #d4ebff;}#sk-container-id-4 div.sk-label input.sk-toggleable__control:checked~label.sk-toggleable__label {background-color: #d4ebff;}#sk-container-id-4 input.sk-hidden--visually {border: 0;clip: rect(1px 1px 1px 1px);clip: rect(1px, 1px, 1px, 1px);height: 1px;margin: -1px;overflow: hidden;padding: 0;position: absolute;width: 1px;}#sk-container-id-4 div.sk-estimator {font-family: monospace;background-color: #f0f8ff;border: 1px dotted black;border-radius: 0.25em;box-sizing: border-box;margin-bottom: 0.5em;}#sk-container-id-4 div.sk-estimator:hover {background-color: #d4ebff;}#sk-container-id-4 div.sk-parallel-item::after {content: \"\";width: 100%;border-bottom: 1px solid gray;flex-grow: 1;}#sk-container-id-4 div.sk-label:hover label.sk-toggleable__label {background-color: #d4ebff;}#sk-container-id-4 div.sk-serial::before {content: \"\";position: absolute;border-left: 1px solid gray;box-sizing: border-box;top: 0;bottom: 0;left: 50%;z-index: 0;}#sk-container-id-4 div.sk-serial {display: flex;flex-direction: column;align-items: center;background-color: white;padding-right: 0.2em;padding-left: 0.2em;position: relative;}#sk-container-id-4 div.sk-item {position: relative;z-index: 1;}#sk-container-id-4 div.sk-parallel {display: flex;align-items: stretch;justify-content: center;background-color: white;position: relative;}#sk-container-id-4 div.sk-item::before, #sk-container-id-4 div.sk-parallel-item::before {content: \"\";position: absolute;border-left: 1px solid gray;box-sizing: border-box;top: 0;bottom: 0;left: 50%;z-index: -1;}#sk-container-id-4 div.sk-parallel-item {display: flex;flex-direction: column;z-index: 1;position: relative;background-color: white;}#sk-container-id-4 div.sk-parallel-item:first-child::after {align-self: flex-end;width: 50%;}#sk-container-id-4 div.sk-parallel-item:last-child::after {align-self: flex-start;width: 50%;}#sk-container-id-4 div.sk-parallel-item:only-child::after {width: 0;}#sk-container-id-4 div.sk-dashed-wrapped {border: 1px dashed gray;margin: 0 0.4em 0.5em 0.4em;box-sizing: border-box;padding-bottom: 0.4em;background-color: white;}#sk-container-id-4 div.sk-label label {font-family: monospace;font-weight: bold;display: inline-block;line-height: 1.2em;}#sk-container-id-4 div.sk-label-container {text-align: center;}#sk-container-id-4 div.sk-container {/* jupyter's `normalize.less` sets `[hidden] { display: none; }` but bootstrap.min.css set `[hidden] { display: none !important; }` so we also need the `!important` here to be able to override the default hidden behavior on the sphinx rendered scikit-learn.org. See: https://github.com/scikit-learn/scikit-learn/issues/21755 */display: inline-block !important;position: relative;}#sk-container-id-4 div.sk-text-repr-fallback {display: none;}</style><div id=\"sk-container-id-4\" class=\"sk-top-container\"><div class=\"sk-text-repr-fallback\"><pre>BalancedRandomForestClassifier(criterion=&#x27;entropy&#x27;, max_depth=10,\n",
       "                               max_features=&#x27;log2&#x27;, n_estimators=50)</pre><b>In a Jupyter environment, please rerun this cell to show the HTML representation or trust the notebook. <br />On GitHub, the HTML representation is unable to render, please try loading this page with nbviewer.org.</b></div><div class=\"sk-container\" hidden><div class=\"sk-item\"><div class=\"sk-estimator sk-toggleable\"><input class=\"sk-toggleable__control sk-hidden--visually\" id=\"sk-estimator-id-7\" type=\"checkbox\" checked><label for=\"sk-estimator-id-7\" class=\"sk-toggleable__label sk-toggleable__label-arrow\">BalancedRandomForestClassifier</label><div class=\"sk-toggleable__content\"><pre>BalancedRandomForestClassifier(criterion=&#x27;entropy&#x27;, max_depth=10,\n",
       "                               max_features=&#x27;log2&#x27;, n_estimators=50)</pre></div></div></div></div></div>"
      ],
      "text/plain": [
       "BalancedRandomForestClassifier(criterion='entropy', max_depth=10,\n",
       "                               max_features='log2', n_estimators=50)"
      ]
     },
     "execution_count": 47,
     "metadata": {},
     "output_type": "execute_result"
    }
   ],
   "source": [
    "model_ri = joblib.load(\"./random_forest_reduced.joblib\")\n",
    "print(model_ri.get_params())\n",
    "\n",
    "model_ri.fit(X_train_sa, y_train_sa)"
   ]
  },
  {
   "cell_type": "code",
   "execution_count": 48,
   "metadata": {},
   "outputs": [
    {
     "name": "stdout",
     "output_type": "stream",
     "text": [
      "(Training Set) The cross-validation AUC for optimised Random Forest model with SA RI after a 10 fold cross validation: 0.949 (0.039)\n"
     ]
    }
   ],
   "source": [
    "cv_scores = cross_val_score(estimator= model_ri, X=X_train_sa, y=y_train_sa, scoring='roc_auc', cv=CROSS_VALIDATION, n_jobs=-1)\n",
    "print(\"(Training Set) The cross-validation AUC for optimised Random Forest model with SA RI after a 10 fold cross validation: %.3f (%.3f)\" % (mean(cv_scores), std(cv_scores)))"
   ]
  },
  {
   "cell_type": "code",
   "execution_count": 49,
   "metadata": {},
   "outputs": [],
   "source": [
    "yhat_sa = model_ri.predict(X_test_reduced)"
   ]
  },
  {
   "cell_type": "code",
   "execution_count": 50,
   "metadata": {},
   "outputs": [],
   "source": [
    "results_df = ri.AppendResults(df=results_df, title=\"Reduced RF - Simple Assignment\",\n",
    "AUC_scores=cv_scores, y_test=y_test_reduced, y_score=yhat_sa)"
   ]
  },
  {
   "cell_type": "markdown",
   "metadata": {},
   "source": [
    "### Random Assignment ###"
   ]
  },
  {
   "cell_type": "code",
   "execution_count": 51,
   "metadata": {},
   "outputs": [
    {
     "name": "stdout",
     "output_type": "stream",
     "text": [
      "0.1830127903554834\n",
      "0.6405447662441919\n"
     ]
    }
   ],
   "source": [
    "total, pos, reject_rate = ri.splitCount(accept_train_df['charged_off'])\n",
    "\n",
    "reject_rate = reject_rate / 100\n",
    "random_assign_rate = reject_rate * 3.5\n",
    "\n",
    "print(reject_rate)\n",
    "print(random_assign_rate)\n",
    "\n",
    "# Higher the fraction, bigger the sample\n",
    "split_BAD = rejected.sample(frac = random_assign_rate, random_state=RANDOM_STATE)\n",
    "split_GOOD = rejected.drop(split_BAD.index)\n",
    "\n",
    "split_BAD['charged_off'] = 1\n",
    "split_GOOD = split_GOOD.assign(charged_off= 0)\n",
    "\n",
    "ri_df = pd.concat([accept_train_df, split_BAD, split_GOOD], axis=0, ignore_index=True)"
   ]
  },
  {
   "cell_type": "code",
   "execution_count": 52,
   "metadata": {},
   "outputs": [],
   "source": [
    "train_df_ra = ri.RejectPreprocessing(df=ri_df[match_cols], num_cols=numerical_cols, cat_cols=[\"purpose\"], prefix=[\"purp\"], scaler=scaler_reduced)"
   ]
  },
  {
   "cell_type": "code",
   "execution_count": 53,
   "metadata": {},
   "outputs": [
    {
     "name": "stdout",
     "output_type": "stream",
     "text": [
      "Training Set:\n",
      "    Total: 3931748\n",
      "    Positive: 2289916 (58.24% of total)\n",
      "\n",
      "Testing Set:\n",
      "    Total: 146571\n",
      "    Positive: 39267 (26.79% of total)\n",
      "\n"
     ]
    }
   ],
   "source": [
    "total, pos, rate = ri.splitCount(train_df_ra['charged_off'])\n",
    "print('Training Set:\\n    Total: {}\\n    Positive: {} ({:.2f}% of total)\\n'.format(\n",
    "    total, pos, rate))\n",
    "\n",
    "total, pos, rate = ri.splitCount(accept_test_df_reduced['charged_off'])\n",
    "print('Testing Set:\\n    Total: {}\\n    Positive: {} ({:.2f}% of total)\\n'.format(\n",
    "    total, pos, rate))"
   ]
  },
  {
   "cell_type": "code",
   "execution_count": 54,
   "metadata": {},
   "outputs": [],
   "source": [
    "y_train_ra = train_df_ra['charged_off']\n",
    "X_train_ra = train_df_ra.drop('charged_off', axis=1)"
   ]
  },
  {
   "cell_type": "code",
   "execution_count": 55,
   "metadata": {},
   "outputs": [
    {
     "data": {
      "text/html": [
       "<style>#sk-container-id-5 {color: black;background-color: white;}#sk-container-id-5 pre{padding: 0;}#sk-container-id-5 div.sk-toggleable {background-color: white;}#sk-container-id-5 label.sk-toggleable__label {cursor: pointer;display: block;width: 100%;margin-bottom: 0;padding: 0.3em;box-sizing: border-box;text-align: center;}#sk-container-id-5 label.sk-toggleable__label-arrow:before {content: \"▸\";float: left;margin-right: 0.25em;color: #696969;}#sk-container-id-5 label.sk-toggleable__label-arrow:hover:before {color: black;}#sk-container-id-5 div.sk-estimator:hover label.sk-toggleable__label-arrow:before {color: black;}#sk-container-id-5 div.sk-toggleable__content {max-height: 0;max-width: 0;overflow: hidden;text-align: left;background-color: #f0f8ff;}#sk-container-id-5 div.sk-toggleable__content pre {margin: 0.2em;color: black;border-radius: 0.25em;background-color: #f0f8ff;}#sk-container-id-5 input.sk-toggleable__control:checked~div.sk-toggleable__content {max-height: 200px;max-width: 100%;overflow: auto;}#sk-container-id-5 input.sk-toggleable__control:checked~label.sk-toggleable__label-arrow:before {content: \"▾\";}#sk-container-id-5 div.sk-estimator input.sk-toggleable__control:checked~label.sk-toggleable__label {background-color: #d4ebff;}#sk-container-id-5 div.sk-label input.sk-toggleable__control:checked~label.sk-toggleable__label {background-color: #d4ebff;}#sk-container-id-5 input.sk-hidden--visually {border: 0;clip: rect(1px 1px 1px 1px);clip: rect(1px, 1px, 1px, 1px);height: 1px;margin: -1px;overflow: hidden;padding: 0;position: absolute;width: 1px;}#sk-container-id-5 div.sk-estimator {font-family: monospace;background-color: #f0f8ff;border: 1px dotted black;border-radius: 0.25em;box-sizing: border-box;margin-bottom: 0.5em;}#sk-container-id-5 div.sk-estimator:hover {background-color: #d4ebff;}#sk-container-id-5 div.sk-parallel-item::after {content: \"\";width: 100%;border-bottom: 1px solid gray;flex-grow: 1;}#sk-container-id-5 div.sk-label:hover label.sk-toggleable__label {background-color: #d4ebff;}#sk-container-id-5 div.sk-serial::before {content: \"\";position: absolute;border-left: 1px solid gray;box-sizing: border-box;top: 0;bottom: 0;left: 50%;z-index: 0;}#sk-container-id-5 div.sk-serial {display: flex;flex-direction: column;align-items: center;background-color: white;padding-right: 0.2em;padding-left: 0.2em;position: relative;}#sk-container-id-5 div.sk-item {position: relative;z-index: 1;}#sk-container-id-5 div.sk-parallel {display: flex;align-items: stretch;justify-content: center;background-color: white;position: relative;}#sk-container-id-5 div.sk-item::before, #sk-container-id-5 div.sk-parallel-item::before {content: \"\";position: absolute;border-left: 1px solid gray;box-sizing: border-box;top: 0;bottom: 0;left: 50%;z-index: -1;}#sk-container-id-5 div.sk-parallel-item {display: flex;flex-direction: column;z-index: 1;position: relative;background-color: white;}#sk-container-id-5 div.sk-parallel-item:first-child::after {align-self: flex-end;width: 50%;}#sk-container-id-5 div.sk-parallel-item:last-child::after {align-self: flex-start;width: 50%;}#sk-container-id-5 div.sk-parallel-item:only-child::after {width: 0;}#sk-container-id-5 div.sk-dashed-wrapped {border: 1px dashed gray;margin: 0 0.4em 0.5em 0.4em;box-sizing: border-box;padding-bottom: 0.4em;background-color: white;}#sk-container-id-5 div.sk-label label {font-family: monospace;font-weight: bold;display: inline-block;line-height: 1.2em;}#sk-container-id-5 div.sk-label-container {text-align: center;}#sk-container-id-5 div.sk-container {/* jupyter's `normalize.less` sets `[hidden] { display: none; }` but bootstrap.min.css set `[hidden] { display: none !important; }` so we also need the `!important` here to be able to override the default hidden behavior on the sphinx rendered scikit-learn.org. See: https://github.com/scikit-learn/scikit-learn/issues/21755 */display: inline-block !important;position: relative;}#sk-container-id-5 div.sk-text-repr-fallback {display: none;}</style><div id=\"sk-container-id-5\" class=\"sk-top-container\"><div class=\"sk-text-repr-fallback\"><pre>BalancedRandomForestClassifier(criterion=&#x27;entropy&#x27;, max_depth=10,\n",
       "                               max_features=&#x27;log2&#x27;, n_estimators=50)</pre><b>In a Jupyter environment, please rerun this cell to show the HTML representation or trust the notebook. <br />On GitHub, the HTML representation is unable to render, please try loading this page with nbviewer.org.</b></div><div class=\"sk-container\" hidden><div class=\"sk-item\"><div class=\"sk-estimator sk-toggleable\"><input class=\"sk-toggleable__control sk-hidden--visually\" id=\"sk-estimator-id-8\" type=\"checkbox\" checked><label for=\"sk-estimator-id-8\" class=\"sk-toggleable__label sk-toggleable__label-arrow\">BalancedRandomForestClassifier</label><div class=\"sk-toggleable__content\"><pre>BalancedRandomForestClassifier(criterion=&#x27;entropy&#x27;, max_depth=10,\n",
       "                               max_features=&#x27;log2&#x27;, n_estimators=50)</pre></div></div></div></div></div>"
      ],
      "text/plain": [
       "BalancedRandomForestClassifier(criterion='entropy', max_depth=10,\n",
       "                               max_features='log2', n_estimators=50)"
      ]
     },
     "execution_count": 55,
     "metadata": {},
     "output_type": "execute_result"
    }
   ],
   "source": [
    "model_ri.fit(X_train_ra, y_train_ra)"
   ]
  },
  {
   "cell_type": "code",
   "execution_count": 56,
   "metadata": {},
   "outputs": [
    {
     "name": "stdout",
     "output_type": "stream",
     "text": [
      "(Training Set) The cross-validation AUC for optimised Random Forest model with RA RI after a 10 fold cross validation: 0.571 (0.168)\n"
     ]
    }
   ],
   "source": [
    "cv_scores = cross_val_score(estimator= model_ri, X=X_train_ra, y=y_train_ra, scoring='roc_auc', cv=CROSS_VALIDATION, n_jobs=-1)\n",
    "print(\"(Training Set) The cross-validation AUC for optimised Random Forest model with RA RI after a 10 fold cross validation: %.3f (%.3f)\" % (mean(cv_scores), std(cv_scores)))"
   ]
  },
  {
   "cell_type": "code",
   "execution_count": 57,
   "metadata": {},
   "outputs": [],
   "source": [
    "yhat_ra = model_reduced.predict(X_test_reduced)"
   ]
  },
  {
   "cell_type": "code",
   "execution_count": 58,
   "metadata": {},
   "outputs": [],
   "source": [
    "results_df = ri.AppendResults(df=results_df, title=\"Reduced RF - Random Assignment\",\n",
    "AUC_scores=cv_scores, y_test=y_test_reduced, y_score=yhat_ra)"
   ]
  },
  {
   "cell_type": "markdown",
   "metadata": {},
   "source": [
    "### Augmentation ###"
   ]
  },
  {
   "cell_type": "code",
   "execution_count": 59,
   "metadata": {},
   "outputs": [],
   "source": [
    "aug_df = application_df.sort_values(by=\"score\", ascending = False)\n",
    "aug_df['accept_score'] = 1 - aug_df['score']\n",
    "intervals = np.array_split(aug_df, 10)\n",
    "\n",
    "for band in intervals:\n",
    "    accepts = band.loc[band[\"rejected\"] == 0, \"rejected\"].count()\n",
    "    rejects = band.loc[band[\"rejected\"] == 1, \"rejected\"].count()\n",
    "    weight = (rejects + accepts) / accepts\n",
    "    band.drop(band[band['rejected'] == 1].index, inplace=True)\n",
    "    band['weight'] = weight\n",
    "\n",
    "aug_df=pd.concat(intervals)\n",
    "aug_df.drop_duplicates(inplace=True)\n",
    "aug_df = accept_train_df.merge(aug_df, on=[\"dti\",\"emp_length\",\"loan_amnt\",\"purpose\"], how = 'inner')"
   ]
  },
  {
   "cell_type": "code",
   "execution_count": 60,
   "metadata": {},
   "outputs": [],
   "source": [
    "train_df_aug_all = ri.RejectPreprocessing(df=aug_df, num_cols=all_cols, cat_cols=['home_ownership', 'verification_status', 'purpose', 'application_type'], prefix=[\"ho\",\"vs\",\"purp\",\"at\"], scaler=scaler_all)"
   ]
  },
  {
   "cell_type": "code",
   "execution_count": 61,
   "metadata": {},
   "outputs": [
    {
     "name": "stdout",
     "output_type": "stream",
     "text": [
      "Training Set:\n",
      "    Total: 499517\n",
      "    Positive: 91418 (18.30% of total)\n",
      "\n",
      "Testing Set:\n",
      "    Total: 146571\n",
      "    Positive: 39267 (26.79% of total)\n",
      "\n"
     ]
    }
   ],
   "source": [
    "total, pos, rate= ri.splitCount(train_df_aug_all['charged_off'])\n",
    "print('Training Set:\\n    Total: {}\\n    Positive: {} ({:.2f}% of total)\\n'.format(\n",
    "    total, pos, rate))\n",
    "\n",
    "total, pos, rate = ri.splitCount(accept_test_df_all['charged_off'])\n",
    "print('Testing Set:\\n    Total: {}\\n    Positive: {} ({:.2f}% of total)\\n'.format(\n",
    "    total, pos, rate))"
   ]
  },
  {
   "cell_type": "code",
   "execution_count": 62,
   "metadata": {},
   "outputs": [],
   "source": [
    "y_train_aug_all = train_df_aug_all['charged_off']\n",
    "X_train_aug_all = train_df_aug_all.drop(excl_cols, axis=1)\n",
    "train_weights_aug_all = train_df_aug_all['weight']"
   ]
  },
  {
   "cell_type": "code",
   "execution_count": 63,
   "metadata": {},
   "outputs": [
    {
     "data": {
      "text/html": [
       "<style>#sk-container-id-6 {color: black;background-color: white;}#sk-container-id-6 pre{padding: 0;}#sk-container-id-6 div.sk-toggleable {background-color: white;}#sk-container-id-6 label.sk-toggleable__label {cursor: pointer;display: block;width: 100%;margin-bottom: 0;padding: 0.3em;box-sizing: border-box;text-align: center;}#sk-container-id-6 label.sk-toggleable__label-arrow:before {content: \"▸\";float: left;margin-right: 0.25em;color: #696969;}#sk-container-id-6 label.sk-toggleable__label-arrow:hover:before {color: black;}#sk-container-id-6 div.sk-estimator:hover label.sk-toggleable__label-arrow:before {color: black;}#sk-container-id-6 div.sk-toggleable__content {max-height: 0;max-width: 0;overflow: hidden;text-align: left;background-color: #f0f8ff;}#sk-container-id-6 div.sk-toggleable__content pre {margin: 0.2em;color: black;border-radius: 0.25em;background-color: #f0f8ff;}#sk-container-id-6 input.sk-toggleable__control:checked~div.sk-toggleable__content {max-height: 200px;max-width: 100%;overflow: auto;}#sk-container-id-6 input.sk-toggleable__control:checked~label.sk-toggleable__label-arrow:before {content: \"▾\";}#sk-container-id-6 div.sk-estimator input.sk-toggleable__control:checked~label.sk-toggleable__label {background-color: #d4ebff;}#sk-container-id-6 div.sk-label input.sk-toggleable__control:checked~label.sk-toggleable__label {background-color: #d4ebff;}#sk-container-id-6 input.sk-hidden--visually {border: 0;clip: rect(1px 1px 1px 1px);clip: rect(1px, 1px, 1px, 1px);height: 1px;margin: -1px;overflow: hidden;padding: 0;position: absolute;width: 1px;}#sk-container-id-6 div.sk-estimator {font-family: monospace;background-color: #f0f8ff;border: 1px dotted black;border-radius: 0.25em;box-sizing: border-box;margin-bottom: 0.5em;}#sk-container-id-6 div.sk-estimator:hover {background-color: #d4ebff;}#sk-container-id-6 div.sk-parallel-item::after {content: \"\";width: 100%;border-bottom: 1px solid gray;flex-grow: 1;}#sk-container-id-6 div.sk-label:hover label.sk-toggleable__label {background-color: #d4ebff;}#sk-container-id-6 div.sk-serial::before {content: \"\";position: absolute;border-left: 1px solid gray;box-sizing: border-box;top: 0;bottom: 0;left: 50%;z-index: 0;}#sk-container-id-6 div.sk-serial {display: flex;flex-direction: column;align-items: center;background-color: white;padding-right: 0.2em;padding-left: 0.2em;position: relative;}#sk-container-id-6 div.sk-item {position: relative;z-index: 1;}#sk-container-id-6 div.sk-parallel {display: flex;align-items: stretch;justify-content: center;background-color: white;position: relative;}#sk-container-id-6 div.sk-item::before, #sk-container-id-6 div.sk-parallel-item::before {content: \"\";position: absolute;border-left: 1px solid gray;box-sizing: border-box;top: 0;bottom: 0;left: 50%;z-index: -1;}#sk-container-id-6 div.sk-parallel-item {display: flex;flex-direction: column;z-index: 1;position: relative;background-color: white;}#sk-container-id-6 div.sk-parallel-item:first-child::after {align-self: flex-end;width: 50%;}#sk-container-id-6 div.sk-parallel-item:last-child::after {align-self: flex-start;width: 50%;}#sk-container-id-6 div.sk-parallel-item:only-child::after {width: 0;}#sk-container-id-6 div.sk-dashed-wrapped {border: 1px dashed gray;margin: 0 0.4em 0.5em 0.4em;box-sizing: border-box;padding-bottom: 0.4em;background-color: white;}#sk-container-id-6 div.sk-label label {font-family: monospace;font-weight: bold;display: inline-block;line-height: 1.2em;}#sk-container-id-6 div.sk-label-container {text-align: center;}#sk-container-id-6 div.sk-container {/* jupyter's `normalize.less` sets `[hidden] { display: none; }` but bootstrap.min.css set `[hidden] { display: none !important; }` so we also need the `!important` here to be able to override the default hidden behavior on the sphinx rendered scikit-learn.org. See: https://github.com/scikit-learn/scikit-learn/issues/21755 */display: inline-block !important;position: relative;}#sk-container-id-6 div.sk-text-repr-fallback {display: none;}</style><div id=\"sk-container-id-6\" class=\"sk-top-container\"><div class=\"sk-text-repr-fallback\"><pre>BalancedRandomForestClassifier(max_depth=5, n_estimators=50)</pre><b>In a Jupyter environment, please rerun this cell to show the HTML representation or trust the notebook. <br />On GitHub, the HTML representation is unable to render, please try loading this page with nbviewer.org.</b></div><div class=\"sk-container\" hidden><div class=\"sk-item\"><div class=\"sk-estimator sk-toggleable\"><input class=\"sk-toggleable__control sk-hidden--visually\" id=\"sk-estimator-id-9\" type=\"checkbox\" checked><label for=\"sk-estimator-id-9\" class=\"sk-toggleable__label sk-toggleable__label-arrow\">BalancedRandomForestClassifier</label><div class=\"sk-toggleable__content\"><pre>BalancedRandomForestClassifier(max_depth=5, n_estimators=50)</pre></div></div></div></div></div>"
      ],
      "text/plain": [
       "BalancedRandomForestClassifier(max_depth=5, n_estimators=50)"
      ]
     },
     "execution_count": 63,
     "metadata": {},
     "output_type": "execute_result"
    }
   ],
   "source": [
    "model.fit(X_train_aug_all, y_train_aug_all, sample_weight=train_weights_aug_all)"
   ]
  },
  {
   "cell_type": "code",
   "execution_count": 64,
   "metadata": {},
   "outputs": [
    {
     "name": "stdout",
     "output_type": "stream",
     "text": [
      "(Training Set) The cross-validation AUC for optimised Full Random Forest model with Augmentation after a 10 fold cross validation: 0.688 (0.012)\n"
     ]
    }
   ],
   "source": [
    "cv_scores = cross_val_score(estimator= model, X=X_train_aug_all, y=y_train_aug_all, scoring='roc_auc', cv=CROSS_VALIDATION, n_jobs=-1)\n",
    "print(\"(Training Set) The cross-validation AUC for optimised Full Random Forest model with Augmentation after a 10 fold cross validation: %.3f (%.3f)\" % (mean(cv_scores), std(cv_scores)))"
   ]
  },
  {
   "cell_type": "code",
   "execution_count": 65,
   "metadata": {},
   "outputs": [
    {
     "name": "stderr",
     "output_type": "stream",
     "text": [
      "C:\\Users\\joshy\\anaconda3\\lib\\site-packages\\sklearn\\base.py:493: FutureWarning: The feature names should match those that were passed during fit. Starting version 1.2, an error will be raised.\n",
      "Feature names must be in the same order as they were in fit.\n",
      "\n",
      "  warnings.warn(message, FutureWarning)\n"
     ]
    }
   ],
   "source": [
    "yhat_aug_all = model.predict(X_test)"
   ]
  },
  {
   "cell_type": "code",
   "execution_count": 66,
   "metadata": {},
   "outputs": [],
   "source": [
    "results_df = ri.AppendResults(df=results_df, title=\"Full RF - Augmentation\",\n",
    "AUC_scores=cv_scores, y_test=y_test, y_score=yhat_aug_all)"
   ]
  },
  {
   "cell_type": "markdown",
   "metadata": {},
   "source": [
    "### Augmentation Reduced Columns ###"
   ]
  },
  {
   "cell_type": "code",
   "execution_count": 67,
   "metadata": {},
   "outputs": [],
   "source": [
    "aug_cols = ['loan_amnt', 'emp_length', 'dti','purpose','charged_off',\"weight\"]"
   ]
  },
  {
   "cell_type": "code",
   "execution_count": 68,
   "metadata": {},
   "outputs": [],
   "source": [
    "train_df_aug_reduced = ri.RejectPreprocessing(df=aug_df[aug_cols], num_cols=numerical_cols, cat_cols=['purpose'], prefix=[\"purp\"], scaler=scaler_reduced)"
   ]
  },
  {
   "cell_type": "code",
   "execution_count": 69,
   "metadata": {},
   "outputs": [
    {
     "name": "stdout",
     "output_type": "stream",
     "text": [
      "Training Set:\n",
      "    Total: 499517\n",
      "    Positive: 91418 (18.30% of total)\n",
      "\n",
      "Testing Set:\n",
      "    Total: 146571\n",
      "    Positive: 39267 (26.79% of total)\n",
      "\n"
     ]
    }
   ],
   "source": [
    "total, pos, rate= ri.splitCount(train_df_aug_reduced['charged_off'])\n",
    "print('Training Set:\\n    Total: {}\\n    Positive: {} ({:.2f}% of total)\\n'.format(\n",
    "    total, pos, rate))\n",
    "\n",
    "total, pos, rate = ri.splitCount(accept_test_df_reduced['charged_off'])\n",
    "print('Testing Set:\\n    Total: {}\\n    Positive: {} ({:.2f}% of total)\\n'.format(\n",
    "    total, pos, rate))"
   ]
  },
  {
   "cell_type": "code",
   "execution_count": 70,
   "metadata": {},
   "outputs": [],
   "source": [
    "y_train_aug_reduced = train_df_aug_reduced['charged_off']\n",
    "X_train_aug_reduced = train_df_aug_reduced.drop(['charged_off','weight'], axis=1)\n",
    "train_weights_aug_reduced = train_df_aug_reduced['weight']"
   ]
  },
  {
   "cell_type": "code",
   "execution_count": 71,
   "metadata": {},
   "outputs": [
    {
     "data": {
      "text/html": [
       "<style>#sk-container-id-7 {color: black;background-color: white;}#sk-container-id-7 pre{padding: 0;}#sk-container-id-7 div.sk-toggleable {background-color: white;}#sk-container-id-7 label.sk-toggleable__label {cursor: pointer;display: block;width: 100%;margin-bottom: 0;padding: 0.3em;box-sizing: border-box;text-align: center;}#sk-container-id-7 label.sk-toggleable__label-arrow:before {content: \"▸\";float: left;margin-right: 0.25em;color: #696969;}#sk-container-id-7 label.sk-toggleable__label-arrow:hover:before {color: black;}#sk-container-id-7 div.sk-estimator:hover label.sk-toggleable__label-arrow:before {color: black;}#sk-container-id-7 div.sk-toggleable__content {max-height: 0;max-width: 0;overflow: hidden;text-align: left;background-color: #f0f8ff;}#sk-container-id-7 div.sk-toggleable__content pre {margin: 0.2em;color: black;border-radius: 0.25em;background-color: #f0f8ff;}#sk-container-id-7 input.sk-toggleable__control:checked~div.sk-toggleable__content {max-height: 200px;max-width: 100%;overflow: auto;}#sk-container-id-7 input.sk-toggleable__control:checked~label.sk-toggleable__label-arrow:before {content: \"▾\";}#sk-container-id-7 div.sk-estimator input.sk-toggleable__control:checked~label.sk-toggleable__label {background-color: #d4ebff;}#sk-container-id-7 div.sk-label input.sk-toggleable__control:checked~label.sk-toggleable__label {background-color: #d4ebff;}#sk-container-id-7 input.sk-hidden--visually {border: 0;clip: rect(1px 1px 1px 1px);clip: rect(1px, 1px, 1px, 1px);height: 1px;margin: -1px;overflow: hidden;padding: 0;position: absolute;width: 1px;}#sk-container-id-7 div.sk-estimator {font-family: monospace;background-color: #f0f8ff;border: 1px dotted black;border-radius: 0.25em;box-sizing: border-box;margin-bottom: 0.5em;}#sk-container-id-7 div.sk-estimator:hover {background-color: #d4ebff;}#sk-container-id-7 div.sk-parallel-item::after {content: \"\";width: 100%;border-bottom: 1px solid gray;flex-grow: 1;}#sk-container-id-7 div.sk-label:hover label.sk-toggleable__label {background-color: #d4ebff;}#sk-container-id-7 div.sk-serial::before {content: \"\";position: absolute;border-left: 1px solid gray;box-sizing: border-box;top: 0;bottom: 0;left: 50%;z-index: 0;}#sk-container-id-7 div.sk-serial {display: flex;flex-direction: column;align-items: center;background-color: white;padding-right: 0.2em;padding-left: 0.2em;position: relative;}#sk-container-id-7 div.sk-item {position: relative;z-index: 1;}#sk-container-id-7 div.sk-parallel {display: flex;align-items: stretch;justify-content: center;background-color: white;position: relative;}#sk-container-id-7 div.sk-item::before, #sk-container-id-7 div.sk-parallel-item::before {content: \"\";position: absolute;border-left: 1px solid gray;box-sizing: border-box;top: 0;bottom: 0;left: 50%;z-index: -1;}#sk-container-id-7 div.sk-parallel-item {display: flex;flex-direction: column;z-index: 1;position: relative;background-color: white;}#sk-container-id-7 div.sk-parallel-item:first-child::after {align-self: flex-end;width: 50%;}#sk-container-id-7 div.sk-parallel-item:last-child::after {align-self: flex-start;width: 50%;}#sk-container-id-7 div.sk-parallel-item:only-child::after {width: 0;}#sk-container-id-7 div.sk-dashed-wrapped {border: 1px dashed gray;margin: 0 0.4em 0.5em 0.4em;box-sizing: border-box;padding-bottom: 0.4em;background-color: white;}#sk-container-id-7 div.sk-label label {font-family: monospace;font-weight: bold;display: inline-block;line-height: 1.2em;}#sk-container-id-7 div.sk-label-container {text-align: center;}#sk-container-id-7 div.sk-container {/* jupyter's `normalize.less` sets `[hidden] { display: none; }` but bootstrap.min.css set `[hidden] { display: none !important; }` so we also need the `!important` here to be able to override the default hidden behavior on the sphinx rendered scikit-learn.org. See: https://github.com/scikit-learn/scikit-learn/issues/21755 */display: inline-block !important;position: relative;}#sk-container-id-7 div.sk-text-repr-fallback {display: none;}</style><div id=\"sk-container-id-7\" class=\"sk-top-container\"><div class=\"sk-text-repr-fallback\"><pre>BalancedRandomForestClassifier(criterion=&#x27;entropy&#x27;, max_depth=10,\n",
       "                               max_features=&#x27;log2&#x27;, n_estimators=50)</pre><b>In a Jupyter environment, please rerun this cell to show the HTML representation or trust the notebook. <br />On GitHub, the HTML representation is unable to render, please try loading this page with nbviewer.org.</b></div><div class=\"sk-container\" hidden><div class=\"sk-item\"><div class=\"sk-estimator sk-toggleable\"><input class=\"sk-toggleable__control sk-hidden--visually\" id=\"sk-estimator-id-10\" type=\"checkbox\" checked><label for=\"sk-estimator-id-10\" class=\"sk-toggleable__label sk-toggleable__label-arrow\">BalancedRandomForestClassifier</label><div class=\"sk-toggleable__content\"><pre>BalancedRandomForestClassifier(criterion=&#x27;entropy&#x27;, max_depth=10,\n",
       "                               max_features=&#x27;log2&#x27;, n_estimators=50)</pre></div></div></div></div></div>"
      ],
      "text/plain": [
       "BalancedRandomForestClassifier(criterion='entropy', max_depth=10,\n",
       "                               max_features='log2', n_estimators=50)"
      ]
     },
     "execution_count": 71,
     "metadata": {},
     "output_type": "execute_result"
    }
   ],
   "source": [
    "model_ri.fit(X_train_aug_reduced, y_train_aug_reduced, sample_weight=train_weights_aug_reduced)"
   ]
  },
  {
   "cell_type": "code",
   "execution_count": 72,
   "metadata": {},
   "outputs": [
    {
     "name": "stdout",
     "output_type": "stream",
     "text": [
      "(Training Set) The cross-validation AUC for optimised Full Random Forest model with Augmentation after a 10 fold cross validation: 0.605 (0.014)\n"
     ]
    }
   ],
   "source": [
    "cv_scores = cross_val_score(estimator= model_ri, X=X_train_aug_reduced, y=y_train_aug_reduced, scoring='roc_auc', cv=CROSS_VALIDATION, n_jobs=-1)\n",
    "print(\"(Training Set) The cross-validation AUC for optimised Full Random Forest model with Augmentation after a 10 fold cross validation: %.3f (%.3f)\" % (mean(cv_scores), std(cv_scores)))"
   ]
  },
  {
   "cell_type": "code",
   "execution_count": 73,
   "metadata": {},
   "outputs": [],
   "source": [
    "yhat_aug_reduced = model_ri.predict(X_test_reduced)"
   ]
  },
  {
   "cell_type": "code",
   "execution_count": 74,
   "metadata": {},
   "outputs": [],
   "source": [
    "results_df = ri.AppendResults(df=results_df, title=\"Reduced RF - Augmentation\",\n",
    "AUC_scores=cv_scores, y_test=y_test, y_score=yhat_aug_reduced)"
   ]
  },
  {
   "cell_type": "markdown",
   "metadata": {},
   "source": [
    "### Parcelling ###"
   ]
  },
  {
   "cell_type": "code",
   "execution_count": 75,
   "metadata": {},
   "outputs": [],
   "source": [
    "aug_df = application_df.sort_values(by=\"score\", ascending = False)\n",
    "\n",
    "parcel_df_reject = aug_df.loc[aug_df[\"rejected\"] == 1]\n",
    "parcel_df_accept = aug_df.loc[aug_df[\"rejected\"] == 0]\n",
    "\n",
    "parcel_df_accept = parcel_df_accept.drop_duplicates()\n",
    "\n",
    "accept_scores = accept_train_df.merge(parcel_df_accept, on=[\"dti\",\"emp_length\",\"loan_amnt\",\"purpose\"], how = 'left')\n",
    "\n",
    "# unsure of the number of intervals\n",
    "reject_intervals = np.array_split(parcel_df_reject, 10)\n",
    "accept_intervals = np.array_split(accept_scores, 10)\n",
    "\n",
    "counter = 0\n",
    "\n",
    "for reject_band in reject_intervals:\n",
    "\n",
    "    neg, pos = np.bincount(accept_intervals[counter]['charged_off'])\n",
    "    reject_rate = pos / (neg + pos)\n",
    "    assign_rate = reject_rate * 3.5\n",
    "\n",
    "    # Higher the fraction, bigger the sample\n",
    "    split_BAD = reject_band.sample(frac = assign_rate, random_state=RANDOM_STATE)\n",
    "    split_GOOD = reject_band.drop(split_BAD.index)\n",
    "\n",
    "    split_BAD['charged_off'] = 1\n",
    "    split_GOOD = split_GOOD.assign(charged_off= 0)\n",
    "    \n",
    "    accept_scores = pd.concat([accept_scores, split_BAD, split_GOOD], axis=0, ignore_index=True)\n",
    "    counter = counter + 1"
   ]
  },
  {
   "cell_type": "code",
   "execution_count": 76,
   "metadata": {},
   "outputs": [],
   "source": [
    "train_df_PARCEL_reduced = ri.RejectPreprocessing(df=accept_scores[match_cols], num_cols=numerical_cols, cat_cols=['purpose'], prefix=[\"purp\"], scaler=scaler_reduced)"
   ]
  },
  {
   "cell_type": "code",
   "execution_count": 77,
   "metadata": {},
   "outputs": [
    {
     "name": "stdout",
     "output_type": "stream",
     "text": [
      "Training Set:\n",
      "    Total: 3931748\n",
      "    Positive: 2289915 (58.24% of total)\n",
      "\n",
      "Testing Set:\n",
      "    Total: 146571\n",
      "    Positive: 39267 (26.79% of total)\n",
      "\n"
     ]
    }
   ],
   "source": [
    "total, pos, rate = ri.splitCount(train_df_PARCEL_reduced['charged_off'])\n",
    "print('Training Set:\\n    Total: {}\\n    Positive: {} ({:.2f}% of total)\\n'.format(\n",
    "    total, pos, rate))\n",
    "\n",
    "total, pos, rate = ri.splitCount(accept_test_df_reduced['charged_off'])\n",
    "print('Testing Set:\\n    Total: {}\\n    Positive: {} ({:.2f}% of total)\\n'.format(\n",
    "    total, pos, rate))"
   ]
  },
  {
   "cell_type": "code",
   "execution_count": 78,
   "metadata": {},
   "outputs": [],
   "source": [
    "y_train_PARCEL_reduced = train_df_PARCEL_reduced['charged_off']\n",
    "X_train_PARCEL_reduced = train_df_PARCEL_reduced.drop(['charged_off'], axis=1)"
   ]
  },
  {
   "cell_type": "code",
   "execution_count": 79,
   "metadata": {},
   "outputs": [
    {
     "data": {
      "text/html": [
       "<style>#sk-container-id-8 {color: black;background-color: white;}#sk-container-id-8 pre{padding: 0;}#sk-container-id-8 div.sk-toggleable {background-color: white;}#sk-container-id-8 label.sk-toggleable__label {cursor: pointer;display: block;width: 100%;margin-bottom: 0;padding: 0.3em;box-sizing: border-box;text-align: center;}#sk-container-id-8 label.sk-toggleable__label-arrow:before {content: \"▸\";float: left;margin-right: 0.25em;color: #696969;}#sk-container-id-8 label.sk-toggleable__label-arrow:hover:before {color: black;}#sk-container-id-8 div.sk-estimator:hover label.sk-toggleable__label-arrow:before {color: black;}#sk-container-id-8 div.sk-toggleable__content {max-height: 0;max-width: 0;overflow: hidden;text-align: left;background-color: #f0f8ff;}#sk-container-id-8 div.sk-toggleable__content pre {margin: 0.2em;color: black;border-radius: 0.25em;background-color: #f0f8ff;}#sk-container-id-8 input.sk-toggleable__control:checked~div.sk-toggleable__content {max-height: 200px;max-width: 100%;overflow: auto;}#sk-container-id-8 input.sk-toggleable__control:checked~label.sk-toggleable__label-arrow:before {content: \"▾\";}#sk-container-id-8 div.sk-estimator input.sk-toggleable__control:checked~label.sk-toggleable__label {background-color: #d4ebff;}#sk-container-id-8 div.sk-label input.sk-toggleable__control:checked~label.sk-toggleable__label {background-color: #d4ebff;}#sk-container-id-8 input.sk-hidden--visually {border: 0;clip: rect(1px 1px 1px 1px);clip: rect(1px, 1px, 1px, 1px);height: 1px;margin: -1px;overflow: hidden;padding: 0;position: absolute;width: 1px;}#sk-container-id-8 div.sk-estimator {font-family: monospace;background-color: #f0f8ff;border: 1px dotted black;border-radius: 0.25em;box-sizing: border-box;margin-bottom: 0.5em;}#sk-container-id-8 div.sk-estimator:hover {background-color: #d4ebff;}#sk-container-id-8 div.sk-parallel-item::after {content: \"\";width: 100%;border-bottom: 1px solid gray;flex-grow: 1;}#sk-container-id-8 div.sk-label:hover label.sk-toggleable__label {background-color: #d4ebff;}#sk-container-id-8 div.sk-serial::before {content: \"\";position: absolute;border-left: 1px solid gray;box-sizing: border-box;top: 0;bottom: 0;left: 50%;z-index: 0;}#sk-container-id-8 div.sk-serial {display: flex;flex-direction: column;align-items: center;background-color: white;padding-right: 0.2em;padding-left: 0.2em;position: relative;}#sk-container-id-8 div.sk-item {position: relative;z-index: 1;}#sk-container-id-8 div.sk-parallel {display: flex;align-items: stretch;justify-content: center;background-color: white;position: relative;}#sk-container-id-8 div.sk-item::before, #sk-container-id-8 div.sk-parallel-item::before {content: \"\";position: absolute;border-left: 1px solid gray;box-sizing: border-box;top: 0;bottom: 0;left: 50%;z-index: -1;}#sk-container-id-8 div.sk-parallel-item {display: flex;flex-direction: column;z-index: 1;position: relative;background-color: white;}#sk-container-id-8 div.sk-parallel-item:first-child::after {align-self: flex-end;width: 50%;}#sk-container-id-8 div.sk-parallel-item:last-child::after {align-self: flex-start;width: 50%;}#sk-container-id-8 div.sk-parallel-item:only-child::after {width: 0;}#sk-container-id-8 div.sk-dashed-wrapped {border: 1px dashed gray;margin: 0 0.4em 0.5em 0.4em;box-sizing: border-box;padding-bottom: 0.4em;background-color: white;}#sk-container-id-8 div.sk-label label {font-family: monospace;font-weight: bold;display: inline-block;line-height: 1.2em;}#sk-container-id-8 div.sk-label-container {text-align: center;}#sk-container-id-8 div.sk-container {/* jupyter's `normalize.less` sets `[hidden] { display: none; }` but bootstrap.min.css set `[hidden] { display: none !important; }` so we also need the `!important` here to be able to override the default hidden behavior on the sphinx rendered scikit-learn.org. See: https://github.com/scikit-learn/scikit-learn/issues/21755 */display: inline-block !important;position: relative;}#sk-container-id-8 div.sk-text-repr-fallback {display: none;}</style><div id=\"sk-container-id-8\" class=\"sk-top-container\"><div class=\"sk-text-repr-fallback\"><pre>BalancedRandomForestClassifier(criterion=&#x27;entropy&#x27;, max_depth=10,\n",
       "                               max_features=&#x27;log2&#x27;, n_estimators=50)</pre><b>In a Jupyter environment, please rerun this cell to show the HTML representation or trust the notebook. <br />On GitHub, the HTML representation is unable to render, please try loading this page with nbviewer.org.</b></div><div class=\"sk-container\" hidden><div class=\"sk-item\"><div class=\"sk-estimator sk-toggleable\"><input class=\"sk-toggleable__control sk-hidden--visually\" id=\"sk-estimator-id-11\" type=\"checkbox\" checked><label for=\"sk-estimator-id-11\" class=\"sk-toggleable__label sk-toggleable__label-arrow\">BalancedRandomForestClassifier</label><div class=\"sk-toggleable__content\"><pre>BalancedRandomForestClassifier(criterion=&#x27;entropy&#x27;, max_depth=10,\n",
       "                               max_features=&#x27;log2&#x27;, n_estimators=50)</pre></div></div></div></div></div>"
      ],
      "text/plain": [
       "BalancedRandomForestClassifier(criterion='entropy', max_depth=10,\n",
       "                               max_features='log2', n_estimators=50)"
      ]
     },
     "execution_count": 79,
     "metadata": {},
     "output_type": "execute_result"
    }
   ],
   "source": [
    "model_ri.fit(X_train_PARCEL_reduced, y_train_PARCEL_reduced)"
   ]
  },
  {
   "cell_type": "code",
   "execution_count": 80,
   "metadata": {},
   "outputs": [
    {
     "name": "stdout",
     "output_type": "stream",
     "text": [
      "(Training Set) The cross-validation AUC for optimised Reduced Random Forest model with Parcelling after a 10 fold cross validation: 0.385 (0.275)\n"
     ]
    }
   ],
   "source": [
    "cv_scores = cross_val_score(estimator= model_ri, X=X_train_PARCEL_reduced, y=y_train_PARCEL_reduced, scoring='roc_auc', cv=CROSS_VALIDATION, n_jobs=-1)\n",
    "print(\"(Training Set) The cross-validation AUC for optimised Reduced Random Forest model with Parcelling after a 10 fold cross validation: %.3f (%.3f)\" % (mean(cv_scores), std(cv_scores)))"
   ]
  },
  {
   "cell_type": "code",
   "execution_count": 81,
   "metadata": {},
   "outputs": [],
   "source": [
    "yhat_PARCEL_reduced = model_ri.predict(X_test_reduced)"
   ]
  },
  {
   "cell_type": "code",
   "execution_count": 82,
   "metadata": {},
   "outputs": [],
   "source": [
    "results_df = ri.AppendResults(df=results_df, title=\"Reduced RF - Parcelling\",\n",
    "AUC_scores=cv_scores, y_test=y_test, y_score=yhat_PARCEL_reduced)"
   ]
  },
  {
   "cell_type": "markdown",
   "metadata": {},
   "source": [
    "### Extrapolation ###"
   ]
  },
  {
   "cell_type": "code",
   "execution_count": 83,
   "metadata": {},
   "outputs": [],
   "source": [
    "rejects_extrapolation = rejected.drop(['rejected','score'], axis=1)"
   ]
  },
  {
   "cell_type": "code",
   "execution_count": 84,
   "metadata": {},
   "outputs": [],
   "source": [
    "rejects_extrapolation = ri.RejectPreprocessing(df=rejects_extrapolation, num_cols=numerical_cols, cat_cols=['purpose'], prefix=[\"purp\"], scaler=scaler_reduced)"
   ]
  },
  {
   "cell_type": "code",
   "execution_count": 85,
   "metadata": {},
   "outputs": [
    {
     "name": "stderr",
     "output_type": "stream",
     "text": [
      "C:\\Users\\joshy\\anaconda3\\lib\\site-packages\\sklearn\\base.py:493: FutureWarning: The feature names should match those that were passed during fit. Starting version 1.2, an error will be raised.\n",
      "Feature names must be in the same order as they were in fit.\n",
      "\n",
      "  warnings.warn(message, FutureWarning)\n"
     ]
    }
   ],
   "source": [
    "reject_bad_prob = model_reduced.predict_proba(rejects_extrapolation)"
   ]
  },
  {
   "cell_type": "code",
   "execution_count": 86,
   "metadata": {},
   "outputs": [],
   "source": [
    "total, pos, rate = ri.splitCount(accept_train_df_reduced['charged_off'])"
   ]
  },
  {
   "cell_type": "code",
   "execution_count": 87,
   "metadata": {},
   "outputs": [
    {
     "name": "stdout",
     "output_type": "stream",
     "text": [
      "Rate:  18.30127903554834\n"
     ]
    }
   ],
   "source": [
    "# No rejects scored below the rate because of the lack of variables\n",
    "# Suggestion for further work would be to change the rates\n",
    "\n",
    "print(\"Rate: \", rate)\n",
    "rate = 1 - (rate/100)\n",
    "\n",
    "rejects_extrapolation['bad_prob'] = reject_bad_prob[:,1]\n",
    "rejects_extrapolation['charged_off'] = np.where(rejects_extrapolation['bad_prob'] >= rate, 1, 0)\n",
    "rejects_extrapolation.drop('bad_prob', axis=1, inplace=True)\n",
    "\n",
    "train_df_EXTRAPOLATION_reduced = pd.concat([accept_train_df_reduced, rejects_extrapolation])"
   ]
  },
  {
   "cell_type": "code",
   "execution_count": 88,
   "metadata": {},
   "outputs": [
    {
     "name": "stdout",
     "output_type": "stream",
     "text": [
      "Training Set:\n",
      "    Total: 3931748\n",
      "    Positive: 91506 (2.33% of total)\n",
      "\n",
      "Testing Set:\n",
      "    Total: 146571\n",
      "    Positive: 39267 (26.79% of total)\n",
      "\n"
     ]
    }
   ],
   "source": [
    "total, pos, rate = ri.splitCount(train_df_EXTRAPOLATION_reduced['charged_off'])\n",
    "print('Training Set:\\n    Total: {}\\n    Positive: {} ({:.2f}% of total)\\n'.format(\n",
    "    total, pos, rate))\n",
    "\n",
    "total, pos, rate = ri.splitCount(accept_test_df_reduced['charged_off'])\n",
    "print('Testing Set:\\n    Total: {}\\n    Positive: {} ({:.2f}% of total)\\n'.format(\n",
    "    total, pos, rate))"
   ]
  },
  {
   "cell_type": "code",
   "execution_count": 89,
   "metadata": {},
   "outputs": [],
   "source": [
    "y_train_EXTRAPOLATION_reduced = train_df_EXTRAPOLATION_reduced['charged_off']\n",
    "X_train_EXTRAPOLATION_reduced = train_df_EXTRAPOLATION_reduced.drop(['charged_off'], axis=1)"
   ]
  },
  {
   "cell_type": "code",
   "execution_count": 90,
   "metadata": {},
   "outputs": [
    {
     "data": {
      "text/html": [
       "<style>#sk-container-id-9 {color: black;background-color: white;}#sk-container-id-9 pre{padding: 0;}#sk-container-id-9 div.sk-toggleable {background-color: white;}#sk-container-id-9 label.sk-toggleable__label {cursor: pointer;display: block;width: 100%;margin-bottom: 0;padding: 0.3em;box-sizing: border-box;text-align: center;}#sk-container-id-9 label.sk-toggleable__label-arrow:before {content: \"▸\";float: left;margin-right: 0.25em;color: #696969;}#sk-container-id-9 label.sk-toggleable__label-arrow:hover:before {color: black;}#sk-container-id-9 div.sk-estimator:hover label.sk-toggleable__label-arrow:before {color: black;}#sk-container-id-9 div.sk-toggleable__content {max-height: 0;max-width: 0;overflow: hidden;text-align: left;background-color: #f0f8ff;}#sk-container-id-9 div.sk-toggleable__content pre {margin: 0.2em;color: black;border-radius: 0.25em;background-color: #f0f8ff;}#sk-container-id-9 input.sk-toggleable__control:checked~div.sk-toggleable__content {max-height: 200px;max-width: 100%;overflow: auto;}#sk-container-id-9 input.sk-toggleable__control:checked~label.sk-toggleable__label-arrow:before {content: \"▾\";}#sk-container-id-9 div.sk-estimator input.sk-toggleable__control:checked~label.sk-toggleable__label {background-color: #d4ebff;}#sk-container-id-9 div.sk-label input.sk-toggleable__control:checked~label.sk-toggleable__label {background-color: #d4ebff;}#sk-container-id-9 input.sk-hidden--visually {border: 0;clip: rect(1px 1px 1px 1px);clip: rect(1px, 1px, 1px, 1px);height: 1px;margin: -1px;overflow: hidden;padding: 0;position: absolute;width: 1px;}#sk-container-id-9 div.sk-estimator {font-family: monospace;background-color: #f0f8ff;border: 1px dotted black;border-radius: 0.25em;box-sizing: border-box;margin-bottom: 0.5em;}#sk-container-id-9 div.sk-estimator:hover {background-color: #d4ebff;}#sk-container-id-9 div.sk-parallel-item::after {content: \"\";width: 100%;border-bottom: 1px solid gray;flex-grow: 1;}#sk-container-id-9 div.sk-label:hover label.sk-toggleable__label {background-color: #d4ebff;}#sk-container-id-9 div.sk-serial::before {content: \"\";position: absolute;border-left: 1px solid gray;box-sizing: border-box;top: 0;bottom: 0;left: 50%;z-index: 0;}#sk-container-id-9 div.sk-serial {display: flex;flex-direction: column;align-items: center;background-color: white;padding-right: 0.2em;padding-left: 0.2em;position: relative;}#sk-container-id-9 div.sk-item {position: relative;z-index: 1;}#sk-container-id-9 div.sk-parallel {display: flex;align-items: stretch;justify-content: center;background-color: white;position: relative;}#sk-container-id-9 div.sk-item::before, #sk-container-id-9 div.sk-parallel-item::before {content: \"\";position: absolute;border-left: 1px solid gray;box-sizing: border-box;top: 0;bottom: 0;left: 50%;z-index: -1;}#sk-container-id-9 div.sk-parallel-item {display: flex;flex-direction: column;z-index: 1;position: relative;background-color: white;}#sk-container-id-9 div.sk-parallel-item:first-child::after {align-self: flex-end;width: 50%;}#sk-container-id-9 div.sk-parallel-item:last-child::after {align-self: flex-start;width: 50%;}#sk-container-id-9 div.sk-parallel-item:only-child::after {width: 0;}#sk-container-id-9 div.sk-dashed-wrapped {border: 1px dashed gray;margin: 0 0.4em 0.5em 0.4em;box-sizing: border-box;padding-bottom: 0.4em;background-color: white;}#sk-container-id-9 div.sk-label label {font-family: monospace;font-weight: bold;display: inline-block;line-height: 1.2em;}#sk-container-id-9 div.sk-label-container {text-align: center;}#sk-container-id-9 div.sk-container {/* jupyter's `normalize.less` sets `[hidden] { display: none; }` but bootstrap.min.css set `[hidden] { display: none !important; }` so we also need the `!important` here to be able to override the default hidden behavior on the sphinx rendered scikit-learn.org. See: https://github.com/scikit-learn/scikit-learn/issues/21755 */display: inline-block !important;position: relative;}#sk-container-id-9 div.sk-text-repr-fallback {display: none;}</style><div id=\"sk-container-id-9\" class=\"sk-top-container\"><div class=\"sk-text-repr-fallback\"><pre>BalancedRandomForestClassifier(criterion=&#x27;entropy&#x27;, max_depth=10,\n",
       "                               max_features=&#x27;log2&#x27;, n_estimators=50)</pre><b>In a Jupyter environment, please rerun this cell to show the HTML representation or trust the notebook. <br />On GitHub, the HTML representation is unable to render, please try loading this page with nbviewer.org.</b></div><div class=\"sk-container\" hidden><div class=\"sk-item\"><div class=\"sk-estimator sk-toggleable\"><input class=\"sk-toggleable__control sk-hidden--visually\" id=\"sk-estimator-id-12\" type=\"checkbox\" checked><label for=\"sk-estimator-id-12\" class=\"sk-toggleable__label sk-toggleable__label-arrow\">BalancedRandomForestClassifier</label><div class=\"sk-toggleable__content\"><pre>BalancedRandomForestClassifier(criterion=&#x27;entropy&#x27;, max_depth=10,\n",
       "                               max_features=&#x27;log2&#x27;, n_estimators=50)</pre></div></div></div></div></div>"
      ],
      "text/plain": [
       "BalancedRandomForestClassifier(criterion='entropy', max_depth=10,\n",
       "                               max_features='log2', n_estimators=50)"
      ]
     },
     "execution_count": 90,
     "metadata": {},
     "output_type": "execute_result"
    }
   ],
   "source": [
    "model_ri.fit(X_train_EXTRAPOLATION_reduced, y_train_EXTRAPOLATION_reduced)"
   ]
  },
  {
   "cell_type": "code",
   "execution_count": 91,
   "metadata": {},
   "outputs": [
    {
     "name": "stdout",
     "output_type": "stream",
     "text": [
      "(Training Set) The cross-validation AUC for Reduced Random Forest - Exrapolated RI model after a 10 fold cross validation: 0.916 (0.134)\n"
     ]
    }
   ],
   "source": [
    "cv_scores = cross_val_score(estimator= model_ri, X=X_train_EXTRAPOLATION_reduced, y=y_train_EXTRAPOLATION_reduced, scoring='roc_auc', cv=CROSS_VALIDATION, n_jobs=-1)\n",
    "print(\"(Training Set) The cross-validation AUC for Reduced Random Forest - Exrapolated RI model after a 10 fold cross validation: %.3f (%.3f)\" % (mean(cv_scores), std(cv_scores)))"
   ]
  },
  {
   "cell_type": "code",
   "execution_count": 92,
   "metadata": {},
   "outputs": [],
   "source": [
    "yhat_EXTRAPOLATION_reduced = model_ri.predict(X_test_reduced)"
   ]
  },
  {
   "cell_type": "code",
   "execution_count": 93,
   "metadata": {},
   "outputs": [],
   "source": [
    "results_df = ri.AppendResults(df=results_df, title=\"Reduced RF - Extrapolation\",\n",
    "AUC_scores=cv_scores, y_test=y_test, y_score=yhat_EXTRAPOLATION_reduced)"
   ]
  },
  {
   "cell_type": "markdown",
   "metadata": {},
   "source": [
    "### Fuzzy Augmentation ###"
   ]
  },
  {
   "cell_type": "code",
   "execution_count": 95,
   "metadata": {},
   "outputs": [],
   "source": [
    "rejected_bad = application_df.loc[application_df[\"rejected\"] == 1]\n",
    "rejected_good = application_df.loc[application_df[\"rejected\"] == 1]"
   ]
  },
  {
   "cell_type": "code",
   "execution_count": 96,
   "metadata": {},
   "outputs": [
    {
     "name": "stderr",
     "output_type": "stream",
     "text": [
      "<ipython-input-96-336b99dc05cf>:1: SettingWithCopyWarning: \n",
      "A value is trying to be set on a copy of a slice from a DataFrame.\n",
      "Try using .loc[row_indexer,col_indexer] = value instead\n",
      "\n",
      "See the caveats in the documentation: https://pandas.pydata.org/pandas-docs/stable/user_guide/indexing.html#returning-a-view-versus-a-copy\n",
      "  rejected_good[\"score\"] = 1 - rejected_good[\"score\"]\n",
      "<ipython-input-96-336b99dc05cf>:2: SettingWithCopyWarning: \n",
      "A value is trying to be set on a copy of a slice from a DataFrame.\n",
      "Try using .loc[row_indexer,col_indexer] = value instead\n",
      "\n",
      "See the caveats in the documentation: https://pandas.pydata.org/pandas-docs/stable/user_guide/indexing.html#returning-a-view-versus-a-copy\n",
      "  rejected_good[\"charged_off\"] = 0\n",
      "<ipython-input-96-336b99dc05cf>:4: SettingWithCopyWarning: \n",
      "A value is trying to be set on a copy of a slice from a DataFrame.\n",
      "Try using .loc[row_indexer,col_indexer] = value instead\n",
      "\n",
      "See the caveats in the documentation: https://pandas.pydata.org/pandas-docs/stable/user_guide/indexing.html#returning-a-view-versus-a-copy\n",
      "  rejected_bad[\"charged_off\"] = 1\n"
     ]
    }
   ],
   "source": [
    "rejected_good[\"score\"] = 1 - rejected_good[\"score\"]\n",
    "rejected_good[\"charged_off\"] = 0\n",
    "\n",
    "rejected_bad[\"charged_off\"] = 1\n",
    "\n",
    "fuzzy_aug = pd.concat([rejected_good, rejected_bad])"
   ]
  },
  {
   "cell_type": "code",
   "execution_count": 135,
   "metadata": {},
   "outputs": [
    {
     "name": "stderr",
     "output_type": "stream",
     "text": [
      "<ipython-input-135-6cfeb8af96e8>:2: SettingWithCopyWarning: \n",
      "A value is trying to be set on a copy of a slice from a DataFrame.\n",
      "Try using .loc[row_indexer,col_indexer] = value instead\n",
      "\n",
      "See the caveats in the documentation: https://pandas.pydata.org/pandas-docs/stable/user_guide/indexing.html#returning-a-view-versus-a-copy\n",
      "  accept_train_aug_df_reduced['score'] = 1\n"
     ]
    }
   ],
   "source": [
    "accept_train_aug_df_reduced = accept_train_df[match_cols]\n",
    "accept_train_aug_df_reduced['score'] = 1"
   ]
  },
  {
   "cell_type": "code",
   "execution_count": 98,
   "metadata": {},
   "outputs": [],
   "source": [
    "train_aug_df_reduced = pd.concat([accept_train_aug_df_reduced, fuzzy_aug])"
   ]
  },
  {
   "cell_type": "code",
   "execution_count": 99,
   "metadata": {},
   "outputs": [],
   "source": [
    "train_aug_df_reduced = ri.RejectPreprocessing(df=train_aug_df_reduced, num_cols=numerical_cols, cat_cols=['purpose'], prefix=[\"purp\"], scaler=scaler_reduced)"
   ]
  },
  {
   "cell_type": "code",
   "execution_count": 100,
   "metadata": {},
   "outputs": [],
   "source": [
    "y_train_faug_reduced = train_aug_df_reduced['charged_off']\n",
    "X_train_faug_reduced = train_aug_df_reduced.drop(['charged_off',\"score\", 'rejected'], axis=1)\n",
    "train_weights_faug = train_aug_df_reduced['score']"
   ]
  },
  {
   "cell_type": "code",
   "execution_count": 101,
   "metadata": {},
   "outputs": [
    {
     "data": {
      "text/html": [
       "<style>#sk-container-id-10 {color: black;background-color: white;}#sk-container-id-10 pre{padding: 0;}#sk-container-id-10 div.sk-toggleable {background-color: white;}#sk-container-id-10 label.sk-toggleable__label {cursor: pointer;display: block;width: 100%;margin-bottom: 0;padding: 0.3em;box-sizing: border-box;text-align: center;}#sk-container-id-10 label.sk-toggleable__label-arrow:before {content: \"▸\";float: left;margin-right: 0.25em;color: #696969;}#sk-container-id-10 label.sk-toggleable__label-arrow:hover:before {color: black;}#sk-container-id-10 div.sk-estimator:hover label.sk-toggleable__label-arrow:before {color: black;}#sk-container-id-10 div.sk-toggleable__content {max-height: 0;max-width: 0;overflow: hidden;text-align: left;background-color: #f0f8ff;}#sk-container-id-10 div.sk-toggleable__content pre {margin: 0.2em;color: black;border-radius: 0.25em;background-color: #f0f8ff;}#sk-container-id-10 input.sk-toggleable__control:checked~div.sk-toggleable__content {max-height: 200px;max-width: 100%;overflow: auto;}#sk-container-id-10 input.sk-toggleable__control:checked~label.sk-toggleable__label-arrow:before {content: \"▾\";}#sk-container-id-10 div.sk-estimator input.sk-toggleable__control:checked~label.sk-toggleable__label {background-color: #d4ebff;}#sk-container-id-10 div.sk-label input.sk-toggleable__control:checked~label.sk-toggleable__label {background-color: #d4ebff;}#sk-container-id-10 input.sk-hidden--visually {border: 0;clip: rect(1px 1px 1px 1px);clip: rect(1px, 1px, 1px, 1px);height: 1px;margin: -1px;overflow: hidden;padding: 0;position: absolute;width: 1px;}#sk-container-id-10 div.sk-estimator {font-family: monospace;background-color: #f0f8ff;border: 1px dotted black;border-radius: 0.25em;box-sizing: border-box;margin-bottom: 0.5em;}#sk-container-id-10 div.sk-estimator:hover {background-color: #d4ebff;}#sk-container-id-10 div.sk-parallel-item::after {content: \"\";width: 100%;border-bottom: 1px solid gray;flex-grow: 1;}#sk-container-id-10 div.sk-label:hover label.sk-toggleable__label {background-color: #d4ebff;}#sk-container-id-10 div.sk-serial::before {content: \"\";position: absolute;border-left: 1px solid gray;box-sizing: border-box;top: 0;bottom: 0;left: 50%;z-index: 0;}#sk-container-id-10 div.sk-serial {display: flex;flex-direction: column;align-items: center;background-color: white;padding-right: 0.2em;padding-left: 0.2em;position: relative;}#sk-container-id-10 div.sk-item {position: relative;z-index: 1;}#sk-container-id-10 div.sk-parallel {display: flex;align-items: stretch;justify-content: center;background-color: white;position: relative;}#sk-container-id-10 div.sk-item::before, #sk-container-id-10 div.sk-parallel-item::before {content: \"\";position: absolute;border-left: 1px solid gray;box-sizing: border-box;top: 0;bottom: 0;left: 50%;z-index: -1;}#sk-container-id-10 div.sk-parallel-item {display: flex;flex-direction: column;z-index: 1;position: relative;background-color: white;}#sk-container-id-10 div.sk-parallel-item:first-child::after {align-self: flex-end;width: 50%;}#sk-container-id-10 div.sk-parallel-item:last-child::after {align-self: flex-start;width: 50%;}#sk-container-id-10 div.sk-parallel-item:only-child::after {width: 0;}#sk-container-id-10 div.sk-dashed-wrapped {border: 1px dashed gray;margin: 0 0.4em 0.5em 0.4em;box-sizing: border-box;padding-bottom: 0.4em;background-color: white;}#sk-container-id-10 div.sk-label label {font-family: monospace;font-weight: bold;display: inline-block;line-height: 1.2em;}#sk-container-id-10 div.sk-label-container {text-align: center;}#sk-container-id-10 div.sk-container {/* jupyter's `normalize.less` sets `[hidden] { display: none; }` but bootstrap.min.css set `[hidden] { display: none !important; }` so we also need the `!important` here to be able to override the default hidden behavior on the sphinx rendered scikit-learn.org. See: https://github.com/scikit-learn/scikit-learn/issues/21755 */display: inline-block !important;position: relative;}#sk-container-id-10 div.sk-text-repr-fallback {display: none;}</style><div id=\"sk-container-id-10\" class=\"sk-top-container\"><div class=\"sk-text-repr-fallback\"><pre>BalancedRandomForestClassifier(criterion=&#x27;entropy&#x27;, max_depth=10,\n",
       "                               max_features=&#x27;log2&#x27;, n_estimators=50)</pre><b>In a Jupyter environment, please rerun this cell to show the HTML representation or trust the notebook. <br />On GitHub, the HTML representation is unable to render, please try loading this page with nbviewer.org.</b></div><div class=\"sk-container\" hidden><div class=\"sk-item\"><div class=\"sk-estimator sk-toggleable\"><input class=\"sk-toggleable__control sk-hidden--visually\" id=\"sk-estimator-id-13\" type=\"checkbox\" checked><label for=\"sk-estimator-id-13\" class=\"sk-toggleable__label sk-toggleable__label-arrow\">BalancedRandomForestClassifier</label><div class=\"sk-toggleable__content\"><pre>BalancedRandomForestClassifier(criterion=&#x27;entropy&#x27;, max_depth=10,\n",
       "                               max_features=&#x27;log2&#x27;, n_estimators=50)</pre></div></div></div></div></div>"
      ],
      "text/plain": [
       "BalancedRandomForestClassifier(criterion='entropy', max_depth=10,\n",
       "                               max_features='log2', n_estimators=50)"
      ]
     },
     "execution_count": 101,
     "metadata": {},
     "output_type": "execute_result"
    }
   ],
   "source": [
    "model_ri.fit(X_train_faug_reduced, y_train_faug_reduced, sample_weight = train_weights_faug)"
   ]
  },
  {
   "cell_type": "code",
   "execution_count": 102,
   "metadata": {},
   "outputs": [
    {
     "name": "stdout",
     "output_type": "stream",
     "text": [
      "(Training Set) The cross-validation AUC for Reduced Random Forest - Fuzzy Aug RI model after a 10 fold cross validation: 0.498 (0.056)\n"
     ]
    }
   ],
   "source": [
    "cv_scores = cross_val_score(estimator= model_ri, X=X_train_faug_reduced, y=y_train_faug_reduced, scoring='roc_auc', cv=CROSS_VALIDATION, n_jobs=-1)\n",
    "print(\"(Training Set) The cross-validation AUC for Reduced Random Forest - Fuzzy Aug RI model after a 10 fold cross validation: %.3f (%.3f)\" % (mean(cv_scores), std(cv_scores)))"
   ]
  },
  {
   "cell_type": "code",
   "execution_count": 103,
   "metadata": {},
   "outputs": [],
   "source": [
    "yhat_faug_reduced = model_ri.predict(X_test_reduced)"
   ]
  },
  {
   "cell_type": "code",
   "execution_count": 104,
   "metadata": {},
   "outputs": [],
   "source": [
    "results_df = ri.AppendResults(df=results_df, title=\"Reduced RF - Fuzzy Augmentation\",\n",
    "AUC_scores=cv_scores, y_test=y_test, y_score=yhat_faug_reduced)"
   ]
  },
  {
   "cell_type": "code",
   "execution_count": 106,
   "metadata": {},
   "outputs": [],
   "source": [
    "# Save to CSV file\n",
    "results_df.to_csv('Results.csv', mode='w+')"
   ]
  },
  {
   "cell_type": "markdown",
   "metadata": {},
   "source": [
    "### Bayesian Network ###"
   ]
  },
  {
   "cell_type": "code",
   "execution_count": 136,
   "metadata": {},
   "outputs": [
    {
     "name": "stderr",
     "output_type": "stream",
     "text": [
      "C:\\Users\\joshy\\anaconda3\\lib\\site-packages\\pandas\\core\\series.py:4463: SettingWithCopyWarning: \n",
      "A value is trying to be set on a copy of a slice from a DataFrame\n",
      "\n",
      "See the caveats in the documentation: https://pandas.pydata.org/pandas-docs/stable/user_guide/indexing.html#returning-a-view-versus-a-copy\n",
      "  return super().fillna(\n"
     ]
    }
   ],
   "source": [
    "bn_df = accept_train_aug_df_reduced\n",
    "emp_length_mean = bn_df['emp_length'].mean()\n",
    "bn_df['emp_length'].fillna(emp_length_mean, inplace=True)"
   ]
  },
  {
   "cell_type": "code",
   "execution_count": 137,
   "metadata": {},
   "outputs": [
    {
     "name": "stderr",
     "output_type": "stream",
     "text": [
      "<ipython-input-137-b8e4cdfb24a2>:1: SettingWithCopyWarning: \n",
      "A value is trying to be set on a copy of a slice from a DataFrame.\n",
      "Try using .loc[row_indexer,col_indexer] = value instead\n",
      "\n",
      "See the caveats in the documentation: https://pandas.pydata.org/pandas-docs/stable/user_guide/indexing.html#returning-a-view-versus-a-copy\n",
      "  bn_df['emp_length_cat'], emp_bins = pd.qcut(bn_df['emp_length'], q=3, retbins=True)\n",
      "<ipython-input-137-b8e4cdfb24a2>:2: SettingWithCopyWarning: \n",
      "A value is trying to be set on a copy of a slice from a DataFrame.\n",
      "Try using .loc[row_indexer,col_indexer] = value instead\n",
      "\n",
      "See the caveats in the documentation: https://pandas.pydata.org/pandas-docs/stable/user_guide/indexing.html#returning-a-view-versus-a-copy\n",
      "  bn_df['dti_cat'], dti_bins = pd.qcut(bn_df['dti'], q=4, retbins=True)\n",
      "<ipython-input-137-b8e4cdfb24a2>:3: SettingWithCopyWarning: \n",
      "A value is trying to be set on a copy of a slice from a DataFrame.\n",
      "Try using .loc[row_indexer,col_indexer] = value instead\n",
      "\n",
      "See the caveats in the documentation: https://pandas.pydata.org/pandas-docs/stable/user_guide/indexing.html#returning-a-view-versus-a-copy\n",
      "  bn_df['loan_amnt_cat'], loan_bins = pd.qcut(bn_df['loan_amnt'], q=4, retbins=True)\n",
      "<ipython-input-137-b8e4cdfb24a2>:5: SettingWithCopyWarning: \n",
      "A value is trying to be set on a copy of a slice from a DataFrame.\n",
      "Try using .loc[row_indexer,col_indexer] = value instead\n",
      "\n",
      "See the caveats in the documentation: https://pandas.pydata.org/pandas-docs/stable/user_guide/indexing.html#returning-a-view-versus-a-copy\n",
      "  bn_df['emp_length_cat'] = bn_df['emp_length_cat'].astype(str)\n",
      "<ipython-input-137-b8e4cdfb24a2>:6: SettingWithCopyWarning: \n",
      "A value is trying to be set on a copy of a slice from a DataFrame.\n",
      "Try using .loc[row_indexer,col_indexer] = value instead\n",
      "\n",
      "See the caveats in the documentation: https://pandas.pydata.org/pandas-docs/stable/user_guide/indexing.html#returning-a-view-versus-a-copy\n",
      "  bn_df['dti_cat'] = bn_df['dti_cat'].astype(str)\n",
      "<ipython-input-137-b8e4cdfb24a2>:7: SettingWithCopyWarning: \n",
      "A value is trying to be set on a copy of a slice from a DataFrame.\n",
      "Try using .loc[row_indexer,col_indexer] = value instead\n",
      "\n",
      "See the caveats in the documentation: https://pandas.pydata.org/pandas-docs/stable/user_guide/indexing.html#returning-a-view-versus-a-copy\n",
      "  bn_df['loan_amnt_cat'] = bn_df['loan_amnt_cat'].astype(str)\n",
      "C:\\Users\\joshy\\anaconda3\\lib\\site-packages\\pandas\\core\\indexing.py:1720: SettingWithCopyWarning: \n",
      "A value is trying to be set on a copy of a slice from a DataFrame.\n",
      "Try using .loc[row_indexer,col_indexer] = value instead\n",
      "\n",
      "See the caveats in the documentation: https://pandas.pydata.org/pandas-docs/stable/user_guide/indexing.html#returning-a-view-versus-a-copy\n",
      "  self._setitem_single_column(loc, value, pi)\n"
     ]
    }
   ],
   "source": [
    "bn_df['emp_length_cat'], emp_bins = pd.qcut(bn_df['emp_length'], q=3, retbins=True)\n",
    "bn_df['dti_cat'], dti_bins = pd.qcut(bn_df['dti'], q=4, retbins=True)\n",
    "bn_df['loan_amnt_cat'], loan_bins = pd.qcut(bn_df['loan_amnt'], q=4, retbins=True)\n",
    "\n",
    "bn_df['emp_length_cat'] = bn_df['emp_length_cat'].astype(str)\n",
    "bn_df['dti_cat'] = bn_df['dti_cat'].astype(str)\n",
    "bn_df['loan_amnt_cat'] = bn_df['loan_amnt_cat'].astype(str)\n",
    "\n",
    "emp_length_cat_lb = str(emp_bins[-1])\n",
    "dti_cat_lb = str(dti_bins[-1])\n",
    "loan_amnt_cat_lb = str(loan_bins[-1])\n",
    "\n",
    "emp_length_open_cat = str(emp_bins[-2]) + \" <\"\n",
    "dti_open_cat = str(dti_bins[-2]) + \" <\"\n",
    "loan_amnt_open_cat = str(loan_bins[-2]) + \" <\"\n",
    "\n",
    "bn_df.loc[bn_df[\"emp_length_cat\"].str.contains(emp_length_cat_lb), \"emp_length_cat\"] = emp_length_open_cat\n",
    "bn_df.loc[bn_df[\"dti_cat\"].str.contains(dti_cat_lb), \"dti_cat\"] = dti_open_cat\n",
    "bn_df.loc[bn_df[\"loan_amnt_cat\"].str.contains(loan_amnt_cat_lb), \"loan_amnt_cat\"] = loan_amnt_open_cat\n",
    "\n",
    "bn_df = bn_df.drop(['loan_amnt', 'emp_length', 'dti','score'], axis=1)"
   ]
  },
  {
   "cell_type": "code",
   "execution_count": 141,
   "metadata": {},
   "outputs": [
    {
     "name": "stderr",
     "output_type": "stream",
     "text": [
      "C:\\Users\\joshy\\anaconda3\\lib\\site-packages\\pandas\\core\\series.py:4463: SettingWithCopyWarning: \n",
      "A value is trying to be set on a copy of a slice from a DataFrame\n",
      "\n",
      "See the caveats in the documentation: https://pandas.pydata.org/pandas-docs/stable/user_guide/indexing.html#returning-a-view-versus-a-copy\n",
      "  return super().fillna(\n"
     ]
    }
   ],
   "source": [
    "bn_rejects = rejected\n",
    "bn_rejects['emp_length'].fillna(emp_length_mean, inplace = True)\n",
    "bn_rejects = bn_rejects.drop(['rejected', 'score'], axis=1)\n",
    "\n",
    "# Need to bin the reject continous variables\n",
    "bn_rejects['emp_length_cat'] = pd.cut(bn_rejects[\"emp_length\"], bins=emp_bins, include_lowest=True).astype(str)\n",
    "bn_rejects['dti_cat'] = pd.cut(bn_rejects[\"dti\"], bins=dti_bins, include_lowest=True).astype(str)\n",
    "bn_rejects['loan_amnt_cat'] = pd.cut(bn_rejects[\"loan_amnt\"], bins=loan_bins, include_lowest=True).astype(str)\n",
    "\n",
    "# Filling values that are in the rejcted dataset outside the threshold of the application dataset bins\n",
    "bn_rejects['dti_cat'].fillna(dti_open_cat, inplace = True)\n",
    "bn_rejects['loan_amnt_cat'].fillna(loan_amnt_open_cat, inplace = True)\n",
    "\n",
    "bn_rejects.loc[bn_rejects[\"emp_length_cat\"].str.contains(emp_length_cat_lb), \"emp_length_cat\"] = emp_length_open_cat\n",
    "bn_rejects.loc[bn_rejects[\"dti_cat\"].str.contains(dti_cat_lb), \"dti_cat\"] = dti_open_cat\n",
    "bn_rejects.loc[bn_rejects[\"loan_amnt_cat\"].str.contains(loan_amnt_cat_lb), \"loan_amnt_cat\"] = loan_amnt_open_cat\n",
    "\n",
    "bn_rejects = bn_rejects.drop(['loan_amnt', 'emp_length', 'dti'], axis=1)"
   ]
  },
  {
   "cell_type": "code",
   "execution_count": 143,
   "metadata": {},
   "outputs": [
    {
     "name": "stdout",
     "output_type": "stream",
     "text": [
      "Index(['purpose', 'emp_length_cat', 'dti_cat', 'loan_amnt_cat'], dtype='object')\n",
      "[]\n",
      "[]\n"
     ]
    }
   ],
   "source": [
    "print(bn_rejects.columns)\n",
    "print(list(set(bn_rejects['purpose']) - set(bn_df['purpose'])))\n",
    "print(list(set(bn_df['purpose']) - set(bn_rejects['purpose'])))"
   ]
  },
  {
   "cell_type": "code",
   "execution_count": null,
   "metadata": {},
   "outputs": [],
   "source": [
    "# Network structure optimisation\n",
    "\n",
    "scoring_method = BicScore(data=bn_df)\n",
    "# est = HillClimbSearch(data=df)\n",
    "est = ExhaustiveSearch(data=bn_df, scoring_method=scoring_method)\n",
    "estimated_model = est.estimate()\n",
    "\n",
    "print(estimated_model.edges())\n",
    "\n",
    "# print(\"\\nAll DAGs by score:\")\n",
    "# for score, dag in reversed(est.all_scores()):\n",
    "#     print(score, dag.edges())"
   ]
  },
  {
   "cell_type": "code",
   "execution_count": 147,
   "metadata": {},
   "outputs": [
    {
     "name": "stdout",
     "output_type": "stream",
     "text": [
      "+----------------+-----+--------------------------+\n",
      "| loan_amnt_cat  | ... | loan_amnt_cat(19750.0 <) |\n",
      "+----------------+-----+--------------------------+\n",
      "| charged_off(0) | ... | 0.7883193879414675       |\n",
      "+----------------+-----+--------------------------+\n",
      "| charged_off(1) | ... | 0.2116806120585325       |\n",
      "+----------------+-----+--------------------------+\n",
      "+--------------------------+-----+--------------------------+\n",
      "| charged_off              | ... | charged_off(1)           |\n",
      "+--------------------------+-----+--------------------------+\n",
      "| loan_amnt_cat            | ... | loan_amnt_cat(19750.0 <) |\n",
      "+--------------------------+-----+--------------------------+\n",
      "| dti_cat((-0.001, 11.37]) | ... | 0.16938030065278917      |\n",
      "+--------------------------+-----+--------------------------+\n",
      "| dti_cat((11.37, 16.92])  | ... | 0.23078135592416837      |\n",
      "+--------------------------+-----+--------------------------+\n",
      "| dti_cat((16.92, 22.91])  | ... | 0.27875685618253443      |\n",
      "+--------------------------+-----+--------------------------+\n",
      "| dti_cat(22.91 <)         | ... | 0.321081487240508        |\n",
      "+--------------------------+-----+--------------------------+\n",
      "+-------------------------------+-----+--------------------------+\n",
      "| loan_amnt_cat                 | ... | loan_amnt_cat(19750.0 <) |\n",
      "+-------------------------------+-----+--------------------------+\n",
      "| purpose                       | ... | purpose(wedding)         |\n",
      "+-------------------------------+-----+--------------------------+\n",
      "| emp_length_cat((-0.001, 4.0]) | ... | 0.5316640498030466       |\n",
      "+-------------------------------+-----+--------------------------+\n",
      "| emp_length_cat((4.0, 9.0])    | ... | 0.28573396138060214      |\n",
      "+-------------------------------+-----+--------------------------+\n",
      "| emp_length_cat(9.0 <)         | ... | 0.18260198881635126      |\n",
      "+-------------------------------+-----+--------------------------+\n",
      "+-----------------------------------+----------+\n",
      "| loan_amnt_cat((12000.0, 19750.0]) | 0.232273 |\n",
      "+-----------------------------------+----------+\n",
      "| loan_amnt_cat((499.999, 8000.0])  | 0.281237 |\n",
      "+-----------------------------------+----------+\n",
      "| loan_amnt_cat((8000.0, 12000.0])  | 0.237125 |\n",
      "+-----------------------------------+----------+\n",
      "| loan_amnt_cat(19750.0 <)          | 0.249365 |\n",
      "+-----------------------------------+----------+\n",
      "+-----------------------------+-----+--------------------------+\n",
      "| dti_cat                     | ... | dti_cat(22.91 <)         |\n",
      "+-----------------------------+-----+--------------------------+\n",
      "| loan_amnt_cat               | ... | loan_amnt_cat(19750.0 <) |\n",
      "+-----------------------------+-----+--------------------------+\n",
      "| purpose(car)                | ... | 0.0012067945811205648    |\n",
      "+-----------------------------+-----+--------------------------+\n",
      "| purpose(credit_card)        | ... | 0.23675734346979663      |\n",
      "+-----------------------------+-----+--------------------------+\n",
      "| purpose(debt_consolidation) | ... | 0.7004598007880745       |\n",
      "+-----------------------------+-----+--------------------------+\n",
      "| purpose(home_improvement)   | ... | 0.02949763122639119      |\n",
      "+-----------------------------+-----+--------------------------+\n",
      "| purpose(house)              | ... | 0.0021194022148389724    |\n",
      "+-----------------------------+-----+--------------------------+\n",
      "| purpose(major_purchase)     | ... | 0.005378715192404712     |\n",
      "+-----------------------------+-----+--------------------------+\n",
      "| purpose(medical)            | ... | 0.0020216228255119997    |\n",
      "+-----------------------------+-----+--------------------------+\n",
      "| purpose(moving)             | ... | 0.000880863283363991     |\n",
      "+-----------------------------+-----+--------------------------+\n",
      "| purpose(other)              | ... | 0.012972914430132888     |\n",
      "+-----------------------------+-----+--------------------------+\n",
      "| purpose(small_business)     | ... | 0.007334302978944157     |\n",
      "+-----------------------------+-----+--------------------------+\n",
      "| purpose(vacation)           | ... | 0.0004245594665047873    |\n",
      "+-----------------------------+-----+--------------------------+\n",
      "| purpose(wedding)            | ... | 0.0009460495429153057    |\n",
      "+-----------------------------+-----+--------------------------+\n"
     ]
    }
   ],
   "source": [
    "bn_model = BayesianNetwork(estimated_model)\n",
    "bn_model.fit(bn_df, estimator=BayesianEstimator, prior_type=\"BDeu\") # Bayesian Dirichlet equivalent uniform prior\n",
    "for cpd in bn_model.get_cpds():\n",
    "    print(cpd)\n"
   ]
  },
  {
   "cell_type": "code",
   "execution_count": 148,
   "metadata": {},
   "outputs": [
    {
     "data": {
      "text/plain": [
       "['./BN model.joblib']"
      ]
     },
     "execution_count": 148,
     "metadata": {},
     "output_type": "execute_result"
    }
   ],
   "source": [
    "joblib.dump(bn_model, \"./BN model.joblib\")"
   ]
  },
  {
   "cell_type": "code",
   "execution_count": 172,
   "metadata": {},
   "outputs": [
    {
     "data": {
      "text/plain": [
       "0.117379    1665\n",
       "0.275939    1319\n",
       "0.188791    1311\n",
       "0.135005     573\n",
       "0.236201     541\n",
       "0.156676     505\n",
       "0.269411     505\n",
       "0.160495     475\n",
       "0.129218     380\n",
       "0.222353     252\n",
       "0.184408     251\n",
       "0.149423     205\n",
       "0.154385     191\n",
       "0.183012     185\n",
       "0.206911     117\n",
       "0.173586     106\n",
       "Name: charged_off_1, dtype: int64"
      ]
     },
     "execution_count": 172,
     "metadata": {},
     "output_type": "execute_result"
    }
   ],
   "source": [
    "bn_yhat['charged_off_1'].value_counts()"
   ]
  },
  {
   "cell_type": "code",
   "execution_count": 152,
   "metadata": {},
   "outputs": [
    {
     "data": {
      "text/plain": [
       "0.27593852935724306"
      ]
     },
     "execution_count": 152,
     "metadata": {},
     "output_type": "execute_result"
    }
   ],
   "source": [
    "max(bn_yhat[\"charged_off_1\"])"
   ]
  },
  {
   "cell_type": "code",
   "execution_count": 153,
   "metadata": {},
   "outputs": [
    {
     "data": {
      "text/plain": [
       "0    408099\n",
       "1     91418\n",
       "Name: charged_off, dtype: int64"
      ]
     },
     "execution_count": 153,
     "metadata": {},
     "output_type": "execute_result"
    }
   ],
   "source": [
    "bn_df['charged_off'].value_counts()"
   ]
  },
  {
   "cell_type": "code",
   "execution_count": 154,
   "metadata": {},
   "outputs": [
    {
     "data": {
      "text/plain": [
       "(3432231, 4)"
      ]
     },
     "execution_count": 154,
     "metadata": {},
     "output_type": "execute_result"
    }
   ],
   "source": [
    "bn_rejects.shape"
   ]
  },
  {
   "cell_type": "code",
   "execution_count": null,
   "metadata": {},
   "outputs": [],
   "source": [
    "chunks = np.array_split(bn_rejects, 400)\n",
    "\n",
    "for i in chunks:\n",
    "    bn_yhat = bn_model.predict_probability(i)\n",
    "    i['default_prob'] = bn_yhat['charged_off_1']"
   ]
  },
  {
   "cell_type": "code",
   "execution_count": 197,
   "metadata": {},
   "outputs": [
    {
     "data": {
      "text/html": [
       "<div>\n",
       "<style scoped>\n",
       "    .dataframe tbody tr th:only-of-type {\n",
       "        vertical-align: middle;\n",
       "    }\n",
       "\n",
       "    .dataframe tbody tr th {\n",
       "        vertical-align: top;\n",
       "    }\n",
       "\n",
       "    .dataframe thead th {\n",
       "        text-align: right;\n",
       "    }\n",
       "</style>\n",
       "<table border=\"1\" class=\"dataframe\">\n",
       "  <thead>\n",
       "    <tr style=\"text-align: right;\">\n",
       "      <th></th>\n",
       "      <th>purpose</th>\n",
       "      <th>emp_length_cat</th>\n",
       "      <th>dti_cat</th>\n",
       "      <th>loan_amnt_cat</th>\n",
       "      <th>default_prob</th>\n",
       "    </tr>\n",
       "  </thead>\n",
       "  <tbody>\n",
       "    <tr>\n",
       "      <th>1273538</th>\n",
       "      <td>debt_consolidation</td>\n",
       "      <td>(-0.001, 4.0]</td>\n",
       "      <td>(16.92, 22.91]</td>\n",
       "      <td>19750.0 &lt;</td>\n",
       "      <td>0.222353</td>\n",
       "    </tr>\n",
       "    <tr>\n",
       "      <th>1275072</th>\n",
       "      <td>debt_consolidation</td>\n",
       "      <td>(-0.001, 4.0]</td>\n",
       "      <td>(-0.001, 11.37]</td>\n",
       "      <td>19750.0 &lt;</td>\n",
       "      <td>0.160495</td>\n",
       "    </tr>\n",
       "    <tr>\n",
       "      <th>1275572</th>\n",
       "      <td>debt_consolidation</td>\n",
       "      <td>9.0 &lt;</td>\n",
       "      <td>22.91 &lt;</td>\n",
       "      <td>19750.0 &lt;</td>\n",
       "      <td>0.275939</td>\n",
       "    </tr>\n",
       "    <tr>\n",
       "      <th>1275577</th>\n",
       "      <td>debt_consolidation</td>\n",
       "      <td>9.0 &lt;</td>\n",
       "      <td>22.91 &lt;</td>\n",
       "      <td>19750.0 &lt;</td>\n",
       "      <td>0.275939</td>\n",
       "    </tr>\n",
       "    <tr>\n",
       "      <th>1275634</th>\n",
       "      <td>other</td>\n",
       "      <td>(-0.001, 4.0]</td>\n",
       "      <td>(16.92, 22.91]</td>\n",
       "      <td>(499.999, 8000.0]</td>\n",
       "      <td>0.156676</td>\n",
       "    </tr>\n",
       "    <tr>\n",
       "      <th>...</th>\n",
       "      <td>...</td>\n",
       "      <td>...</td>\n",
       "      <td>...</td>\n",
       "      <td>...</td>\n",
       "      <td>...</td>\n",
       "    </tr>\n",
       "    <tr>\n",
       "      <th>1358427</th>\n",
       "      <td>car</td>\n",
       "      <td>(-0.001, 4.0]</td>\n",
       "      <td>(11.37, 16.92]</td>\n",
       "      <td>(499.999, 8000.0]</td>\n",
       "      <td>0.135005</td>\n",
       "    </tr>\n",
       "    <tr>\n",
       "      <th>1358429</th>\n",
       "      <td>debt_consolidation</td>\n",
       "      <td>9.0 &lt;</td>\n",
       "      <td>(16.92, 22.91]</td>\n",
       "      <td>(8000.0, 12000.0]</td>\n",
       "      <td>0.183012</td>\n",
       "    </tr>\n",
       "    <tr>\n",
       "      <th>1358431</th>\n",
       "      <td>debt_consolidation</td>\n",
       "      <td>(-0.001, 4.0]</td>\n",
       "      <td>22.91 &lt;</td>\n",
       "      <td>(12000.0, 19750.0]</td>\n",
       "      <td>0.269411</td>\n",
       "    </tr>\n",
       "    <tr>\n",
       "      <th>1358432</th>\n",
       "      <td>debt_consolidation</td>\n",
       "      <td>(-0.001, 4.0]</td>\n",
       "      <td>(-0.001, 11.37]</td>\n",
       "      <td>(499.999, 8000.0]</td>\n",
       "      <td>0.117379</td>\n",
       "    </tr>\n",
       "    <tr>\n",
       "      <th>1358433</th>\n",
       "      <td>debt_consolidation</td>\n",
       "      <td>(-0.001, 4.0]</td>\n",
       "      <td>22.91 &lt;</td>\n",
       "      <td>(499.999, 8000.0]</td>\n",
       "      <td>0.188791</td>\n",
       "    </tr>\n",
       "  </tbody>\n",
       "</table>\n",
       "<p>8581 rows × 5 columns</p>\n",
       "</div>"
      ],
      "text/plain": [
       "                    purpose emp_length_cat          dti_cat  \\\n",
       "1273538  debt_consolidation  (-0.001, 4.0]   (16.92, 22.91]   \n",
       "1275072  debt_consolidation  (-0.001, 4.0]  (-0.001, 11.37]   \n",
       "1275572  debt_consolidation          9.0 <          22.91 <   \n",
       "1275577  debt_consolidation          9.0 <          22.91 <   \n",
       "1275634               other  (-0.001, 4.0]   (16.92, 22.91]   \n",
       "...                     ...            ...              ...   \n",
       "1358427                 car  (-0.001, 4.0]   (11.37, 16.92]   \n",
       "1358429  debt_consolidation          9.0 <   (16.92, 22.91]   \n",
       "1358431  debt_consolidation  (-0.001, 4.0]          22.91 <   \n",
       "1358432  debt_consolidation  (-0.001, 4.0]  (-0.001, 11.37]   \n",
       "1358433  debt_consolidation  (-0.001, 4.0]          22.91 <   \n",
       "\n",
       "              loan_amnt_cat  default_prob  \n",
       "1273538           19750.0 <      0.222353  \n",
       "1275072           19750.0 <      0.160495  \n",
       "1275572           19750.0 <      0.275939  \n",
       "1275577           19750.0 <      0.275939  \n",
       "1275634   (499.999, 8000.0]      0.156676  \n",
       "...                     ...           ...  \n",
       "1358427   (499.999, 8000.0]      0.135005  \n",
       "1358429   (8000.0, 12000.0]      0.183012  \n",
       "1358431  (12000.0, 19750.0]      0.269411  \n",
       "1358432   (499.999, 8000.0]      0.117379  \n",
       "1358433   (499.999, 8000.0]      0.188791  \n",
       "\n",
       "[8581 rows x 5 columns]"
      ]
     },
     "execution_count": 197,
     "metadata": {},
     "output_type": "execute_result"
    }
   ],
   "source": [
    "chunks[0]"
   ]
  },
  {
   "cell_type": "code",
   "execution_count": 199,
   "metadata": {},
   "outputs": [],
   "source": [
    "bn_yhat_df=pd.concat(chunks)"
   ]
  },
  {
   "cell_type": "code",
   "execution_count": 200,
   "metadata": {},
   "outputs": [
    {
     "data": {
      "text/html": [
       "<div>\n",
       "<style scoped>\n",
       "    .dataframe tbody tr th:only-of-type {\n",
       "        vertical-align: middle;\n",
       "    }\n",
       "\n",
       "    .dataframe tbody tr th {\n",
       "        vertical-align: top;\n",
       "    }\n",
       "\n",
       "    .dataframe thead th {\n",
       "        text-align: right;\n",
       "    }\n",
       "</style>\n",
       "<table border=\"1\" class=\"dataframe\">\n",
       "  <thead>\n",
       "    <tr style=\"text-align: right;\">\n",
       "      <th></th>\n",
       "      <th>purpose</th>\n",
       "      <th>emp_length_cat</th>\n",
       "      <th>dti_cat</th>\n",
       "      <th>loan_amnt_cat</th>\n",
       "      <th>default_prob</th>\n",
       "    </tr>\n",
       "  </thead>\n",
       "  <tbody>\n",
       "    <tr>\n",
       "      <th>1273538</th>\n",
       "      <td>debt_consolidation</td>\n",
       "      <td>(-0.001, 4.0]</td>\n",
       "      <td>(16.92, 22.91]</td>\n",
       "      <td>19750.0 &lt;</td>\n",
       "      <td>0.222353</td>\n",
       "    </tr>\n",
       "    <tr>\n",
       "      <th>1275072</th>\n",
       "      <td>debt_consolidation</td>\n",
       "      <td>(-0.001, 4.0]</td>\n",
       "      <td>(-0.001, 11.37]</td>\n",
       "      <td>19750.0 &lt;</td>\n",
       "      <td>0.160495</td>\n",
       "    </tr>\n",
       "    <tr>\n",
       "      <th>1275572</th>\n",
       "      <td>debt_consolidation</td>\n",
       "      <td>9.0 &lt;</td>\n",
       "      <td>22.91 &lt;</td>\n",
       "      <td>19750.0 &lt;</td>\n",
       "      <td>0.275939</td>\n",
       "    </tr>\n",
       "    <tr>\n",
       "      <th>1275577</th>\n",
       "      <td>debt_consolidation</td>\n",
       "      <td>9.0 &lt;</td>\n",
       "      <td>22.91 &lt;</td>\n",
       "      <td>19750.0 &lt;</td>\n",
       "      <td>0.275939</td>\n",
       "    </tr>\n",
       "    <tr>\n",
       "      <th>1275634</th>\n",
       "      <td>other</td>\n",
       "      <td>(-0.001, 4.0]</td>\n",
       "      <td>(16.92, 22.91]</td>\n",
       "      <td>(499.999, 8000.0]</td>\n",
       "      <td>0.156676</td>\n",
       "    </tr>\n",
       "    <tr>\n",
       "      <th>...</th>\n",
       "      <td>...</td>\n",
       "      <td>...</td>\n",
       "      <td>...</td>\n",
       "      <td>...</td>\n",
       "      <td>...</td>\n",
       "    </tr>\n",
       "    <tr>\n",
       "      <th>13843229</th>\n",
       "      <td>other</td>\n",
       "      <td>(-0.001, 4.0]</td>\n",
       "      <td>22.91 &lt;</td>\n",
       "      <td>(499.999, 8000.0]</td>\n",
       "      <td>0.188791</td>\n",
       "    </tr>\n",
       "    <tr>\n",
       "      <th>13843230</th>\n",
       "      <td>debt_consolidation</td>\n",
       "      <td>(-0.001, 4.0]</td>\n",
       "      <td>(-0.001, 11.37]</td>\n",
       "      <td>(499.999, 8000.0]</td>\n",
       "      <td>0.117379</td>\n",
       "    </tr>\n",
       "    <tr>\n",
       "      <th>13843231</th>\n",
       "      <td>other</td>\n",
       "      <td>(-0.001, 4.0]</td>\n",
       "      <td>(-0.001, 11.37]</td>\n",
       "      <td>(499.999, 8000.0]</td>\n",
       "      <td>0.117379</td>\n",
       "    </tr>\n",
       "    <tr>\n",
       "      <th>13843232</th>\n",
       "      <td>debt_consolidation</td>\n",
       "      <td>(-0.001, 4.0]</td>\n",
       "      <td>(16.92, 22.91]</td>\n",
       "      <td>(499.999, 8000.0]</td>\n",
       "      <td>0.156676</td>\n",
       "    </tr>\n",
       "    <tr>\n",
       "      <th>13843234</th>\n",
       "      <td>home_improvement</td>\n",
       "      <td>(-0.001, 4.0]</td>\n",
       "      <td>22.91 &lt;</td>\n",
       "      <td>(12000.0, 19750.0]</td>\n",
       "      <td>0.269411</td>\n",
       "    </tr>\n",
       "  </tbody>\n",
       "</table>\n",
       "<p>3432231 rows × 5 columns</p>\n",
       "</div>"
      ],
      "text/plain": [
       "                     purpose emp_length_cat          dti_cat  \\\n",
       "1273538   debt_consolidation  (-0.001, 4.0]   (16.92, 22.91]   \n",
       "1275072   debt_consolidation  (-0.001, 4.0]  (-0.001, 11.37]   \n",
       "1275572   debt_consolidation          9.0 <          22.91 <   \n",
       "1275577   debt_consolidation          9.0 <          22.91 <   \n",
       "1275634                other  (-0.001, 4.0]   (16.92, 22.91]   \n",
       "...                      ...            ...              ...   \n",
       "13843229               other  (-0.001, 4.0]          22.91 <   \n",
       "13843230  debt_consolidation  (-0.001, 4.0]  (-0.001, 11.37]   \n",
       "13843231               other  (-0.001, 4.0]  (-0.001, 11.37]   \n",
       "13843232  debt_consolidation  (-0.001, 4.0]   (16.92, 22.91]   \n",
       "13843234    home_improvement  (-0.001, 4.0]          22.91 <   \n",
       "\n",
       "               loan_amnt_cat  default_prob  \n",
       "1273538            19750.0 <      0.222353  \n",
       "1275072            19750.0 <      0.160495  \n",
       "1275572            19750.0 <      0.275939  \n",
       "1275577            19750.0 <      0.275939  \n",
       "1275634    (499.999, 8000.0]      0.156676  \n",
       "...                      ...           ...  \n",
       "13843229   (499.999, 8000.0]      0.188791  \n",
       "13843230   (499.999, 8000.0]      0.117379  \n",
       "13843231   (499.999, 8000.0]      0.117379  \n",
       "13843232   (499.999, 8000.0]      0.156676  \n",
       "13843234  (12000.0, 19750.0]      0.269411  \n",
       "\n",
       "[3432231 rows x 5 columns]"
      ]
     },
     "execution_count": 200,
     "metadata": {},
     "output_type": "execute_result"
    }
   ],
   "source": [
    "bn_yhat_df"
   ]
  },
  {
   "cell_type": "code",
   "execution_count": 204,
   "metadata": {},
   "outputs": [
    {
     "data": {
      "text/plain": [
       "0.117379    701570\n",
       "0.275939    497079\n",
       "0.188791    489729\n",
       "0.236201    219201\n",
       "0.135005    216497\n",
       "0.160495    199992\n",
       "0.269411    191731\n",
       "0.156676    189004\n",
       "0.129218    163237\n",
       "0.222353    114923\n",
       "0.184408    107977\n",
       "0.149423     93629\n",
       "0.154385     74226\n",
       "0.183012     69106\n",
       "0.206911     52198\n",
       "0.173586     52132\n",
       "Name: default_prob, dtype: int64"
      ]
     },
     "execution_count": 204,
     "metadata": {},
     "output_type": "execute_result"
    }
   ],
   "source": [
    "bn_yhat_df['default_prob'].value_counts()"
   ]
  },
  {
   "cell_type": "code",
   "execution_count": null,
   "metadata": {},
   "outputs": [],
   "source": [
    "# Save to CSV file\n",
    "bn_yhat_df.to_csv('BN Results.csv', mode='w+')"
   ]
  },
  {
   "cell_type": "code",
   "execution_count": null,
   "metadata": {},
   "outputs": [],
   "source": []
  }
 ],
 "metadata": {
  "kernelspec": {
   "display_name": "Python 3",
   "language": "python",
   "name": "python3"
  },
  "language_info": {
   "codemirror_mode": {
    "name": "ipython",
    "version": 3
   },
   "file_extension": ".py",
   "mimetype": "text/x-python",
   "name": "python",
   "nbconvert_exporter": "python",
   "pygments_lexer": "ipython3",
   "version": "3.8.8"
  },
  "vscode": {
   "interpreter": {
    "hash": "653ef3dff1567b17fc742ba82e2411e657a18e82067de2bcca7734cac483dd3c"
   }
  }
 },
 "nbformat": 4,
 "nbformat_minor": 4
}
