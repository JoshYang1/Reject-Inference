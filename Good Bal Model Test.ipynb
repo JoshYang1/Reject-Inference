{
 "cells": [
  {
   "cell_type": "code",
   "execution_count": 72,
   "metadata": {},
   "outputs": [],
   "source": [
    "import numpy as np\n",
    "import pandas as pd\n",
    "import tensorflow as tf\n",
    "\n",
    "from tensorflow.keras import layers\n",
    "from sklearn.preprocessing import StandardScaler\n",
    "\n",
    "import functools"
   ]
  },
  {
   "cell_type": "code",
   "execution_count": 73,
   "metadata": {},
   "outputs": [],
   "source": [
    "data = pd.read_csv('input_file_2.csv', sep = ',', index_col=0)"
   ]
  },
  {
   "cell_type": "code",
   "execution_count": 74,
   "metadata": {},
   "outputs": [],
   "source": [
    "data['issue_d'] = pd.to_datetime(data['issue_d'])"
   ]
  },
  {
   "cell_type": "code",
   "execution_count": 75,
   "metadata": {},
   "outputs": [],
   "source": [
    "'''Exclude the period from the beginning of 2016 onward as it is noticed in time-series plots that this period has\n",
    " a significant portion of the expected defaults not reported yet. This would hence be biased.'''\n",
    "\n",
    "data = data.loc[data['issue_d'] < '2016-1-1']"
   ]
  },
  {
   "cell_type": "code",
   "execution_count": 76,
   "metadata": {},
   "outputs": [
    {
     "name": "stdout",
     "output_type": "stream",
     "text": [
      "to scale      ['loan_amnt', 'term', 'installment', 'emp_length', 'home_ownership', 'verification_status', 'issue_d', 'purpose', 'dti', 'earliest_cr_line', 'open_acc', 'pub_rec', 'revol_util', 'total_acc', 'application_type', 'mort_acc', 'pub_rec_bankruptcies', 'log_annual_inc', 'fico_score', 'log_revol_bal', 'charged_off']\n",
      "21\n"
     ]
    }
   ],
   "source": [
    "all_cols = list(data.columns)\n",
    "\n",
    "print('to scale     ', all_cols)\n",
    "\n",
    "print(len(all_cols))\n",
    "\n",
    "all_cols.remove('charged_off')\n",
    "all_cols.remove('issue_d')"
   ]
  },
  {
   "cell_type": "code",
   "execution_count": 77,
   "metadata": {},
   "outputs": [],
   "source": [
    "to_drop_categorical = ['home_ownership', 'verification_status', 'purpose', 'application_type']"
   ]
  },
  {
   "cell_type": "code",
   "execution_count": 78,
   "metadata": {},
   "outputs": [
    {
     "name": "stdout",
     "output_type": "stream",
     "text": [
      "to scale      ['loan_amnt', 'term', 'installment', 'emp_length', 'dti', 'earliest_cr_line', 'open_acc', 'pub_rec', 'revol_util', 'total_acc', 'mort_acc', 'pub_rec_bankruptcies', 'log_annual_inc', 'fico_score', 'log_revol_bal']\n",
      "15\n"
     ]
    }
   ],
   "source": [
    "for i in to_drop_categorical:\n",
    "\n",
    "    all_cols.remove(i)\n",
    "\n",
    "print('to scale     ', all_cols)\n",
    "\n",
    "print(len(all_cols))\n"
   ]
  },
  {
   "cell_type": "code",
   "execution_count": 79,
   "metadata": {},
   "outputs": [],
   "source": [
    "data = pd.get_dummies(data,prefix=[\"ho\",\"vs\",\"purp\",\"at\"], columns=['home_ownership', 'verification_status', 'purpose', 'application_type'], drop_first=False)"
   ]
  },
  {
   "cell_type": "code",
   "execution_count": 80,
   "metadata": {},
   "outputs": [],
   "source": [
    "train_df = data.loc[data['issue_d'] < data['issue_d'].quantile(0.90)]\n",
    "test_df = data.loc[data['issue_d'] >= data['issue_d'].quantile(0.90)]"
   ]
  },
  {
   "cell_type": "code",
   "execution_count": 81,
   "metadata": {},
   "outputs": [
    {
     "name": "stderr",
     "output_type": "stream",
     "text": [
      "c:\\Users\\joshy\\anaconda3\\lib\\site-packages\\pandas\\core\\frame.py:4308: SettingWithCopyWarning: \n",
      "A value is trying to be set on a copy of a slice from a DataFrame\n",
      "\n",
      "See the caveats in the documentation: https://pandas.pydata.org/pandas-docs/stable/user_guide/indexing.html#returning-a-view-versus-a-copy\n",
      "  return super().drop(\n"
     ]
    }
   ],
   "source": [
    "train_df.drop('issue_d', axis=1, inplace=True)\n",
    "test_df.drop('issue_d', axis=1, inplace=True)"
   ]
  },
  {
   "cell_type": "code",
   "execution_count": 82,
   "metadata": {},
   "outputs": [
    {
     "name": "stderr",
     "output_type": "stream",
     "text": [
      "c:\\Users\\joshy\\anaconda3\\lib\\site-packages\\pandas\\core\\frame.py:3191: SettingWithCopyWarning: \n",
      "A value is trying to be set on a copy of a slice from a DataFrame.\n",
      "Try using .loc[row_indexer,col_indexer] = value instead\n",
      "\n",
      "See the caveats in the documentation: https://pandas.pydata.org/pandas-docs/stable/user_guide/indexing.html#returning-a-view-versus-a-copy\n",
      "  self[k1] = value[k2]\n"
     ]
    },
    {
     "name": "stdout",
     "output_type": "stream",
     "text": [
      "null values       loan_amnt                  0\n",
      "term                       0\n",
      "installment                0\n",
      "emp_length                 0\n",
      "dti                        0\n",
      "earliest_cr_line           0\n",
      "open_acc                   0\n",
      "pub_rec                    0\n",
      "revol_util                 0\n",
      "total_acc                  0\n",
      "mort_acc                   0\n",
      "pub_rec_bankruptcies       0\n",
      "log_annual_inc             0\n",
      "fico_score                 0\n",
      "log_revol_bal              0\n",
      "charged_off                0\n",
      "ho_MORTGAGE                0\n",
      "ho_OWN                     0\n",
      "ho_RENT                    0\n",
      "vs_Not Verified            0\n",
      "vs_Source Verified         0\n",
      "vs_Verified                0\n",
      "purp_car                   0\n",
      "purp_credit_card           0\n",
      "purp_debt_consolidation    0\n",
      "purp_educational           0\n",
      "purp_home_improvement      0\n",
      "purp_house                 0\n",
      "purp_major_purchase        0\n",
      "purp_medical               0\n",
      "purp_moving                0\n",
      "purp_other                 0\n",
      "purp_renewable_energy      0\n",
      "purp_small_business        0\n",
      "purp_vacation              0\n",
      "purp_wedding               0\n",
      "at_Individual              0\n",
      "at_Joint App               0\n",
      "dtype: int64\n",
      "<class 'pandas.core.frame.DataFrame'>\n"
     ]
    }
   ],
   "source": [
    "train_df[all_cols] = train_df[all_cols].fillna(train_df[all_cols].mean())\n",
    "test_df[all_cols] = test_df[all_cols].fillna(train_df[all_cols].mean())\n",
    "print('null values      ', train_df.isnull().sum())\n",
    "print(type(train_df))"
   ]
  },
  {
   "cell_type": "code",
   "execution_count": 83,
   "metadata": {},
   "outputs": [
    {
     "name": "stderr",
     "output_type": "stream",
     "text": [
      "<ipython-input-83-5b01b1f3d05f>:3: SettingWithCopyWarning: \n",
      "A value is trying to be set on a copy of a slice from a DataFrame.\n",
      "Try using .loc[row_indexer,col_indexer] = value instead\n",
      "\n",
      "See the caveats in the documentation: https://pandas.pydata.org/pandas-docs/stable/user_guide/indexing.html#returning-a-view-versus-a-copy\n",
      "  train_df[all_cols] = scaler.fit_transform(train_df[all_cols], train_df['charged_off'])\n",
      "c:\\Users\\joshy\\anaconda3\\lib\\site-packages\\pandas\\core\\indexing.py:1738: SettingWithCopyWarning: \n",
      "A value is trying to be set on a copy of a slice from a DataFrame.\n",
      "Try using .loc[row_indexer,col_indexer] = value instead\n",
      "\n",
      "See the caveats in the documentation: https://pandas.pydata.org/pandas-docs/stable/user_guide/indexing.html#returning-a-view-versus-a-copy\n",
      "  self._setitem_single_column(loc, value[:, i].tolist(), pi)\n"
     ]
    },
    {
     "name": "stdout",
     "output_type": "stream",
     "text": [
      "[1.41525804e+04 4.16541917e+01 4.32144701e+02 5.95372688e+00\n",
      " 1.75190144e+01 1.99762571e+03 1.13329293e+01 1.83033432e-01\n",
      " 5.49551971e+01 2.52778843e+01 1.79007251e+00 1.19857837e-01\n",
      " 4.80227778e+00 6.97463073e+02 4.00522200e+00]\n"
     ]
    },
    {
     "name": "stderr",
     "output_type": "stream",
     "text": [
      "<ipython-input-83-5b01b1f3d05f>:4: SettingWithCopyWarning: \n",
      "A value is trying to be set on a copy of a slice from a DataFrame.\n",
      "Try using .loc[row_indexer,col_indexer] = value instead\n",
      "\n",
      "See the caveats in the documentation: https://pandas.pydata.org/pandas-docs/stable/user_guide/indexing.html#returning-a-view-versus-a-copy\n",
      "  test_df[all_cols] = scaler.transform(test_df[all_cols])\n",
      "c:\\Users\\joshy\\anaconda3\\lib\\site-packages\\pandas\\core\\indexing.py:1738: SettingWithCopyWarning: \n",
      "A value is trying to be set on a copy of a slice from a DataFrame.\n",
      "Try using .loc[row_indexer,col_indexer] = value instead\n",
      "\n",
      "See the caveats in the documentation: https://pandas.pydata.org/pandas-docs/stable/user_guide/indexing.html#returning-a-view-versus-a-copy\n",
      "  self._setitem_single_column(loc, value[:, i].tolist(), pi)\n"
     ]
    }
   ],
   "source": [
    "scaler = StandardScaler(copy=False)\n",
    "\n",
    "train_df[all_cols] = scaler.fit_transform(train_df[all_cols], train_df['charged_off'])\n",
    "test_df[all_cols] = scaler.transform(test_df[all_cols])\n",
    "\n",
    "print(scaler.mean_)"
   ]
  },
  {
   "cell_type": "code",
   "execution_count": 84,
   "metadata": {},
   "outputs": [],
   "source": [
    "y_train = train_df['charged_off']\n",
    "y_test = test_df['charged_off']\n",
    "\n",
    "X_train = train_df.drop('charged_off', axis=1)\n",
    "X_test = test_df.drop('charged_off', axis=1)"
   ]
  },
  {
   "cell_type": "code",
   "execution_count": 85,
   "metadata": {},
   "outputs": [],
   "source": [
    "# def easy_input_function(df, label_key, num_epochs, shuffle, batch_size):\n",
    "#   label = df[label_key]\n",
    "#   ds = tf.data.Dataset.from_tensor_slices((dict(df),label))\n",
    "\n",
    "#   if shuffle:\n",
    "#     ds = ds.shuffle(10000)\n",
    "\n",
    "#   ds = ds.batch(batch_size).repeat(num_epochs)\n",
    "\n",
    "#   return ds"
   ]
  },
  {
   "cell_type": "code",
   "execution_count": 86,
   "metadata": {},
   "outputs": [],
   "source": [
    "# train_inpf = functools.partial(easy_input_function, train_df, label_key='charged_off',  num_epochs=5, shuffle=True, batch_size=20000)#300000 #230934\n",
    "# test_inpf = functools.partial(easy_input_function, test_df, label_key='charged_off', num_epochs=1, shuffle=False, batch_size=200000) #200000"
   ]
  },
  {
   "cell_type": "code",
   "execution_count": 87,
   "metadata": {},
   "outputs": [],
   "source": [
    "from keras.models import Sequential\n",
    "from keras.layers import Dense\n",
    "\n",
    "model = Sequential()\n",
    "model.add(Dense(train_df.shape[1] - 1, input_shape=(train_df.shape[1] - 1,), activation='tanh'))\n",
    "model.add(Dense(5, activation='tanh'))\n",
    "model.add(Dense(1, activation='softmax'))\n",
    "model.compile(loss='binary_crossentropy', optimizer='adam', metrics=['accuracy'])"
   ]
  },
  {
   "cell_type": "code",
   "execution_count": 88,
   "metadata": {},
   "outputs": [
    {
     "name": "stdout",
     "output_type": "stream",
     "text": [
      "Epoch 1/5\n",
      "29/29 [==============================] - 1s 10ms/step - loss: 0.5953 - accuracy: 0.1943\n",
      "Epoch 2/5\n",
      "29/29 [==============================] - 0s 10ms/step - loss: 0.4721 - accuracy: 0.1943\n",
      "Epoch 3/5\n",
      "29/29 [==============================] - 0s 11ms/step - loss: 0.4570 - accuracy: 0.1943\n",
      "Epoch 4/5\n",
      "29/29 [==============================] - 0s 10ms/step - loss: 0.4545 - accuracy: 0.1943\n",
      "Epoch 5/5\n",
      "29/29 [==============================] - 0s 12ms/step - loss: 0.4535 - accuracy: 0.1943\n"
     ]
    },
    {
     "data": {
      "text/plain": [
       "<keras.callbacks.History at 0x1f501148160>"
      ]
     },
     "execution_count": 88,
     "metadata": {},
     "output_type": "execute_result"
    }
   ],
   "source": [
    "model.fit(X_train, y_train,epochs=5, batch_size=20000, verbose=1, shuffle=True)"
   ]
  }
 ],
 "metadata": {
  "kernelspec": {
   "display_name": "Python 3.8.8 ('base')",
   "language": "python",
   "name": "python3"
  },
  "language_info": {
   "codemirror_mode": {
    "name": "ipython",
    "version": 3
   },
   "file_extension": ".py",
   "mimetype": "text/x-python",
   "name": "python",
   "nbconvert_exporter": "python",
   "pygments_lexer": "ipython3",
   "version": "3.8.8"
  },
  "orig_nbformat": 4,
  "vscode": {
   "interpreter": {
    "hash": "653ef3dff1567b17fc742ba82e2411e657a18e82067de2bcca7734cac483dd3c"
   }
  }
 },
 "nbformat": 4,
 "nbformat_minor": 2
}
