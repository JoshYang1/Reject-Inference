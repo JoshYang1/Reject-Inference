{
 "cells": [
  {
   "cell_type": "markdown",
   "metadata": {},
   "source": [
    "References\n",
    "\n",
    "https://www.tensorflow.org/tutorials/structured_data/preprocessing_layers"
   ]
  },
  {
   "cell_type": "code",
   "execution_count": 555,
   "metadata": {},
   "outputs": [],
   "source": [
    "import numpy as np\n",
    "import pandas as pd\n",
    "import tensorflow as tf\n",
    "from tensorflow.keras import layers\n",
    "import seaborn as sns\n",
    "from datetime import datetime"
   ]
  },
  {
   "cell_type": "code",
   "execution_count": 556,
   "metadata": {},
   "outputs": [],
   "source": [
    "data = pd.read_csv('input_file_2.csv', sep = ',', index_col=0)"
   ]
  },
  {
   "cell_type": "code",
   "execution_count": 557,
   "metadata": {},
   "outputs": [],
   "source": [
    "data['issue_d'] = pd.to_datetime(data['issue_d'])"
   ]
  },
  {
   "cell_type": "code",
   "execution_count": 558,
   "metadata": {},
   "outputs": [
    {
     "name": "stdout",
     "output_type": "stream",
     "text": [
      "(814643, 21)\n"
     ]
    }
   ],
   "source": [
    "print(data.shape)"
   ]
  },
  {
   "cell_type": "code",
   "execution_count": 559,
   "metadata": {},
   "outputs": [],
   "source": [
    "'''Exclude the period from the beginning of 2016 onward as it is noticed in time-series plots that this period has\n",
    " a significant portion of the expected defaults not reported yet. This would hence be biased.'''\n",
    "\n",
    "data = data.loc[data['issue_d'] < '2016-1-1']"
   ]
  },
  {
   "cell_type": "code",
   "execution_count": 560,
   "metadata": {},
   "outputs": [
    {
     "name": "stdout",
     "output_type": "stream",
     "text": [
      "<class 'pandas.core.frame.DataFrame'>\n",
      "Int64Index: 646878 entries, 0 to 992899\n",
      "Data columns (total 21 columns):\n",
      " #   Column                Non-Null Count   Dtype         \n",
      "---  ------                --------------   -----         \n",
      " 0   loan_amnt             646878 non-null  float64       \n",
      " 1   term                  646878 non-null  int64         \n",
      " 2   installment           646878 non-null  float64       \n",
      " 3   emp_length            615380 non-null  float64       \n",
      " 4   home_ownership        646878 non-null  object        \n",
      " 5   verification_status   646878 non-null  object        \n",
      " 6   issue_d               646878 non-null  datetime64[ns]\n",
      " 7   purpose               646878 non-null  object        \n",
      " 8   dti                   646878 non-null  float64       \n",
      " 9   earliest_cr_line      646878 non-null  int64         \n",
      " 10  open_acc              646878 non-null  float64       \n",
      " 11  pub_rec               646878 non-null  float64       \n",
      " 12  revol_util            646507 non-null  float64       \n",
      " 13  total_acc             646878 non-null  float64       \n",
      " 14  application_type      646878 non-null  object        \n",
      " 15  mort_acc              599699 non-null  float64       \n",
      " 16  pub_rec_bankruptcies  646184 non-null  float64       \n",
      " 17  log_annual_inc        646878 non-null  float64       \n",
      " 18  fico_score            646878 non-null  float64       \n",
      " 19  log_revol_bal         646878 non-null  float64       \n",
      " 20  charged_off           646878 non-null  int64         \n",
      "dtypes: datetime64[ns](1), float64(13), int64(3), object(4)\n",
      "memory usage: 108.6+ MB\n"
     ]
    }
   ],
   "source": [
    "data.info()"
   ]
  },
  {
   "cell_type": "code",
   "execution_count": 561,
   "metadata": {},
   "outputs": [
    {
     "data": {
      "text/plain": [
       "0    516026\n",
       "1    130852\n",
       "Name: charged_off, dtype: int64"
      ]
     },
     "execution_count": 561,
     "metadata": {},
     "output_type": "execute_result"
    }
   ],
   "source": [
    "data['charged_off'].value_counts()"
   ]
  },
  {
   "cell_type": "code",
   "execution_count": 562,
   "metadata": {},
   "outputs": [
    {
     "data": {
      "text/plain": [
       "<AxesSubplot:>"
      ]
     },
     "execution_count": 562,
     "metadata": {},
     "output_type": "execute_result"
    },
    {
     "data": {
      "image/png": "[encoded data removed]",
      "text/plain": [
       "<Figure size 432x288 with 2 Axes>"
      ]
     },
     "metadata": {
      "needs_background": "light"
     },
     "output_type": "display_data"
    }
   ],
   "source": [
    "corr = data.corr()\n",
    "\n",
    "sns.heatmap(corr, xticklabels=corr.columns.values, yticklabels=corr.columns.values)"
   ]
  },
  {
   "cell_type": "code",
   "execution_count": 563,
   "metadata": {},
   "outputs": [],
   "source": [
    "train_df = data.loc[data['issue_d'] < data['issue_d'].quantile(0.90)]\n",
    "test_df = data.loc[data['issue_d'] >= data['issue_d'].quantile(0.90)]"
   ]
  },
  {
   "cell_type": "code",
   "execution_count": 564,
   "metadata": {},
   "outputs": [
    {
     "name": "stderr",
     "output_type": "stream",
     "text": [
      "c:\\Users\\joshy\\anaconda3\\lib\\site-packages\\pandas\\core\\frame.py:4308: SettingWithCopyWarning: \n",
      "A value is trying to be set on a copy of a slice from a DataFrame\n",
      "\n",
      "See the caveats in the documentation: https://pandas.pydata.org/pandas-docs/stable/user_guide/indexing.html#returning-a-view-versus-a-copy\n",
      "  return super().drop(\n"
     ]
    }
   ],
   "source": [
    "train_df.drop('issue_d', axis=1, inplace=True)\n",
    "test_df.drop('issue_d', axis=1, inplace=True)"
   ]
  },
  {
   "cell_type": "code",
   "execution_count": 565,
   "metadata": {},
   "outputs": [
    {
     "name": "stdout",
     "output_type": "stream",
     "text": [
      "to scale      ['loan_amnt', 'term', 'installment', 'emp_length', 'home_ownership', 'verification_status', 'purpose', 'dti', 'earliest_cr_line', 'open_acc', 'pub_rec', 'revol_util', 'total_acc', 'application_type', 'mort_acc', 'pub_rec_bankruptcies', 'log_annual_inc', 'fico_score', 'log_revol_bal', 'charged_off']\n",
      "20\n"
     ]
    }
   ],
   "source": [
    "all_cols = list(train_df.columns)\n",
    "\n",
    "print('to scale     ', all_cols)\n",
    "\n",
    "print(len(all_cols))\n",
    "\n",
    "all_cols.remove('charged_off')\n"
   ]
  },
  {
   "cell_type": "code",
   "execution_count": 566,
   "metadata": {},
   "outputs": [],
   "source": [
    "to_drop_categorical = ['home_ownership', 'verification_status', 'purpose', 'application_type']"
   ]
  },
  {
   "cell_type": "code",
   "execution_count": 567,
   "metadata": {},
   "outputs": [
    {
     "name": "stdout",
     "output_type": "stream",
     "text": [
      "to scale      ['loan_amnt', 'term', 'installment', 'emp_length', 'dti', 'earliest_cr_line', 'open_acc', 'pub_rec', 'revol_util', 'total_acc', 'mort_acc', 'pub_rec_bankruptcies', 'log_annual_inc', 'fico_score', 'log_revol_bal']\n",
      "15\n"
     ]
    }
   ],
   "source": [
    "for i in to_drop_categorical:\n",
    "\n",
    "    all_cols.remove(i)\n",
    "\n",
    "print('to scale     ', all_cols)\n",
    "\n",
    "print(len(all_cols))\n"
   ]
  },
  {
   "cell_type": "code",
   "execution_count": 568,
   "metadata": {},
   "outputs": [
    {
     "data": {
      "text/plain": [
       "loan_amnt                   0\n",
       "term                        0\n",
       "installment                 0\n",
       "emp_length              31498\n",
       "home_ownership              0\n",
       "verification_status         0\n",
       "issue_d                     0\n",
       "purpose                     0\n",
       "dti                         0\n",
       "earliest_cr_line            0\n",
       "open_acc                    0\n",
       "pub_rec                     0\n",
       "revol_util                371\n",
       "total_acc                   0\n",
       "application_type            0\n",
       "mort_acc                47179\n",
       "pub_rec_bankruptcies      694\n",
       "log_annual_inc              0\n",
       "fico_score                  0\n",
       "log_revol_bal               0\n",
       "charged_off                 0\n",
       "dtype: int64"
      ]
     },
     "execution_count": 568,
     "metadata": {},
     "output_type": "execute_result"
    }
   ],
   "source": [
    "data.isna().sum()"
   ]
  },
  {
   "cell_type": "code",
   "execution_count": 569,
   "metadata": {},
   "outputs": [
    {
     "name": "stdout",
     "output_type": "stream",
     "text": [
      "null values       loan_amnt               0\n",
      "term                    0\n",
      "installment             0\n",
      "emp_length              0\n",
      "home_ownership          0\n",
      "verification_status     0\n",
      "purpose                 0\n",
      "dti                     0\n",
      "earliest_cr_line        0\n",
      "open_acc                0\n",
      "pub_rec                 0\n",
      "revol_util              0\n",
      "total_acc               0\n",
      "application_type        0\n",
      "mort_acc                0\n",
      "pub_rec_bankruptcies    0\n",
      "log_annual_inc          0\n",
      "fico_score              0\n",
      "log_revol_bal           0\n",
      "charged_off             0\n",
      "dtype: int64\n",
      "<class 'pandas.core.frame.DataFrame'>\n"
     ]
    },
    {
     "name": "stderr",
     "output_type": "stream",
     "text": [
      "c:\\Users\\joshy\\anaconda3\\lib\\site-packages\\pandas\\core\\frame.py:3191: SettingWithCopyWarning: \n",
      "A value is trying to be set on a copy of a slice from a DataFrame.\n",
      "Try using .loc[row_indexer,col_indexer] = value instead\n",
      "\n",
      "See the caveats in the documentation: https://pandas.pydata.org/pandas-docs/stable/user_guide/indexing.html#returning-a-view-versus-a-copy\n",
      "  self[k1] = value[k2]\n"
     ]
    }
   ],
   "source": [
    "# Similar to SimpleImputer  \n",
    "\n",
    "train_df[all_cols] = train_df[all_cols].fillna(train_df[all_cols].mean())\n",
    "test_df[all_cols] = test_df[all_cols].fillna(train_df[all_cols].mean())\n",
    "print('null values      ', train_df.isnull().sum())\n",
    "print(type(train_df))"
   ]
  },
  {
   "cell_type": "code",
   "execution_count": 570,
   "metadata": {},
   "outputs": [],
   "source": [
    "# Same process as StandardScaler\n",
    "\n",
    "def get_normalization_layer(name, dataset):\n",
    "  # Create a Normalization layer for the feature.\n",
    "  normalizer = layers.Normalization(axis=None)\n",
    "\n",
    "  # Prepare a Dataset that only yields the feature.\n",
    "  feature_ds = dataset.map(lambda x, y: x[name])\n",
    "\n",
    "  # Learn the statistics of the data.\n",
    "  normalizer.adapt(feature_ds)\n",
    "\n",
    "  return normalizer"
   ]
  },
  {
   "cell_type": "code",
   "execution_count": 571,
   "metadata": {},
   "outputs": [],
   "source": [
    "def get_category_encoding_layer(name, dataset, dtype, max_tokens=None):\n",
    "  # Create a layer that turns strings into integer indices.\n",
    "  if dtype == 'string':\n",
    "    index = layers.StringLookup()\n",
    "  # Otherwise, create a layer that turns integer values into integer indices.\n",
    "  else:\n",
    "    index = layers.IntegerLookup()\n",
    "\n",
    "  # Prepare a `tf.data.Dataset` that only yields the feature.\n",
    "  feature_ds = dataset.map(lambda x, y: x[name])\n",
    "\n",
    "  # Learn the set of possible values and assign them a fixed integer index.\n",
    "  index.adapt(feature_ds)\n",
    "\n",
    "  # Encode the integer indices.\n",
    "  encoder = layers.CategoryEncoding(num_tokens=index.vocabulary_size())\n",
    "\n",
    "  # Apply multi-hot encoding to the indices. The lambda function captures the\n",
    "  # layer, so you can use them, or include them in the Keras Functional model later.\n",
    "  return lambda feature: encoder(index(feature))"
   ]
  },
  {
   "cell_type": "code",
   "execution_count": 572,
   "metadata": {},
   "outputs": [],
   "source": [
    "# Need to check the model accuracy with and without balancing classes\n",
    "\n",
    "'''Split by label categories to downsample and provide balanced classes for training.'''\n",
    "\n",
    "train_dat_1s = train_df[train_df['charged_off'] == 1]\n",
    "\n",
    "train_dat_0s = train_df[train_df['charged_off'] == 0]\n",
    "\n",
    "keep_0s = train_dat_0s.sample(frac=train_dat_1s.shape[0]/train_dat_0s.shape[0])\n",
    "\n",
    "train_df = pd.concat([keep_0s,train_dat_1s],axis=0)"
   ]
  },
  {
   "cell_type": "code",
   "execution_count": 573,
   "metadata": {},
   "outputs": [],
   "source": [
    "'''Split by label categories to downsample and provide balanced classes for testing (to have a meaningful AUC score as well).'''\n",
    "\n",
    "test_dat_1s = test_df[test_df['charged_off'] == 1]\n",
    "\n",
    "test_dat_0s = test_df[test_df['charged_off'] == 0]\n",
    "\n",
    "keep_0s = test_dat_0s.sample(frac=test_dat_1s.shape[0]/test_dat_0s.shape[0])\n",
    "\n",
    "test_df = pd.concat([keep_0s,test_dat_1s],axis=0)"
   ]
  },
  {
   "cell_type": "code",
   "execution_count": 574,
   "metadata": {},
   "outputs": [
    {
     "name": "stdout",
     "output_type": "stream",
     "text": [
      "0.2411275717144331 111705 463261\n",
      "train and test shape      (223410, 20) (38294, 20)\n",
      "value counts train      0    111705\n",
      "1    111705\n",
      "Name: charged_off, dtype: int64\n",
      "value counts test      0    19147\n",
      "1    19147\n",
      "Name: charged_off, dtype: int64\n"
     ]
    }
   ],
   "source": [
    "'''rep_1 =[train_dat_1s for x in range(train_dat_0s.shape[0]//train_dat_1s.shape[0] )]\n",
    "keep_1s = pd.concat(rep_1, axis=0)\n",
    "train_df = pd.concat([keep_1s,train_dat_0s],axis=0)'''\n",
    "\n",
    "'''Check for test and training shapes and value counts'''\n",
    "\n",
    "print(train_dat_1s.shape[0]/train_dat_0s.shape[0], train_dat_1s.shape[0], train_dat_0s.shape[0])\n",
    "\n",
    "print('train and test shape     ', train_df.shape, test_df.shape)\n",
    "\n",
    "print('value counts train     ', train_df['charged_off'].value_counts())\n",
    "\n",
    "print('value counts test     ', test_df['charged_off'].value_counts())\n"
   ]
  },
  {
   "cell_type": "code",
   "execution_count": 575,
   "metadata": {},
   "outputs": [],
   "source": [
    "# Test the impact on the model when including repeat, prefetch and shuffle buffer\n",
    "\n",
    "def easy_input_function(df, label_key, shuffle, batch_size):\n",
    "  label = df[label_key]\n",
    "  \n",
    "  ds = tf.data.Dataset.from_tensor_slices((dict(df),label))\n",
    "\n",
    "  if shuffle:\n",
    "    ds = ds.shuffle(10000)\n",
    "\n",
    "  # Split into batches for quicker training and computing resources\n",
    "  ds = ds.batch(batch_size)\n",
    "\n",
    "  return ds"
   ]
  },
  {
   "cell_type": "code",
   "execution_count": 576,
   "metadata": {},
   "outputs": [],
   "source": [
    "train_ds = easy_input_function(train_df, label_key='charged_off', shuffle=False, batch_size=20000)\n",
    "test_ds = easy_input_function(test_df, label_key='charged_off', shuffle=False, batch_size=200000)"
   ]
  },
  {
   "cell_type": "code",
   "execution_count": 577,
   "metadata": {},
   "outputs": [],
   "source": [
    "# [(train_features, label_batch)] = train_ds.take(1)\n",
    "# print('Every feature:', list(train_features.keys()))\n",
    "# print('A batch of loan amounts:', train_features['loan_amnt'])\n",
    "# print('A batch of targets:', label_batch )"
   ]
  },
  {
   "cell_type": "code",
   "execution_count": 578,
   "metadata": {},
   "outputs": [],
   "source": [
    "all_inputs = []\n",
    "encoded_features = []\n",
    "\n",
    "# Numerical features.\n",
    "for header in all_cols:\n",
    "  numeric_col = tf.keras.Input(shape=(1,), name=header)\n",
    "  normalization_layer = get_normalization_layer(header, train_ds)\n",
    "  encoded_numeric_col = normalization_layer(numeric_col)\n",
    "  all_inputs.append(numeric_col)\n",
    "  encoded_features.append(encoded_numeric_col)"
   ]
  },
  {
   "cell_type": "code",
   "execution_count": 579,
   "metadata": {},
   "outputs": [],
   "source": [
    "for header in to_drop_categorical:\n",
    "  categorical_col = tf.keras.Input(shape=(1,), name=header, dtype='string')\n",
    "  encoding_layer = get_category_encoding_layer(name=header,\n",
    "                                               dataset=train_ds,\n",
    "                                               dtype='string',\n",
    "                                               )\n",
    "  encoded_categorical_col = encoding_layer(categorical_col)\n",
    "  all_inputs.append(categorical_col)\n",
    "  encoded_features.append(encoded_categorical_col)"
   ]
  },
  {
   "cell_type": "code",
   "execution_count": 580,
   "metadata": {},
   "outputs": [],
   "source": [
    "# print(type(train_df.iloc[0]['home_ownership']))\n",
    "\n",
    "# for header in to_drop_categorical:\n",
    "\n",
    "#     print(train_df[header].value_counts())"
   ]
  },
  {
   "cell_type": "code",
   "execution_count": 581,
   "metadata": {},
   "outputs": [],
   "source": [
    "all_features = tf.keras.layers.concatenate(encoded_features)\n",
    "# 19 features\n",
    "layer1 = tf.keras.layers.Dense(5, input_dim=19, activation=\"tanh\")(all_features)\n",
    "d1 = tf.keras.layers.Dropout(0.2)(layer1)\n",
    "layer2 = tf.keras.layers.Dense(5, input_dim=5, activation=\"tanh\")(d1)\n",
    "d2 = tf.keras.layers.Dropout(0.2)(layer2)\n",
    "output = tf.keras.layers.Dense(1, activation=\"sigmoid\")(d2)\n",
    "\n",
    "model = tf.keras.Model(all_inputs, output)"
   ]
  },
  {
   "cell_type": "code",
   "execution_count": 582,
   "metadata": {},
   "outputs": [],
   "source": [
    "model.compile(optimizer='adam',\n",
    "                loss=tf.keras.losses.BinaryCrossentropy(from_logits=False),\n",
    "                metrics=[ tf.keras.metrics.AUC(from_logits=False), tf.keras.metrics.TruePositives(),tf.keras.metrics.FalseNegatives(), tf.keras.metrics.FalsePositives(), tf.keras.metrics.TrueNegatives()])"
   ]
  },
  {
   "cell_type": "code",
   "execution_count": 583,
   "metadata": {},
   "outputs": [],
   "source": [
    "now = datetime.now()\n",
    "dt_string = now.strftime(\"%d-%m-%Y %H-%M-%S\")"
   ]
  },
  {
   "cell_type": "code",
   "execution_count": 584,
   "metadata": {},
   "outputs": [
    {
     "name": "stdout",
     "output_type": "stream",
     "text": [
      "Epoch 1/10\n"
     ]
    },
    {
     "name": "stderr",
     "output_type": "stream",
     "text": [
      "C:\\Users\\joshy\\AppData\\Roaming\\Python\\Python38\\site-packages\\keras\\engine\\functional.py:582: UserWarning: Input dict contained keys ['charged_off'] which did not match any model input. They will be ignored by the model.\n",
      "  warnings.warn(\n"
     ]
    },
    {
     "name": "stdout",
     "output_type": "stream",
     "text": [
      "12/12 [==============================] - 4s 228ms/step - loss: 0.6934 - auc_62: 0.5231 - true_positives_2: 53307.0000 - false_negatives_6: 58398.0000 - false_positives_1: 49772.0000 - true_negatives_1: 61933.0000\n",
      "Epoch 2/10\n",
      "12/12 [==============================] - 3s 210ms/step - loss: 0.6884 - auc_62: 0.5557 - true_positives_2: 54907.0000 - false_negatives_6: 56798.0000 - false_positives_1: 46023.0000 - true_negatives_1: 65682.0000\n",
      "Epoch 3/10\n",
      "12/12 [==============================] - 3s 215ms/step - loss: 0.6859 - auc_62: 0.5708 - true_positives_2: 57193.0000 - false_negatives_6: 54512.0000 - false_positives_1: 45710.0000 - true_negatives_1: 65995.0000\n",
      "Epoch 4/10\n",
      "12/12 [==============================] - 3s 211ms/step - loss: 0.6839 - auc_62: 0.5814 - true_positives_2: 59287.0000 - false_negatives_6: 52418.0000 - false_positives_1: 46547.0000 - true_negatives_1: 65158.0000\n",
      "Epoch 5/10\n",
      "12/12 [==============================] - 3s 211ms/step - loss: 0.6813 - auc_62: 0.5950 - true_positives_2: 61937.0000 - false_negatives_6: 49768.0000 - false_positives_1: 46708.0000 - true_negatives_1: 64997.0000\n",
      "Epoch 6/10\n",
      "12/12 [==============================] - 3s 209ms/step - loss: 0.6794 - auc_62: 0.6040 - true_positives_2: 63932.0000 - false_negatives_6: 47773.0000 - false_positives_1: 47281.0000 - true_negatives_1: 64424.0000\n",
      "Epoch 7/10\n",
      "12/12 [==============================] - 3s 210ms/step - loss: 0.6774 - auc_62: 0.6109 - true_positives_2: 65594.0000 - false_negatives_6: 46111.0000 - false_positives_1: 47785.0000 - true_negatives_1: 63920.0000\n",
      "Epoch 8/10\n",
      "12/12 [==============================] - 3s 211ms/step - loss: 0.6748 - auc_62: 0.6215 - true_positives_2: 67705.0000 - false_negatives_6: 44000.0000 - false_positives_1: 48293.0000 - true_negatives_1: 63412.0000\n",
      "Epoch 9/10\n",
      "12/12 [==============================] - 3s 211ms/step - loss: 0.6729 - auc_62: 0.6264 - true_positives_2: 69092.0000 - false_negatives_6: 42613.0000 - false_positives_1: 48895.0000 - true_negatives_1: 62810.0000\n",
      "Epoch 10/10\n",
      "12/12 [==============================] - 3s 208ms/step - loss: 0.6711 - auc_62: 0.6315 - true_positives_2: 70278.0000 - false_negatives_6: 41427.0000 - false_positives_1: 49113.0000 - true_negatives_1: 62592.0000\n"
     ]
    }
   ],
   "source": [
    "history = model.fit(train_ds, epochs=20)"
   ]
  },
  {
   "cell_type": "code",
   "execution_count": 585,
   "metadata": {},
   "outputs": [
    {
     "name": "stdout",
     "output_type": "stream",
     "text": [
      "Model: \"model_36\"\n",
      "__________________________________________________________________________________________________\n",
      "Layer (type)                    Output Shape         Param #     Connected to                     \n",
      "==================================================================================================\n",
      "home_ownership (InputLayer)     [(None, 1)]          0                                            \n",
      "__________________________________________________________________________________________________\n",
      "verification_status (InputLayer [(None, 1)]          0                                            \n",
      "__________________________________________________________________________________________________\n",
      "purpose (InputLayer)            [(None, 1)]          0                                            \n",
      "__________________________________________________________________________________________________\n",
      "application_type (InputLayer)   [(None, 1)]          0                                            \n",
      "__________________________________________________________________________________________________\n",
      "loan_amnt (InputLayer)          [(None, 1)]          0                                            \n",
      "__________________________________________________________________________________________________\n",
      "term (InputLayer)               [(None, 1)]          0                                            \n",
      "__________________________________________________________________________________________________\n",
      "installment (InputLayer)        [(None, 1)]          0                                            \n",
      "__________________________________________________________________________________________________\n",
      "emp_length (InputLayer)         [(None, 1)]          0                                            \n",
      "__________________________________________________________________________________________________\n",
      "dti (InputLayer)                [(None, 1)]          0                                            \n",
      "__________________________________________________________________________________________________\n",
      "earliest_cr_line (InputLayer)   [(None, 1)]          0                                            \n",
      "__________________________________________________________________________________________________\n",
      "open_acc (InputLayer)           [(None, 1)]          0                                            \n",
      "__________________________________________________________________________________________________\n",
      "pub_rec (InputLayer)            [(None, 1)]          0                                            \n",
      "__________________________________________________________________________________________________\n",
      "revol_util (InputLayer)         [(None, 1)]          0                                            \n",
      "__________________________________________________________________________________________________\n",
      "total_acc (InputLayer)          [(None, 1)]          0                                            \n",
      "__________________________________________________________________________________________________\n",
      "mort_acc (InputLayer)           [(None, 1)]          0                                            \n",
      "__________________________________________________________________________________________________\n",
      "pub_rec_bankruptcies (InputLaye [(None, 1)]          0                                            \n",
      "__________________________________________________________________________________________________\n",
      "log_annual_inc (InputLayer)     [(None, 1)]          0                                            \n",
      "__________________________________________________________________________________________________\n",
      "fico_score (InputLayer)         [(None, 1)]          0                                            \n",
      "__________________________________________________________________________________________________\n",
      "log_revol_bal (InputLayer)      [(None, 1)]          0                                            \n",
      "__________________________________________________________________________________________________\n",
      "string_lookup_32 (StringLookup) (None, 1)            0           home_ownership[0][0]             \n",
      "__________________________________________________________________________________________________\n",
      "string_lookup_33 (StringLookup) (None, 1)            0           verification_status[0][0]        \n",
      "__________________________________________________________________________________________________\n",
      "string_lookup_34 (StringLookup) (None, 1)            0           purpose[0][0]                    \n",
      "__________________________________________________________________________________________________\n",
      "string_lookup_35 (StringLookup) (None, 1)            0           application_type[0][0]           \n",
      "__________________________________________________________________________________________________\n",
      "normalization_126 (Normalizatio (None, 1)            3           loan_amnt[0][0]                  \n",
      "__________________________________________________________________________________________________\n",
      "normalization_127 (Normalizatio (None, 1)            3           term[0][0]                       \n",
      "__________________________________________________________________________________________________\n",
      "normalization_128 (Normalizatio (None, 1)            3           installment[0][0]                \n",
      "__________________________________________________________________________________________________\n",
      "normalization_129 (Normalizatio (None, 1)            3           emp_length[0][0]                 \n",
      "__________________________________________________________________________________________________\n",
      "normalization_130 (Normalizatio (None, 1)            3           dti[0][0]                        \n",
      "__________________________________________________________________________________________________\n",
      "normalization_131 (Normalizatio (None, 1)            3           earliest_cr_line[0][0]           \n",
      "__________________________________________________________________________________________________\n",
      "normalization_132 (Normalizatio (None, 1)            3           open_acc[0][0]                   \n",
      "__________________________________________________________________________________________________\n",
      "normalization_133 (Normalizatio (None, 1)            3           pub_rec[0][0]                    \n",
      "__________________________________________________________________________________________________\n",
      "normalization_134 (Normalizatio (None, 1)            3           revol_util[0][0]                 \n",
      "__________________________________________________________________________________________________\n",
      "normalization_135 (Normalizatio (None, 1)            3           total_acc[0][0]                  \n",
      "__________________________________________________________________________________________________\n",
      "normalization_136 (Normalizatio (None, 1)            3           mort_acc[0][0]                   \n",
      "__________________________________________________________________________________________________\n",
      "normalization_137 (Normalizatio (None, 1)            3           pub_rec_bankruptcies[0][0]       \n",
      "__________________________________________________________________________________________________\n",
      "normalization_138 (Normalizatio (None, 1)            3           log_annual_inc[0][0]             \n",
      "__________________________________________________________________________________________________\n",
      "normalization_139 (Normalizatio (None, 1)            3           fico_score[0][0]                 \n",
      "__________________________________________________________________________________________________\n",
      "normalization_140 (Normalizatio (None, 1)            3           log_revol_bal[0][0]              \n",
      "__________________________________________________________________________________________________\n",
      "category_encoding_32 (CategoryE (None, 4)            0           string_lookup_32[0][0]           \n",
      "__________________________________________________________________________________________________\n",
      "category_encoding_33 (CategoryE (None, 4)            0           string_lookup_33[0][0]           \n",
      "__________________________________________________________________________________________________\n",
      "category_encoding_34 (CategoryE (None, 15)           0           string_lookup_34[0][0]           \n",
      "__________________________________________________________________________________________________\n",
      "category_encoding_35 (CategoryE (None, 2)            0           string_lookup_35[0][0]           \n",
      "__________________________________________________________________________________________________\n",
      "concatenate_37 (Concatenate)    (None, 40)           0           normalization_126[0][0]          \n",
      "                                                                 normalization_127[0][0]          \n",
      "                                                                 normalization_128[0][0]          \n",
      "                                                                 normalization_129[0][0]          \n",
      "                                                                 normalization_130[0][0]          \n",
      "                                                                 normalization_131[0][0]          \n",
      "                                                                 normalization_132[0][0]          \n",
      "                                                                 normalization_133[0][0]          \n",
      "                                                                 normalization_134[0][0]          \n",
      "                                                                 normalization_135[0][0]          \n",
      "                                                                 normalization_136[0][0]          \n",
      "                                                                 normalization_137[0][0]          \n",
      "                                                                 normalization_138[0][0]          \n",
      "                                                                 normalization_139[0][0]          \n",
      "                                                                 normalization_140[0][0]          \n",
      "                                                                 category_encoding_32[0][0]       \n",
      "                                                                 category_encoding_33[0][0]       \n",
      "                                                                 category_encoding_34[0][0]       \n",
      "                                                                 category_encoding_35[0][0]       \n",
      "__________________________________________________________________________________________________\n",
      "dense_108 (Dense)               (None, 5)            205         concatenate_37[0][0]             \n",
      "__________________________________________________________________________________________________\n",
      "dropout_69 (Dropout)            (None, 5)            0           dense_108[0][0]                  \n",
      "__________________________________________________________________________________________________\n",
      "dense_109 (Dense)               (None, 5)            30          dropout_69[0][0]                 \n",
      "__________________________________________________________________________________________________\n",
      "dropout_70 (Dropout)            (None, 5)            0           dense_109[0][0]                  \n",
      "__________________________________________________________________________________________________\n",
      "dense_110 (Dense)               (None, 1)            6           dropout_70[0][0]                 \n",
      "==================================================================================================\n",
      "Total params: 286\n",
      "Trainable params: 241\n",
      "Non-trainable params: 45\n",
      "__________________________________________________________________________________________________\n",
      "None\n"
     ]
    }
   ],
   "source": [
    "print(model.summary())"
   ]
  },
  {
   "cell_type": "code",
   "execution_count": 586,
   "metadata": {},
   "outputs": [
    {
     "name": "stdout",
     "output_type": "stream",
     "text": [
      "1/1 [==============================] - 1s 1s/step - loss: 0.6666 - auc_62: 0.6577 - true_positives_2: 13140.0000 - false_negatives_6: 6007.0000 - false_positives_1: 8845.0000 - true_negatives_1: 10302.0000\n"
     ]
    },
    {
     "ename": "ValueError",
     "evalue": "too many values to unpack (expected 2)",
     "output_type": "error",
     "traceback": [
      "\u001b[1;31m---------------------------------------------------------------------------\u001b[0m",
      "\u001b[1;31mValueError\u001b[0m                                Traceback (most recent call last)",
      "\u001b[1;32m<ipython-input-586-34c71d3321a8>\u001b[0m in \u001b[0;36m<module>\u001b[1;34m\u001b[0m\n\u001b[1;32m----> 1\u001b[1;33m \u001b[0mloss\u001b[0m\u001b[1;33m,\u001b[0m \u001b[0maccuracy\u001b[0m \u001b[1;33m=\u001b[0m \u001b[0mmodel\u001b[0m\u001b[1;33m.\u001b[0m\u001b[0mevaluate\u001b[0m\u001b[1;33m(\u001b[0m\u001b[0mtest_ds\u001b[0m\u001b[1;33m)\u001b[0m\u001b[1;33m\u001b[0m\u001b[1;33m\u001b[0m\u001b[0m\n\u001b[0m",
      "\u001b[1;31mValueError\u001b[0m: too many values to unpack (expected 2)"
     ]
    }
   ],
   "source": [
    "loss, auc, TP, FN, FP, TN = model.evaluate(test_ds)"
   ]
  },
  {
   "cell_type": "code",
   "execution_count": null,
   "metadata": {},
   "outputs": [],
   "source": [
    "filename = 'Results %s.txt' % (dt_string)\n",
    "\n",
    "\n",
    "with open(filename, 'w') as f:\n",
    "    f.write(\"Model Built at \")\n",
    "    f.write(\"%s\\n\" % dt_string)\n",
    "    f.write(\"%s\\n\" % \"Model Architecture\")\n",
    "    f.write(\"%s\\n\" % model.to_json(indent=4))\n",
    "    f.write(\"%s\\n\" % \"Training AUC\")\n",
    "    for score in history.history[r'auc_51']:\n",
    "        f.write(\"%s\\n\" % score)\n",
    "    f.write(\"%s\\n\" % \"Test AUC\")\n",
    "    f.write(\"%s\\n\" % str(accuracy))\n",
    "    f.close()\n"
   ]
  },
  {
   "cell_type": "code",
   "execution_count": null,
   "metadata": {},
   "outputs": [
    {
     "data": {
      "text/plain": [
       "{'loss': [0.7277415990829468,\n",
       "  0.6566569805145264,\n",
       "  0.60722416639328,\n",
       "  0.5672823190689087,\n",
       "  0.5365262031555176,\n",
       "  0.5152217745780945,\n",
       "  0.502379298210144,\n",
       "  0.49490824341773987,\n",
       "  0.4894394278526306,\n",
       "  0.48572883009910583],\n",
       " 'auc_51': [0.5205937623977661,\n",
       "  0.5312424898147583,\n",
       "  0.5388539433479309,\n",
       "  0.5499387383460999,\n",
       "  0.5603171586990356,\n",
       "  0.5709543228149414,\n",
       "  0.5822528004646301,\n",
       "  0.5937248468399048,\n",
       "  0.6062352657318115,\n",
       "  0.6160184741020203]}"
      ]
     },
     "execution_count": 507,
     "metadata": {},
     "output_type": "execute_result"
    }
   ],
   "source": [
    "history.history"
   ]
  }
 ],
 "metadata": {
  "kernelspec": {
   "display_name": "Python 3.8.8 ('base')",
   "language": "python",
   "name": "python3"
  },
  "language_info": {
   "codemirror_mode": {
    "name": "ipython",
    "version": 3
   },
   "file_extension": ".py",
   "mimetype": "text/x-python",
   "name": "python",
   "nbconvert_exporter": "python",
   "pygments_lexer": "ipython3",
   "version": "3.8.8"
  },
  "orig_nbformat": 4,
  "vscode": {
   "interpreter": {
    "hash": "653ef3dff1567b17fc742ba82e2411e657a18e82067de2bcca7734cac483dd3c"
   }
  }
 },
 "nbformat": 4,
 "nbformat_minor": 2
}
